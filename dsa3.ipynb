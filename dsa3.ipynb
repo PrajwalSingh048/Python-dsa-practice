{
  "nbformat": 4,
  "nbformat_minor": 0,
  "metadata": {
    "colab": {
      "provenance": [],
      "authorship_tag": "ABX9TyOwBvis6KkcL+1UTN7PBt0z",
      "include_colab_link": true
    },
    "kernelspec": {
      "name": "python3",
      "display_name": "Python 3"
    },
    "language_info": {
      "name": "python"
    }
  },
  "cells": [
    {
      "cell_type": "markdown",
      "metadata": {
        "id": "view-in-github",
        "colab_type": "text"
      },
      "source": [
        "<a href=\"https://colab.research.google.com/github/PrajwalSingh048/Python-dsa-practice/blob/main/dsa3.ipynb\" target=\"_parent\"><img src=\"https://colab.research.google.com/assets/colab-badge.svg\" alt=\"Open In Colab\"/></a>"
      ]
    },
    {
      "cell_type": "markdown",
      "source": [
        "Reverse a String"
      ],
      "metadata": {
        "id": "265SQ9LaLVtP"
      }
    },
    {
      "cell_type": "code",
      "execution_count": null,
      "metadata": {
        "colab": {
          "base_uri": "https://localhost:8080/"
        },
        "id": "Pt2oMBjRLQeg",
        "outputId": "a531df34-4994-4e0d-f772-62c5438efa1d"
      },
      "outputs": [
        {
          "output_type": "stream",
          "name": "stdout",
          "text": [
            "The original string is : Geeksforgeeks\n",
            "The reversed string(using loops) is : skeegrofskeeG\n"
          ]
        }
      ],
      "source": [
        "def reverse(s):\n",
        "\tstr = \"\"\n",
        "\tfor i in s:\n",
        "\t\tstr = i + str\n",
        "\treturn str\n",
        "\n",
        "s = \"Geeksforgeeks\"\n",
        "\n",
        "print(\"The original string is : \", end=\"\")\n",
        "print(s)\n",
        "\n",
        "print(\"The reversed string(using loops) is : \", end=\"\")\n",
        "print(reverse(s))\n"
      ]
    },
    {
      "cell_type": "markdown",
      "source": [
        "Check whether a String is Palindrome or not"
      ],
      "metadata": {
        "id": "Gy2uhjbC6go6"
      }
    },
    {
      "cell_type": "code",
      "source": [
        "# function which return reverse of a string\n",
        "\n",
        "def isPalindrome(s):\n",
        "\treturn s == s[::-1]\n",
        "\n",
        "\n",
        "# Driver code\n",
        "s = \"malayalam\"\n",
        "ans = isPalindrome(s)\n",
        "\n",
        "if ans:\n",
        "\tprint(\"Yes\")\n",
        "else:\n",
        "\tprint(\"No\")\n"
      ],
      "metadata": {
        "colab": {
          "base_uri": "https://localhost:8080/"
        },
        "id": "jwgwFmXr6vQy",
        "outputId": "43c8da55-aaf9-4f89-d914-434b37dd8eca"
      },
      "execution_count": null,
      "outputs": [
        {
          "output_type": "stream",
          "name": "stdout",
          "text": [
            "Yes\n"
          ]
        }
      ]
    },
    {
      "cell_type": "markdown",
      "source": [
        "Find Duplicate characters in a string"
      ],
      "metadata": {
        "id": "oH28ZUB7LuBU"
      }
    },
    {
      "cell_type": "code",
      "source": [
        "def duplicate_characters(string):\n",
        "\t# Create an empty dictionary\n",
        "\tchars = {}\n",
        "\n",
        "\t# Iterate through each character in the string\n",
        "\tfor char in string:\n",
        "\t\t# If the character is not in the dictionary, add it\n",
        "\t\tif char not in chars:\n",
        "\t\t\tchars[char] = 1\n",
        "\t\telse:\n",
        "\t\t\t# If the character is already in the dictionary, increment the count\n",
        "\t\t\tchars[char] += 1\n",
        "\n",
        "\t# Create a list to store the duplicate characters\n",
        "\tduplicates = []\n",
        "\n",
        "\t# Iterate through the dictionary to find characters with count greater than 1\n",
        "\tfor char, count in chars.items():\n",
        "\t\tif count > 1:\n",
        "\t\t\tduplicates.append(char)\n",
        "\n",
        "\treturn duplicates\n",
        "\n",
        "# Test cases\n",
        "print(duplicate_characters(\"geeksforgeeks\"))\n"
      ],
      "metadata": {
        "colab": {
          "base_uri": "https://localhost:8080/"
        },
        "id": "sBpfIgnfLxeu",
        "outputId": "2f95731f-dff7-4e76-d0aa-108497231e14"
      },
      "execution_count": null,
      "outputs": [
        {
          "output_type": "stream",
          "name": "stdout",
          "text": [
            "['g', 'e', 'k', 's']\n"
          ]
        }
      ]
    },
    {
      "cell_type": "markdown",
      "source": [
        "Write a Code to check whether one string is a rotation of another"
      ],
      "metadata": {
        "id": "uEEX5MwEMpFa"
      }
    },
    {
      "cell_type": "code",
      "source": [
        "# Python3 program for the above approach\n",
        "\n",
        "\n",
        "def checkString(s1, s2, indexFound, Size):\n",
        "\tfor i in range(Size):\n",
        "\n",
        "\t\t# check whether the character is equal or not\n",
        "\t\tif(s1[i] != s2[(indexFound + i) % Size]):\n",
        "\t\t\treturn False\n",
        "\n",
        "\t\t# %Size keeps (indexFound+i) in bounds,\n",
        "\t\t# since it ensures it's value is always less than Size\n",
        "\treturn True\n",
        "\n",
        "\n",
        "# driver code\n",
        "s1 = \"abcd\"\n",
        "s2 = \"cdab\"\n",
        "\n",
        "if(len(s1) != len(s2)):\n",
        "\tprint(\"s2 is not a rotation on s1\")\n",
        "\n",
        "else:\n",
        "\n",
        "\tindexes = [] # store occurrences of the first character of s1\n",
        "\tSize = len(s1)\n",
        "\tfirstChar = s1[0]\n",
        "\tfor i in range(Size):\n",
        "\t\tif(s2[i] == firstChar):\n",
        "\t\t\tindexes.append(i)\n",
        "\n",
        "\tisRotation = False\n",
        "\n",
        "\t# check if the strings are rotation of each other\n",
        "\t# for every occurrence of firstChar in s2\n",
        "\tfor idx in indexes:\n",
        "\n",
        "\t\tisRotation = checkString(s1, s2, idx, Size)\n",
        "\n",
        "\t\tif(isRotation):\n",
        "\t\t\tbreak\n",
        "\n",
        "\tif(isRotation):\n",
        "\t\tprint(\"Strings are rotations of each other\")\n",
        "\telse:\n",
        "\t\tprint(\"Strings are not rotations of each other\")\n",
        "\n",
        "\n"
      ],
      "metadata": {
        "colab": {
          "base_uri": "https://localhost:8080/"
        },
        "id": "-Hvidga9M7li",
        "outputId": "55b866bf-1b64-42cd-f69b-79aeb0f77887"
      },
      "execution_count": null,
      "outputs": [
        {
          "output_type": "stream",
          "name": "stdout",
          "text": [
            "Strings are rotations of each other\n"
          ]
        }
      ]
    },
    {
      "cell_type": "markdown",
      "source": [
        "Write a Program to check whether a string is a valid shuffle of two strings or not"
      ],
      "metadata": {
        "id": "BK4DPt2cNmrq"
      }
    },
    {
      "cell_type": "code",
      "source": [
        "# Python3 program to check if string\n",
        "# str1 is subof str2 or not.\n",
        "\n",
        "# Function two check A\n",
        "# is shuffled subof B\n",
        "# or not\n",
        "def isShuffledSubstring(A, B):\n",
        "\tn = len(A)\n",
        "\tm = len(B)\n",
        "\n",
        "\t# Return false if length of\n",
        "\t# A is greater than\n",
        "\t# length of B\n",
        "\tif (n > m):\n",
        "\t\treturn False\n",
        "\telse:\n",
        "\n",
        "\t\t# Sort A\n",
        "\t\tA = sorted(A)\n",
        "\n",
        "\t\t# Traverse B\n",
        "\t\tfor i in range(m):\n",
        "\n",
        "\t\t\t# Return false if (i+n-1 >= m)\n",
        "\t\t\t# doesn't satisfy\n",
        "\t\t\tif (i + n - 1 >= m):\n",
        "\t\t\t\treturn False\n",
        "\n",
        "\t\t\t# Initialise the new string\n",
        "\t\t\tStr = \"\"\n",
        "\n",
        "\t\t\t# Copy the characters of\n",
        "\t\t\t# B in str till\n",
        "\t\t\t# length n\n",
        "\t\t\tfor j in range(n):\n",
        "\t\t\t\tStr += (B[i + j])\n",
        "\n",
        "\t\t\t# Sort the str\n",
        "\t\t\tStr = sorted(Str)\n",
        "\n",
        "\t\t\t# Return true if sorted\n",
        "\t\t\t# of \"str\" & sorted\n",
        "\t\t\t# of \"A\" are equal\n",
        "\t\t\tif (Str == A):\n",
        "\t\t\t\treturn True\n",
        "\n",
        "# Driver Code\n",
        "if __name__ == '__main__':\n",
        "\t\n",
        "\t# Input str1 and str2\n",
        "\tStr1 = \"geekforgeeks\"\n",
        "\tStr2 = \"ekegorfkeegsgeek\"\n",
        "\n",
        "\t# Function return true if\n",
        "\t# str1 is shuffled substring\n",
        "\t# of str2\n",
        "\ta = isShuffledSubstring(Str1, Str2)\n",
        "\n",
        "\t# If str1 is subof str2\n",
        "\t# print \"YES\" else print \"NO\"\n",
        "\tif (a):\n",
        "\t\tprint(\"YES\")\n",
        "\telse:\n",
        "\t\tprint(\"NO\")\n",
        "\n",
        "\n"
      ],
      "metadata": {
        "colab": {
          "base_uri": "https://localhost:8080/"
        },
        "id": "UFsVugdxNmLI",
        "outputId": "8e97354e-3756-446f-e59b-d2d2b0156e14"
      },
      "execution_count": null,
      "outputs": [
        {
          "output_type": "stream",
          "name": "stdout",
          "text": [
            "YES\n"
          ]
        }
      ]
    },
    {
      "cell_type": "markdown",
      "source": [
        "Count and Say problem"
      ],
      "metadata": {
        "id": "xlHglIEuOJnG"
      }
    },
    {
      "cell_type": "code",
      "source": [
        "# Python 3 program to find\n",
        "# n'th term in look and\n",
        "# say sequence\n",
        "\n",
        "# Returns n'th term in\n",
        "# look-and-say sequence\n",
        "def countnndSay(n):\n",
        "\t\n",
        "\t# Base cases\n",
        "\tif (n == 1):\n",
        "\t\treturn \"1\"\n",
        "\tif (n == 2):\n",
        "\t\treturn \"11\"\n",
        "\n",
        "\t# Find n'th term by generating\n",
        "\t# all terms from 3 to n-1.\n",
        "\t# Every term is generated using\n",
        "\t# previous term\n",
        "\t\n",
        "\t# Initialize previous term\n",
        "\ts = \"11\"\n",
        "\tfor i in range(3, n + 1):\n",
        "\t\t\n",
        "\t\t# In below for loop,\n",
        "\t\t# previous character is\n",
        "\t\t# processed in current\n",
        "\t\t# iteration. That is why\n",
        "\t\t# a dummy character is\n",
        "\t\t# added to make sure that\n",
        "\t\t# loop runs one extra iteration.\n",
        "\t\ts += '$'\n",
        "\t\tl = len(s)\n",
        "\n",
        "\t\tcnt = 1 # Initialize count\n",
        "\t\t\t\t# of matching chars\n",
        "\t\ttmp = \"\" # Initialize i'th\n",
        "\t\t\t\t# term in series\n",
        "\n",
        "\t\t# Process previous term to\n",
        "\t\t# find the next term\n",
        "\t\tfor j in range(1 , l):\n",
        "\t\t\t\n",
        "\t\t\t# If current character\n",
        "\t\t\t# doesn't match\n",
        "\t\t\tif (s[j] != s[j - 1]):\n",
        "\t\t\t\t\n",
        "\t\t\t\t# Append count of\n",
        "\t\t\t\t# str[j-1] to temp\n",
        "\t\t\t\ttmp += str(cnt + 0)\n",
        "\n",
        "\t\t\t\t# Append str[j-1]\n",
        "\t\t\t\ttmp += s[j - 1]\n",
        "\n",
        "\t\t\t\t# Reset count\n",
        "\t\t\t\tcnt = 1\n",
        "\t\t\t\n",
        "\t\t\t# If matches, then increment\n",
        "\t\t\t# count of matching characters\n",
        "\t\t\telse:\n",
        "\t\t\t\tcnt += 1\n",
        "\n",
        "\t\t# Update str\n",
        "\t\ts = tmp\n",
        "\treturn s;\n",
        "\n",
        "# Driver Code\n",
        "N = 3\n",
        "print(countnndSay(N))\n",
        "\n",
        "\n"
      ],
      "metadata": {
        "colab": {
          "base_uri": "https://localhost:8080/"
        },
        "id": "hiM6mPEDOKNi",
        "outputId": "f960c834-7fdf-47ce-d9ab-d23037083f18"
      },
      "execution_count": null,
      "outputs": [
        {
          "output_type": "stream",
          "name": "stdout",
          "text": [
            "21\n"
          ]
        }
      ]
    },
    {
      "cell_type": "markdown",
      "source": [
        "Write a program to find the longest Palindrome in a string.[ Longest palindromic Substring]"
      ],
      "metadata": {
        "id": "FDWA69MGOKqt"
      }
    },
    {
      "cell_type": "code",
      "source": [
        "# A Python3 solution for longest palindrome\n",
        "\n",
        "# Function to print a subString str[low..high]\n",
        "def printSubStr(str, low, high):\n",
        "\t\n",
        "\tfor i in range(low, high + 1):\n",
        "\t\tprint(str[i], end = \"\")\n",
        "\n",
        "# This function prints the\n",
        "# longest palindrome subString\n",
        "# It also returns the length\n",
        "# of the longest palindrome\n",
        "def longestPalSubstr(str):\n",
        "\t\n",
        "\t# Get length of input String\n",
        "\tn = len(str)\n",
        "\t\n",
        "\t# All subStrings of length 1\n",
        "\t# are palindromes\n",
        "\tmaxLength = 1\n",
        "\tstart = 0\n",
        "\t\n",
        "\t# Nested loop to mark start\n",
        "\t# and end index\n",
        "\tfor i in range(n):\n",
        "\t\tfor j in range(i, n):\n",
        "\t\t\tflag = 1\n",
        "\t\t\t\n",
        "\t\t\t# Check palindrome\n",
        "\t\t\tfor k in range(0, ((j - i) // 2) + 1):\n",
        "\t\t\t\tif (str[i + k] != str[j - k]):\n",
        "\t\t\t\t\tflag = 0\n",
        "\n",
        "\t\t\t# Palindrome\n",
        "\t\t\tif (flag != 0 and (j - i + 1) > maxLength):\n",
        "\t\t\t\tstart = i\n",
        "\t\t\t\tmaxLength = j - i + 1\n",
        "\t\t\t\t\n",
        "\tprint(\"Longest palindrome subString is: \", end = \"\")\n",
        "\tprintSubStr(str, start, start + maxLength - 1)\n",
        "\n",
        "\t# Return length of LPS\n",
        "\treturn maxLength\n",
        "\n",
        "# Driver Code\n",
        "if __name__ == '__main__':\n",
        "\n",
        "\tstr = \"forgeeksskeegfor\"\n",
        "\t\n",
        "\tprint(\"\\nLength is: \", longestPalSubstr(str))\n",
        "\n",
        "\n"
      ],
      "metadata": {
        "colab": {
          "base_uri": "https://localhost:8080/"
        },
        "id": "1VyAoBe3OMp5",
        "outputId": "4dac8209-f37a-4aa6-d0ec-f6715289a2ef"
      },
      "execution_count": null,
      "outputs": [
        {
          "output_type": "stream",
          "name": "stdout",
          "text": [
            "Longest palindrome subString is: geeksskeeg\n",
            "Length is:  10\n"
          ]
        }
      ]
    }
  ]
}