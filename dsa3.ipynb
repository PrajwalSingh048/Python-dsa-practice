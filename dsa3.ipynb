{
  "nbformat": 4,
  "nbformat_minor": 0,
  "metadata": {
    "colab": {
      "provenance": [],
      "authorship_tag": "ABX9TyOivCLI50F/qCpEvSVTwSDh",
      "include_colab_link": true
    },
    "kernelspec": {
      "name": "python3",
      "display_name": "Python 3"
    },
    "language_info": {
      "name": "python"
    }
  },
  "cells": [
    {
      "cell_type": "markdown",
      "metadata": {
        "id": "view-in-github",
        "colab_type": "text"
      },
      "source": [
        "<a href=\"https://colab.research.google.com/github/PrajwalSingh048/Python-dsa-practice/blob/main/dsa3.ipynb\" target=\"_parent\"><img src=\"https://colab.research.google.com/assets/colab-badge.svg\" alt=\"Open In Colab\"/></a>"
      ]
    },
    {
      "cell_type": "markdown",
      "source": [
        "Reverse a String"
      ],
      "metadata": {
        "id": "265SQ9LaLVtP"
      }
    },
    {
      "cell_type": "code",
      "execution_count": null,
      "metadata": {
        "colab": {
          "base_uri": "https://localhost:8080/"
        },
        "id": "Pt2oMBjRLQeg",
        "outputId": "a531df34-4994-4e0d-f772-62c5438efa1d"
      },
      "outputs": [
        {
          "output_type": "stream",
          "name": "stdout",
          "text": [
            "The original string is : Geeksforgeeks\n",
            "The reversed string(using loops) is : skeegrofskeeG\n"
          ]
        }
      ],
      "source": [
        "def reverse(s):\n",
        "\tstr = \"\"\n",
        "\tfor i in s:\n",
        "\t\tstr = i + str\n",
        "\treturn str\n",
        "\n",
        "s = \"Geeksforgeeks\"\n",
        "\n",
        "print(\"The original string is : \", end=\"\")\n",
        "print(s)\n",
        "\n",
        "print(\"The reversed string(using loops) is : \", end=\"\")\n",
        "print(reverse(s))\n"
      ]
    },
    {
      "cell_type": "markdown",
      "source": [
        "Check whether a String is Palindrome or not"
      ],
      "metadata": {
        "id": "Gy2uhjbC6go6"
      }
    },
    {
      "cell_type": "code",
      "source": [
        "# function which return reverse of a string\n",
        "\n",
        "def isPalindrome(s):\n",
        "\treturn s == s[::-1]\n",
        "\n",
        "\n",
        "# Driver code\n",
        "s = \"malayalam\"\n",
        "ans = isPalindrome(s)\n",
        "\n",
        "if ans:\n",
        "\tprint(\"Yes\")\n",
        "else:\n",
        "\tprint(\"No\")\n"
      ],
      "metadata": {
        "colab": {
          "base_uri": "https://localhost:8080/"
        },
        "id": "jwgwFmXr6vQy",
        "outputId": "43c8da55-aaf9-4f89-d914-434b37dd8eca"
      },
      "execution_count": null,
      "outputs": [
        {
          "output_type": "stream",
          "name": "stdout",
          "text": [
            "Yes\n"
          ]
        }
      ]
    },
    {
      "cell_type": "markdown",
      "source": [
        "Find Duplicate characters in a string"
      ],
      "metadata": {
        "id": "oH28ZUB7LuBU"
      }
    },
    {
      "cell_type": "code",
      "source": [
        "def duplicate_characters(string):\n",
        "\t# Create an empty dictionary\n",
        "\tchars = {}\n",
        "\n",
        "\t# Iterate through each character in the string\n",
        "\tfor char in string:\n",
        "\t\t# If the character is not in the dictionary, add it\n",
        "\t\tif char not in chars:\n",
        "\t\t\tchars[char] = 1\n",
        "\t\telse:\n",
        "\t\t\t# If the character is already in the dictionary, increment the count\n",
        "\t\t\tchars[char] += 1\n",
        "\n",
        "\t# Create a list to store the duplicate characters\n",
        "\tduplicates = []\n",
        "\n",
        "\t# Iterate through the dictionary to find characters with count greater than 1\n",
        "\tfor char, count in chars.items():\n",
        "\t\tif count > 1:\n",
        "\t\t\tduplicates.append(char)\n",
        "\n",
        "\treturn duplicates\n",
        "\n",
        "# Test cases\n",
        "print(duplicate_characters(\"geeksforgeeks\"))\n"
      ],
      "metadata": {
        "colab": {
          "base_uri": "https://localhost:8080/"
        },
        "id": "sBpfIgnfLxeu",
        "outputId": "2f95731f-dff7-4e76-d0aa-108497231e14"
      },
      "execution_count": 1,
      "outputs": [
        {
          "output_type": "stream",
          "name": "stdout",
          "text": [
            "['g', 'e', 'k', 's']\n"
          ]
        }
      ]
    },
    {
      "cell_type": "markdown",
      "source": [
        "Write a Code to check whether one string is a rotation of another"
      ],
      "metadata": {
        "id": "uEEX5MwEMpFa"
      }
    },
    {
      "cell_type": "code",
      "source": [
        "# Python3 program for the above approach\n",
        "\n",
        "\n",
        "def checkString(s1, s2, indexFound, Size):\n",
        "\tfor i in range(Size):\n",
        "\n",
        "\t\t# check whether the character is equal or not\n",
        "\t\tif(s1[i] != s2[(indexFound + i) % Size]):\n",
        "\t\t\treturn False\n",
        "\n",
        "\t\t# %Size keeps (indexFound+i) in bounds,\n",
        "\t\t# since it ensures it's value is always less than Size\n",
        "\treturn True\n",
        "\n",
        "\n",
        "# driver code\n",
        "s1 = \"abcd\"\n",
        "s2 = \"cdab\"\n",
        "\n",
        "if(len(s1) != len(s2)):\n",
        "\tprint(\"s2 is not a rotation on s1\")\n",
        "\n",
        "else:\n",
        "\n",
        "\tindexes = [] # store occurrences of the first character of s1\n",
        "\tSize = len(s1)\n",
        "\tfirstChar = s1[0]\n",
        "\tfor i in range(Size):\n",
        "\t\tif(s2[i] == firstChar):\n",
        "\t\t\tindexes.append(i)\n",
        "\n",
        "\tisRotation = False\n",
        "\n",
        "\t# check if the strings are rotation of each other\n",
        "\t# for every occurrence of firstChar in s2\n",
        "\tfor idx in indexes:\n",
        "\n",
        "\t\tisRotation = checkString(s1, s2, idx, Size)\n",
        "\n",
        "\t\tif(isRotation):\n",
        "\t\t\tbreak\n",
        "\n",
        "\tif(isRotation):\n",
        "\t\tprint(\"Strings are rotations of each other\")\n",
        "\telse:\n",
        "\t\tprint(\"Strings are not rotations of each other\")\n",
        "\n",
        "\n"
      ],
      "metadata": {
        "colab": {
          "base_uri": "https://localhost:8080/"
        },
        "id": "-Hvidga9M7li",
        "outputId": "55b866bf-1b64-42cd-f69b-79aeb0f77887"
      },
      "execution_count": 2,
      "outputs": [
        {
          "output_type": "stream",
          "name": "stdout",
          "text": [
            "Strings are rotations of each other\n"
          ]
        }
      ]
    }
  ]
}