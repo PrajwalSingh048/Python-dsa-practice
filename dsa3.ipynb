{
  "nbformat": 4,
  "nbformat_minor": 0,
  "metadata": {
    "colab": {
      "provenance": [],
      "authorship_tag": "ABX9TyObpU2u9CE5Z3cuGB8rfD6D",
      "include_colab_link": true
    },
    "kernelspec": {
      "name": "python3",
      "display_name": "Python 3"
    },
    "language_info": {
      "name": "python"
    }
  },
  "cells": [
    {
      "cell_type": "markdown",
      "metadata": {
        "id": "view-in-github",
        "colab_type": "text"
      },
      "source": [
        "<a href=\"https://colab.research.google.com/github/PrajwalSingh048/Python-dsa-practice/blob/main/dsa3.ipynb\" target=\"_parent\"><img src=\"https://colab.research.google.com/assets/colab-badge.svg\" alt=\"Open In Colab\"/></a>"
      ]
    },
    {
      "cell_type": "markdown",
      "source": [
        "Reverse a String"
      ],
      "metadata": {
        "id": "265SQ9LaLVtP"
      }
    },
    {
      "cell_type": "code",
      "execution_count": null,
      "metadata": {
        "colab": {
          "base_uri": "https://localhost:8080/"
        },
        "id": "Pt2oMBjRLQeg",
        "outputId": "a531df34-4994-4e0d-f772-62c5438efa1d"
      },
      "outputs": [
        {
          "output_type": "stream",
          "name": "stdout",
          "text": [
            "The original string is : Geeksforgeeks\n",
            "The reversed string(using loops) is : skeegrofskeeG\n"
          ]
        }
      ],
      "source": [
        "def reverse(s):\n",
        "\tstr = \"\"\n",
        "\tfor i in s:\n",
        "\t\tstr = i + str\n",
        "\treturn str\n",
        "\n",
        "s = \"Geeksforgeeks\"\n",
        "\n",
        "print(\"The original string is : \", end=\"\")\n",
        "print(s)\n",
        "\n",
        "print(\"The reversed string(using loops) is : \", end=\"\")\n",
        "print(reverse(s))\n"
      ]
    },
    {
      "cell_type": "markdown",
      "source": [
        "Check whether a String is Palindrome or not"
      ],
      "metadata": {
        "id": "Gy2uhjbC6go6"
      }
    },
    {
      "cell_type": "code",
      "source": [
        "# function which return reverse of a string\n",
        "\n",
        "def isPalindrome(s):\n",
        "\treturn s == s[::-1]\n",
        "\n",
        "\n",
        "# Driver code\n",
        "s = \"malayalam\"\n",
        "ans = isPalindrome(s)\n",
        "\n",
        "if ans:\n",
        "\tprint(\"Yes\")\n",
        "else:\n",
        "\tprint(\"No\")\n"
      ],
      "metadata": {
        "colab": {
          "base_uri": "https://localhost:8080/"
        },
        "id": "jwgwFmXr6vQy",
        "outputId": "43c8da55-aaf9-4f89-d914-434b37dd8eca"
      },
      "execution_count": null,
      "outputs": [
        {
          "output_type": "stream",
          "name": "stdout",
          "text": [
            "Yes\n"
          ]
        }
      ]
    },
    {
      "cell_type": "markdown",
      "source": [
        "Find Duplicate characters in a string"
      ],
      "metadata": {
        "id": "oH28ZUB7LuBU"
      }
    },
    {
      "cell_type": "code",
      "source": [
        "def duplicate_characters(string):\n",
        "\t# Create an empty dictionary\n",
        "\tchars = {}\n",
        "\n",
        "\t# Iterate through each character in the string\n",
        "\tfor char in string:\n",
        "\t\t# If the character is not in the dictionary, add it\n",
        "\t\tif char not in chars:\n",
        "\t\t\tchars[char] = 1\n",
        "\t\telse:\n",
        "\t\t\t# If the character is already in the dictionary, increment the count\n",
        "\t\t\tchars[char] += 1\n",
        "\n",
        "\t# Create a list to store the duplicate characters\n",
        "\tduplicates = []\n",
        "\n",
        "\t# Iterate through the dictionary to find characters with count greater than 1\n",
        "\tfor char, count in chars.items():\n",
        "\t\tif count > 1:\n",
        "\t\t\tduplicates.append(char)\n",
        "\n",
        "\treturn duplicates\n",
        "\n",
        "# Test cases\n",
        "print(duplicate_characters(\"geeksforgeeks\"))\n"
      ],
      "metadata": {
        "colab": {
          "base_uri": "https://localhost:8080/"
        },
        "id": "sBpfIgnfLxeu",
        "outputId": "2f95731f-dff7-4e76-d0aa-108497231e14"
      },
      "execution_count": null,
      "outputs": [
        {
          "output_type": "stream",
          "name": "stdout",
          "text": [
            "['g', 'e', 'k', 's']\n"
          ]
        }
      ]
    },
    {
      "cell_type": "markdown",
      "source": [
        "Write a Code to check whether one string is a rotation of another"
      ],
      "metadata": {
        "id": "uEEX5MwEMpFa"
      }
    },
    {
      "cell_type": "code",
      "source": [
        "# Python3 program for the above approach\n",
        "\n",
        "\n",
        "def checkString(s1, s2, indexFound, Size):\n",
        "\tfor i in range(Size):\n",
        "\n",
        "\t\t# check whether the character is equal or not\n",
        "\t\tif(s1[i] != s2[(indexFound + i) % Size]):\n",
        "\t\t\treturn False\n",
        "\n",
        "\t\t# %Size keeps (indexFound+i) in bounds,\n",
        "\t\t# since it ensures it's value is always less than Size\n",
        "\treturn True\n",
        "\n",
        "\n",
        "# driver code\n",
        "s1 = \"abcd\"\n",
        "s2 = \"cdab\"\n",
        "\n",
        "if(len(s1) != len(s2)):\n",
        "\tprint(\"s2 is not a rotation on s1\")\n",
        "\n",
        "else:\n",
        "\n",
        "\tindexes = [] # store occurrences of the first character of s1\n",
        "\tSize = len(s1)\n",
        "\tfirstChar = s1[0]\n",
        "\tfor i in range(Size):\n",
        "\t\tif(s2[i] == firstChar):\n",
        "\t\t\tindexes.append(i)\n",
        "\n",
        "\tisRotation = False\n",
        "\n",
        "\t# check if the strings are rotation of each other\n",
        "\t# for every occurrence of firstChar in s2\n",
        "\tfor idx in indexes:\n",
        "\n",
        "\t\tisRotation = checkString(s1, s2, idx, Size)\n",
        "\n",
        "\t\tif(isRotation):\n",
        "\t\t\tbreak\n",
        "\n",
        "\tif(isRotation):\n",
        "\t\tprint(\"Strings are rotations of each other\")\n",
        "\telse:\n",
        "\t\tprint(\"Strings are not rotations of each other\")\n",
        "\n",
        "\n"
      ],
      "metadata": {
        "colab": {
          "base_uri": "https://localhost:8080/"
        },
        "id": "-Hvidga9M7li",
        "outputId": "55b866bf-1b64-42cd-f69b-79aeb0f77887"
      },
      "execution_count": null,
      "outputs": [
        {
          "output_type": "stream",
          "name": "stdout",
          "text": [
            "Strings are rotations of each other\n"
          ]
        }
      ]
    },
    {
      "cell_type": "markdown",
      "source": [
        "Write a Program to check whether a string is a valid shuffle of two strings or not"
      ],
      "metadata": {
        "id": "BK4DPt2cNmrq"
      }
    },
    {
      "cell_type": "code",
      "source": [
        "# Python3 program to check if string\n",
        "# str1 is subof str2 or not.\n",
        "\n",
        "# Function two check A\n",
        "# is shuffled subof B\n",
        "# or not\n",
        "def isShuffledSubstring(A, B):\n",
        "\tn = len(A)\n",
        "\tm = len(B)\n",
        "\n",
        "\t# Return false if length of\n",
        "\t# A is greater than\n",
        "\t# length of B\n",
        "\tif (n > m):\n",
        "\t\treturn False\n",
        "\telse:\n",
        "\n",
        "\t\t# Sort A\n",
        "\t\tA = sorted(A)\n",
        "\n",
        "\t\t# Traverse B\n",
        "\t\tfor i in range(m):\n",
        "\n",
        "\t\t\t# Return false if (i+n-1 >= m)\n",
        "\t\t\t# doesn't satisfy\n",
        "\t\t\tif (i + n - 1 >= m):\n",
        "\t\t\t\treturn False\n",
        "\n",
        "\t\t\t# Initialise the new string\n",
        "\t\t\tStr = \"\"\n",
        "\n",
        "\t\t\t# Copy the characters of\n",
        "\t\t\t# B in str till\n",
        "\t\t\t# length n\n",
        "\t\t\tfor j in range(n):\n",
        "\t\t\t\tStr += (B[i + j])\n",
        "\n",
        "\t\t\t# Sort the str\n",
        "\t\t\tStr = sorted(Str)\n",
        "\n",
        "\t\t\t# Return true if sorted\n",
        "\t\t\t# of \"str\" & sorted\n",
        "\t\t\t# of \"A\" are equal\n",
        "\t\t\tif (Str == A):\n",
        "\t\t\t\treturn True\n",
        "\n",
        "# Driver Code\n",
        "if __name__ == '__main__':\n",
        "\t\n",
        "\t# Input str1 and str2\n",
        "\tStr1 = \"geekforgeeks\"\n",
        "\tStr2 = \"ekegorfkeegsgeek\"\n",
        "\n",
        "\t# Function return true if\n",
        "\t# str1 is shuffled substring\n",
        "\t# of str2\n",
        "\ta = isShuffledSubstring(Str1, Str2)\n",
        "\n",
        "\t# If str1 is subof str2\n",
        "\t# print \"YES\" else print \"NO\"\n",
        "\tif (a):\n",
        "\t\tprint(\"YES\")\n",
        "\telse:\n",
        "\t\tprint(\"NO\")\n",
        "\n",
        "\n"
      ],
      "metadata": {
        "colab": {
          "base_uri": "https://localhost:8080/"
        },
        "id": "UFsVugdxNmLI",
        "outputId": "8e97354e-3756-446f-e59b-d2d2b0156e14"
      },
      "execution_count": null,
      "outputs": [
        {
          "output_type": "stream",
          "name": "stdout",
          "text": [
            "YES\n"
          ]
        }
      ]
    },
    {
      "cell_type": "markdown",
      "source": [
        "Count and Say problem"
      ],
      "metadata": {
        "id": "xlHglIEuOJnG"
      }
    },
    {
      "cell_type": "code",
      "source": [
        "# Python 3 program to find\n",
        "# n'th term in look and\n",
        "# say sequence\n",
        "\n",
        "# Returns n'th term in\n",
        "# look-and-say sequence\n",
        "def countnndSay(n):\n",
        "\t\n",
        "\t# Base cases\n",
        "\tif (n == 1):\n",
        "\t\treturn \"1\"\n",
        "\tif (n == 2):\n",
        "\t\treturn \"11\"\n",
        "\n",
        "\t# Find n'th term by generating\n",
        "\t# all terms from 3 to n-1.\n",
        "\t# Every term is generated using\n",
        "\t# previous term\n",
        "\t\n",
        "\t# Initialize previous term\n",
        "\ts = \"11\"\n",
        "\tfor i in range(3, n + 1):\n",
        "\t\t\n",
        "\t\t# In below for loop,\n",
        "\t\t# previous character is\n",
        "\t\t# processed in current\n",
        "\t\t# iteration. That is why\n",
        "\t\t# a dummy character is\n",
        "\t\t# added to make sure that\n",
        "\t\t# loop runs one extra iteration.\n",
        "\t\ts += '$'\n",
        "\t\tl = len(s)\n",
        "\n",
        "\t\tcnt = 1 # Initialize count\n",
        "\t\t\t\t# of matching chars\n",
        "\t\ttmp = \"\" # Initialize i'th\n",
        "\t\t\t\t# term in series\n",
        "\n",
        "\t\t# Process previous term to\n",
        "\t\t# find the next term\n",
        "\t\tfor j in range(1 , l):\n",
        "\t\t\t\n",
        "\t\t\t# If current character\n",
        "\t\t\t# doesn't match\n",
        "\t\t\tif (s[j] != s[j - 1]):\n",
        "\t\t\t\t\n",
        "\t\t\t\t# Append count of\n",
        "\t\t\t\t# str[j-1] to temp\n",
        "\t\t\t\ttmp += str(cnt + 0)\n",
        "\n",
        "\t\t\t\t# Append str[j-1]\n",
        "\t\t\t\ttmp += s[j - 1]\n",
        "\n",
        "\t\t\t\t# Reset count\n",
        "\t\t\t\tcnt = 1\n",
        "\t\t\t\n",
        "\t\t\t# If matches, then increment\n",
        "\t\t\t# count of matching characters\n",
        "\t\t\telse:\n",
        "\t\t\t\tcnt += 1\n",
        "\n",
        "\t\t# Update str\n",
        "\t\ts = tmp\n",
        "\treturn s;\n",
        "\n",
        "# Driver Code\n",
        "N = 3\n",
        "print(countnndSay(N))\n",
        "\n",
        "\n"
      ],
      "metadata": {
        "colab": {
          "base_uri": "https://localhost:8080/"
        },
        "id": "hiM6mPEDOKNi",
        "outputId": "f960c834-7fdf-47ce-d9ab-d23037083f18"
      },
      "execution_count": null,
      "outputs": [
        {
          "output_type": "stream",
          "name": "stdout",
          "text": [
            "21\n"
          ]
        }
      ]
    },
    {
      "cell_type": "markdown",
      "source": [
        "Write a program to find the longest Palindrome in a string.[ Longest palindromic Substring]"
      ],
      "metadata": {
        "id": "FDWA69MGOKqt"
      }
    },
    {
      "cell_type": "code",
      "source": [
        "# A Python3 solution for longest palindrome\n",
        "\n",
        "# Function to print a subString str[low..high]\n",
        "def printSubStr(str, low, high):\n",
        "\t\n",
        "\tfor i in range(low, high + 1):\n",
        "\t\tprint(str[i], end = \"\")\n",
        "\n",
        "# This function prints the\n",
        "# longest palindrome subString\n",
        "# It also returns the length\n",
        "# of the longest palindrome\n",
        "def longestPalSubstr(str):\n",
        "\t\n",
        "\t# Get length of input String\n",
        "\tn = len(str)\n",
        "\t\n",
        "\t# All subStrings of length 1\n",
        "\t# are palindromes\n",
        "\tmaxLength = 1\n",
        "\tstart = 0\n",
        "\t\n",
        "\t# Nested loop to mark start\n",
        "\t# and end index\n",
        "\tfor i in range(n):\n",
        "\t\tfor j in range(i, n):\n",
        "\t\t\tflag = 1\n",
        "\t\t\t\n",
        "\t\t\t# Check palindrome\n",
        "\t\t\tfor k in range(0, ((j - i) // 2) + 1):\n",
        "\t\t\t\tif (str[i + k] != str[j - k]):\n",
        "\t\t\t\t\tflag = 0\n",
        "\n",
        "\t\t\t# Palindrome\n",
        "\t\t\tif (flag != 0 and (j - i + 1) > maxLength):\n",
        "\t\t\t\tstart = i\n",
        "\t\t\t\tmaxLength = j - i + 1\n",
        "\t\t\t\t\n",
        "\tprint(\"Longest palindrome subString is: \", end = \"\")\n",
        "\tprintSubStr(str, start, start + maxLength - 1)\n",
        "\n",
        "\t# Return length of LPS\n",
        "\treturn maxLength\n",
        "\n",
        "# Driver Code\n",
        "if __name__ == '__main__':\n",
        "\n",
        "\tstr = \"forgeeksskeegfor\"\n",
        "\t\n",
        "\tprint(\"\\nLength is: \", longestPalSubstr(str))\n",
        "\n",
        "\n"
      ],
      "metadata": {
        "colab": {
          "base_uri": "https://localhost:8080/"
        },
        "id": "1VyAoBe3OMp5",
        "outputId": "4dac8209-f37a-4aa6-d0ec-f6715289a2ef"
      },
      "execution_count": null,
      "outputs": [
        {
          "output_type": "stream",
          "name": "stdout",
          "text": [
            "Longest palindrome subString is: geeksskeeg\n",
            "Length is:  10\n"
          ]
        }
      ]
    },
    {
      "cell_type": "markdown",
      "source": [
        "Find Longest Recurring Subsequence in String"
      ],
      "metadata": {
        "id": "1dJURFXZRjBS"
      }
    },
    {
      "cell_type": "code",
      "source": [
        "# Python 3 program to find the longest repeating\n",
        "# subsequence\n",
        "\n",
        "\n",
        "# This function mainly returns LCS(str, str)\n",
        "# with a condition that same characters at\n",
        "# same index are not considered.\n",
        "def findLongestRepeatingSubSeq( str):\n",
        "\n",
        "\tn = len(str)\n",
        "\n",
        "\t# Create and initialize DP table\n",
        "\tdp=[[0 for i in range(n+1)] for j in range(n+1)]\n",
        "\n",
        "\t# Fill dp table (similar to LCS loops)\n",
        "\tfor i in range(1,n+1):\n",
        "\t\tfor j in range(1,n+1):\n",
        "\t\t\t# If characters match and indexes are\n",
        "\t\t\t# not same\n",
        "\t\t\tif (str[i-1] == str[j-1] and i != j):\n",
        "\t\t\t\tdp[i][j] = 1 + dp[i-1][j-1]\t\t\n",
        "\t\t\t\t\t\t\n",
        "\t\t\t# If characters do not match\n",
        "\t\t\telse:\n",
        "\t\t\t\tdp[i][j] = max(dp[i][j-1], dp[i-1][j])\n",
        "\t\t\n",
        "\t\n",
        "\treturn dp[n][n]\n",
        "\n",
        "\n",
        "# Driver Program\n",
        "if __name__=='__main__':\n",
        "\tstr = \"aabb\"\n",
        "\tprint(\"The length of the largest subsequence that repeats itself is : \"\n",
        "\t\t,findLongestRepeatingSubSeq(str))\n",
        "\n",
        "\n"
      ],
      "metadata": {
        "colab": {
          "base_uri": "https://localhost:8080/"
        },
        "id": "1TuUft8pRjmK",
        "outputId": "54baf667-a53e-4326-df50-97c0d3da7930"
      },
      "execution_count": null,
      "outputs": [
        {
          "output_type": "stream",
          "name": "stdout",
          "text": [
            "The length of the largest subsequence that repeats itself is :  2\n"
          ]
        }
      ]
    },
    {
      "cell_type": "markdown",
      "source": [
        "Print all Subsequences of a string."
      ],
      "metadata": {
        "id": "1NL84siDRkRq"
      }
    },
    {
      "cell_type": "code",
      "source": [
        "# Below is the implementation of the above approach\n",
        "def printSubsequence(input, output):\n",
        "\n",
        "\t# Base Case\n",
        "\t# if the input is empty print the output string\n",
        "\tif len(input) == 0:\n",
        "\t\tprint(output, end=' ')\n",
        "\t\treturn\n",
        "\n",
        "\t# output is passed with including the\n",
        "\t# 1st character of input string\n",
        "\tprintSubsequence(input[1:], output+input[0])\n",
        "\n",
        "\t# output is passed without including the\n",
        "\t# 1st character of input string\n",
        "\tprintSubsequence(input[1:], output)\n",
        "\n",
        "\n",
        "# Driver code\n",
        "# output is set to null before passing in\n",
        "# as a parameter\n",
        "output = \"\"\n",
        "input = \"abcd\"\n",
        "\n",
        "printSubsequence(input, output)\n",
        "\n",
        "\n"
      ],
      "metadata": {
        "colab": {
          "base_uri": "https://localhost:8080/"
        },
        "id": "by-TfzQ1Rkq9",
        "outputId": "16177a89-c10c-4d91-9c1d-48c90ff9c525"
      },
      "execution_count": null,
      "outputs": [
        {
          "output_type": "stream",
          "name": "stdout",
          "text": [
            "abcd abc abd ab acd ac ad a bcd bc bd b cd c d  "
          ]
        }
      ]
    },
    {
      "cell_type": "markdown",
      "source": [
        "Print all the permutations of the given string"
      ],
      "metadata": {
        "id": "XnSp4bfTRlXp"
      }
    },
    {
      "cell_type": "code",
      "source": [
        "# Python3 program to print all permutations with\n",
        "# duplicates allowed\n",
        "\n",
        "\n",
        "def toString(List):\n",
        "\treturn ''.join(List)\n",
        "\n",
        "# Function to print permutations of string\n",
        "# This function takes three parameters:\n",
        "# 1. String\n",
        "# 2. Starting index of the string\n",
        "# 3. Ending index of the string.\n",
        "\n",
        "\n",
        "def permute(a, l, r):\n",
        "\tif l == r:\n",
        "\t\tprint(toString(a))\n",
        "\telse:\n",
        "\t\tfor i in range(l, r):\n",
        "\t\t\ta[l], a[i] = a[i], a[l]\n",
        "\t\t\tpermute(a, l+1, r)\n",
        "\t\t\ta[l], a[i] = a[i], a[l] # backtrack\n",
        "\n",
        "\n",
        "# Driver code\n",
        "string = \"ABC\"\n",
        "n = len(string)\n",
        "a = list(string)\n",
        "\n",
        "# Function call\n",
        "permute(a, 0, n)\n",
        "\n",
        "\n"
      ],
      "metadata": {
        "colab": {
          "base_uri": "https://localhost:8080/"
        },
        "id": "g4TcwqznRmDj",
        "outputId": "ae0a6d1d-f09c-4cda-e66b-a99b26a229f7"
      },
      "execution_count": null,
      "outputs": [
        {
          "output_type": "stream",
          "name": "stdout",
          "text": [
            "ABC\n",
            "ACB\n",
            "BAC\n",
            "BCA\n",
            "CBA\n",
            "CAB\n"
          ]
        }
      ]
    },
    {
      "cell_type": "markdown",
      "source": [
        "Split the Binary string into two substring with equal 0’s and 1’s"
      ],
      "metadata": {
        "id": "a5GanIsQRmag"
      }
    },
    {
      "cell_type": "code",
      "source": [
        "# Python3 implementation of the approach\n",
        "\n",
        "# Function to return the count\n",
        "# of maximum substrings str\n",
        "# can be divided into\n",
        "def maxSubStr(str, n):\n",
        "\t\n",
        "\t# To store the count of 0s and 1s\n",
        "\tcount0 = 0\n",
        "\tcount1 = 0\n",
        "\t\n",
        "\t# To store the count of maximum\n",
        "\t# substrings str can be divided into\n",
        "\tcnt = 0\n",
        "\t\n",
        "\tfor i in range(n):\n",
        "\t\tif str[i] == '0':\n",
        "\t\t\tcount0 += 1\n",
        "\t\telse:\n",
        "\t\t\tcount1 += 1\n",
        "\t\t\t\n",
        "\t\tif count0 == count1:\n",
        "\t\t\tcnt += 1\n",
        "\n",
        "# It is not possible to\n",
        "\t# split the string\n",
        "\tif count0 != count1:\n",
        "\t\treturn -1\n",
        "\t\t\t\n",
        "\treturn cnt\n",
        "\n",
        "# Driver code\n",
        "str = \"0100110101\"\n",
        "n = len(str)\n",
        "print(maxSubStr(str, n))\n"
      ],
      "metadata": {
        "colab": {
          "base_uri": "https://localhost:8080/"
        },
        "id": "XpcQHkrfRnQB",
        "outputId": "168ce6cb-2c32-48b2-be4e-eb6fb53b9f74"
      },
      "execution_count": null,
      "outputs": [
        {
          "output_type": "stream",
          "name": "stdout",
          "text": [
            "4\n"
          ]
        }
      ]
    },
    {
      "cell_type": "markdown",
      "source": [
        "Word Wrap Problem [VERY IMP]"
      ],
      "metadata": {
        "id": "wWkims7FSEgu"
      }
    },
    {
      "cell_type": "code",
      "source": [
        "# Python program for the above approach\n",
        "def square(n) :\n",
        "\treturn n * n\n",
        "\n",
        "def solveWordWrapUtil(words, n, length,\n",
        "\t\t\t\t\twordIndex, remLength, memo) :\n",
        "\n",
        "\t# base case for last word\n",
        "\tif (wordIndex == n - 1) :\n",
        "\t\tmemo[wordIndex][remLength] = 0 if (words[wordIndex] < remLength) else square(remLength)\n",
        "\t\treturn memo[wordIndex][remLength]\n",
        "\t\n",
        "\n",
        "\tcurrWord = words[wordIndex]\n",
        "\t# if word can fit in the remaining line\n",
        "\tif (currWord < remLength) :\n",
        "\t\treturn min(solveWordWrapUsingMemo(\n",
        "\t\t\t\t\twords, n, length, wordIndex + 1,\n",
        "\t\t\t\t\tremLength - currWord if (remLength == length) else remLength - currWord - 1,\n",
        "\t\t\t\t\tmemo),\n",
        "\n",
        "\t\t\t\tsquare(remLength)\n",
        "\t\t\t\t\t+ solveWordWrapUsingMemo(\n",
        "\t\t\t\t\t\twords, n, length, wordIndex + 1,\n",
        "\t\t\t\t\t\tlength - currWord, memo))\n",
        "\t\n",
        "\telse :\n",
        "\t\t# if word is kept on next line\n",
        "\t\treturn (square(remLength)\n",
        "\t\t\t+ solveWordWrapUsingMemo(\n",
        "\t\t\t\twords, n, length, wordIndex + 1,\n",
        "\t\t\t\tlength - currWord, memo))\n",
        "\t\n",
        "def solveWordWrapUsingMemo(words, n, length,\n",
        "\t\t\t\t\t\twordIndex, remLength, memo) :\n",
        "\t\t\t\t\t\t\t\t\n",
        "\tif (memo[wordIndex][remLength] != -1) :\n",
        "\t\treturn memo[wordIndex][remLength]\n",
        "\t\n",
        "\tmemo[wordIndex][remLength] = (solveWordWrapUtil(\n",
        "\t\twords, n, length, wordIndex, remLength, memo))\n",
        "\treturn memo[wordIndex][remLength]\n",
        "\n",
        "def solveWordWrap(words, n, k) :\n",
        "\tmemo = [[10]* (k + 1)]* n\n",
        "\treturn solveWordWrapUsingMemo(words, n, k, 0, k, memo)\n",
        "\n",
        "# Driver Code\n",
        "if __name__ == \"__main__\":\n",
        "\n",
        "\twords = [ 3, 2, 2, 5 ]\n",
        "\tn = len(words)\n",
        "\tk = 6\n",
        "\n",
        "\tprint(solveWordWrap(words, n, k))\n",
        "\t\n",
        "\n"
      ],
      "metadata": {
        "colab": {
          "base_uri": "https://localhost:8080/"
        },
        "id": "a4M_WXhlSGce",
        "outputId": "68a3b9fd-2246-4abc-dd8e-5f4e4369eae3"
      },
      "execution_count": null,
      "outputs": [
        {
          "output_type": "stream",
          "name": "stdout",
          "text": [
            "10\n"
          ]
        }
      ]
    },
    {
      "cell_type": "markdown",
      "source": [
        "EDIT Distance [Very Imp]"
      ],
      "metadata": {
        "id": "mKOEdFhnv-fr"
      }
    },
    {
      "cell_type": "code",
      "source": [
        "# A Naive recursive Python program to find minimum number\n",
        "# operations to convert str1 to str2\n",
        "\n",
        "\n",
        "def editDistance(str1, str2, m, n):\n",
        "\n",
        "\t# If first string is empty, the only option is to\n",
        "\t# insert all characters of second string into first\n",
        "\tif m == 0:\n",
        "\t\treturn n\n",
        "\n",
        "\t# If second string is empty, the only option is to\n",
        "\t# remove all characters of first string\n",
        "\tif n == 0:\n",
        "\t\treturn m\n",
        "\n",
        "\t# If last characters of two strings are same, nothing\n",
        "\t# much to do. Ignore last characters and get count for\n",
        "\t# remaining strings.\n",
        "\tif str1[m-1] == str2[n-1]:\n",
        "\t\treturn editDistance(str1, str2, m-1, n-1)\n",
        "\n",
        "\t# If last characters are not same, consider all three\n",
        "\t# operations on last character of first string, recursively\n",
        "\t# compute minimum cost for all three operations and take\n",
        "\t# minimum of three values.\n",
        "\treturn 1 + min(editDistance(str1, str2, m, n-1), # Insert\n",
        "\t\t\t\teditDistance(str1, str2, m-1, n), # Remove\n",
        "\t\t\t\teditDistance(str1, str2, m-1, n-1) # Replace\n",
        "\t\t\t\t)\n",
        "\n",
        "\n",
        "# Driver code\n",
        "str1 = \"sunday\"\n",
        "str2 = \"saturday\"\n",
        "print (editDistance(str1, str2, len(str1), len(str2)))\n",
        "\n",
        "\n"
      ],
      "metadata": {
        "colab": {
          "base_uri": "https://localhost:8080/"
        },
        "id": "alJewp8Rv_Q1",
        "outputId": "d848ca92-cc5e-457e-8313-183c331527de"
      },
      "execution_count": null,
      "outputs": [
        {
          "output_type": "stream",
          "name": "stdout",
          "text": [
            "3\n"
          ]
        }
      ]
    },
    {
      "cell_type": "markdown",
      "source": [
        "Find next greater number with same set of digits. [Very Very IMP]"
      ],
      "metadata": {
        "id": "j3mehG1qaFdP"
      }
    },
    {
      "cell_type": "code",
      "source": [
        "# Python program to find the smallest number which\n",
        "# is greater than a given no. has same set of\n",
        "# digits as given number\n",
        "\n",
        "# Given number as int array, this function finds the\n",
        "# greatest number and returns the number as integer\n",
        "def findNext(number,n):\n",
        "\t\n",
        "\t# Start from the right most digit and find the first\n",
        "\t# digit that is smaller than the digit next to it\n",
        "\tfor i in range(n-1,0,-1):\n",
        "\t\tif number[i] > number[i-1]:\n",
        "\t\t\tbreak\n",
        "\t\t\t\n",
        "\t# If no such digit found,then all numbers are in\n",
        "\t# descending order, no greater number is possible\n",
        "\tif i == 1 and number[i] <= number[i-1]:\n",
        "\t\tprint (\"Next number not possible\")\n",
        "\t\treturn\n",
        "\t\t\n",
        "\t# Find the smallest digit on the right side of\n",
        "\t# (i-1)'th digit that is greater than number[i-1]\n",
        "\tx = number[i-1]\n",
        "\tsmallest = i\n",
        "\tfor j in range(i+1,n):\n",
        "\t\tif number[j] > x and number[j] < number[smallest]:\n",
        "\t\t\tsmallest = j\n",
        "\t\t\n",
        "\t# Swapping the above found smallest digit with (i-1)'th\n",
        "\tnumber[smallest],number[i-1] = number[i-1], number[smallest]\n",
        "\t\n",
        "\t# X is the final number, in integer datatype\n",
        "\tx = 0\n",
        "\t# Converting list upto i-1 into number\n",
        "\tfor j in range(i):\n",
        "\t\tx = x * 10 + number[j]\n",
        "\t\n",
        "\t# Sort the digits after i-1 in ascending order\n",
        "\tnumber = sorted(number[i:])\n",
        "\t# converting the remaining sorted digits into number\n",
        "\tfor j in range(n-i):\n",
        "\t\tx = x * 10 + number[j]\n",
        "\t\n",
        "\tprint (\"Next number with set of digits is\",x)\n",
        "\n",
        "\n",
        "# Driver Program to test above function\n",
        "digits = \"534976\"\t\t\n",
        "\n",
        "# converting into integer array,\n",
        "# number becomes [5,3,4,9,7,6]\n",
        "number = list(map(int ,digits))\n",
        "findNext(number, len(digits))\n",
        "\n",
        "\n"
      ],
      "metadata": {
        "colab": {
          "base_uri": "https://localhost:8080/"
        },
        "id": "Q5gksoptacin",
        "outputId": "01a3adbb-ec9d-4a3d-f44d-e6a67cdb7cce"
      },
      "execution_count": null,
      "outputs": [
        {
          "output_type": "stream",
          "name": "stdout",
          "text": [
            "Next number with set of digits is 536479\n"
          ]
        }
      ]
    },
    {
      "cell_type": "markdown",
      "source": [
        "Balanced Parenthesis problem.[Imp]"
      ],
      "metadata": {
        "id": "NrfZNAynidjH"
      }
    },
    {
      "cell_type": "code",
      "source": [
        "# Python3 program to check for\n",
        "# balanced brackets.\n",
        "\n",
        "# function to check if\n",
        "# brackets are balanced\n",
        "\n",
        "\n",
        "def areBracketsBalanced(expr):\n",
        "\tstack = []\n",
        "\n",
        "\t# Traversing the Expression\n",
        "\tfor char in expr:\n",
        "\t\tif char in [\"(\", \"{\", \"[\"]:\n",
        "\n",
        "\t\t\t# Push the element in the stack\n",
        "\t\t\tstack.append(char)\n",
        "\t\telse:\n",
        "\n",
        "\t\t\t# IF current character is not opening\n",
        "\t\t\t# bracket, then it must be closing.\n",
        "\t\t\t# So stack cannot be empty at this point.\n",
        "\t\t\tif not stack:\n",
        "\t\t\t\treturn False\n",
        "\t\t\tcurrent_char = stack.pop()\n",
        "\t\t\tif current_char == '(':\n",
        "\t\t\t\tif char != \")\":\n",
        "\t\t\t\t\treturn False\n",
        "\t\t\tif current_char == '{':\n",
        "\t\t\t\tif char != \"}\":\n",
        "\t\t\t\t\treturn False\n",
        "\t\t\tif current_char == '[':\n",
        "\t\t\t\tif char != \"]\":\n",
        "\t\t\t\t\treturn False\n",
        "\n",
        "\t# Check Empty Stack\n",
        "\tif stack:\n",
        "\t\treturn False\n",
        "\treturn True\n",
        "\n",
        "\n",
        "# Driver Code\n",
        "if __name__ == \"__main__\":\n",
        "\texpr = \"{()}[]\"\n",
        "\n",
        "\t# Function call\n",
        "\tif areBracketsBalanced(expr):\n",
        "\t\tprint(\"Balanced\")\n",
        "\telse:\n",
        "\t\tprint(\"Not Balanced\")\n",
        "\n",
        "\n"
      ],
      "metadata": {
        "colab": {
          "base_uri": "https://localhost:8080/"
        },
        "id": "HvQgDF8Viun2",
        "outputId": "2572102b-5565-4059-bbfd-e14c97435d0c"
      },
      "execution_count": null,
      "outputs": [
        {
          "output_type": "stream",
          "name": "stdout",
          "text": [
            "Balanced\n"
          ]
        }
      ]
    },
    {
      "cell_type": "markdown",
      "source": [
        "Word break Problem[ Very Imp]"
      ],
      "metadata": {
        "id": "JJrDuAjpUUD8"
      }
    },
    {
      "cell_type": "code",
      "source": [
        "# Recursive implementation of\n",
        "# word break problem in Python\n",
        "\n",
        "# returns True if the word can be segmented into parts such\n",
        "# that each part is contained in dictionary\n",
        "def wordBreak(word):\n",
        "\t\n",
        "\tglobal dictionary\n",
        "\n",
        "\tsize = len(word)\n",
        "\n",
        "\t# base case\n",
        "\tif (size == 0):\n",
        "\t\treturn True\n",
        "\n",
        "\t# else check for all words\n",
        "\tfor i in range(1,size + 1):\n",
        "\t\t# Now we will first divide the word into two parts ,\n",
        "\t\t# the prefix will have a length of i and check if it is\n",
        "\t\t# present in dictionary ,if yes then we will check for\n",
        "\t\t# suffix of length size-i recursively. if both prefix and\n",
        "\t\t# suffix are present the word is found in dictionary.\n",
        "\n",
        "\t\tif (word[0:i] in dictionary and wordBreak(word[i: size])):\n",
        "\t\t\treturn True\n",
        "\n",
        "\t# if all cases failed then return False\n",
        "\treturn False\n",
        "\n",
        "# set to hold dictionary values\n",
        "dictionary = set()\n",
        "\n",
        "# array of strings to be added in dictionary set.\n",
        "temp_dictionary = [ \"mobile\", \"samsung\", \"sam\", \"sung\", \"man\", \"mango\", \"icecream\", \"and\", \"go\", \"i\",\"like\", \"ice\", \"cream\" ]\n",
        "\n",
        "# loop to add all strings in dictionary set\n",
        "for temp in temp_dictionary:\n",
        "\tdictionary.add(temp)\n",
        "\n",
        "# sample input cases\n",
        "print(\"Yes\" if wordBreak(\"ilikesamsung\") else \"No\")\n",
        "print(\"Yes\" if wordBreak(\"iiiiiiii\") else \"No\")\n",
        "print(\"Yes\" if wordBreak(\"\") else \"No\")\n",
        "print(\"Yes\" if wordBreak(\"ilikelikeimangoiii\") else \"No\")\n",
        "print(\"Yes\" if wordBreak(\"samsungandmango\") else \"No\")\n",
        "print(\"Yes\" if wordBreak(\"samsungandmangok\") else \"No\")\n",
        "\n",
        "\n"
      ],
      "metadata": {
        "colab": {
          "base_uri": "https://localhost:8080/"
        },
        "id": "_ZpSdVGWUVaH",
        "outputId": "ed8c69d1-50d7-426c-cb04-236400eb9bae"
      },
      "execution_count": null,
      "outputs": [
        {
          "output_type": "stream",
          "name": "stdout",
          "text": [
            "Yes\n",
            "Yes\n",
            "Yes\n",
            "Yes\n",
            "Yes\n",
            "No\n"
          ]
        }
      ]
    },
    {
      "cell_type": "markdown",
      "source": [
        "Rabin Karp Algo"
      ],
      "metadata": {
        "id": "eKOKAaGBURDG"
      }
    },
    {
      "cell_type": "code",
      "source": [
        "# Following program is the python implementation of\n",
        "# Rabin Karp Algorithm given in CLRS book\n",
        "\n",
        "# d is the number of characters in the input alphabet\n",
        "d = 256\n",
        "\n",
        "# pat -> pattern\n",
        "# txt -> text\n",
        "# q -> A prime number\n",
        "\n",
        "\n",
        "def search(pat, txt, q):\n",
        "\tM = len(pat)\n",
        "\tN = len(txt)\n",
        "\ti = 0\n",
        "\tj = 0\n",
        "\tp = 0 # hash value for pattern\n",
        "\tt = 0 # hash value for txt\n",
        "\th = 1\n",
        "\n",
        "\t# The value of h would be \"pow(d, M-1)%q\"\n",
        "\tfor i in range(M-1):\n",
        "\t\th = (h*d) % q\n",
        "\n",
        "\t# Calculate the hash value of pattern and first window\n",
        "\t# of text\n",
        "\tfor i in range(M):\n",
        "\t\tp = (d*p + ord(pat[i])) % q\n",
        "\t\tt = (d*t + ord(txt[i])) % q\n",
        "\n",
        "\t# Slide the pattern over text one by one\n",
        "\tfor i in range(N-M+1):\n",
        "\t\t# Check the hash values of current window of text and\n",
        "\t\t# pattern if the hash values match then only check\n",
        "\t\t# for characters one by one\n",
        "\t\tif p == t:\n",
        "\t\t\t# Check for characters one by one\n",
        "\t\t\tfor j in range(M):\n",
        "\t\t\t\tif txt[i+j] != pat[j]:\n",
        "\t\t\t\t\tbreak\n",
        "\t\t\t\telse:\n",
        "\t\t\t\t\tj += 1\n",
        "\n",
        "\t\t\t# if p == t and pat[0...M-1] = txt[i, i+1, ...i+M-1]\n",
        "\t\t\tif j == M:\n",
        "\t\t\t\tprint(\"Pattern found at index \" + str(i))\n",
        "\n",
        "\t\t# Calculate hash value for next window of text: Remove\n",
        "\t\t# leading digit, add trailing digit\n",
        "\t\tif i < N-M:\n",
        "\t\t\tt = (d*(t-ord(txt[i])*h) + ord(txt[i+M])) % q\n",
        "\n",
        "\t\t\t# We might get negative values of t, converting it to\n",
        "\t\t\t# positive\n",
        "\t\t\tif t < 0:\n",
        "\t\t\t\tt = t+q\n",
        "\n",
        "\n",
        "# Driver Code\n",
        "if __name__ == '__main__':\n",
        "\ttxt = \"GEEKS FOR GEEKS\"\n",
        "\tpat = \"GEEK\"\n",
        "\n",
        "\t# A prime number\n",
        "\tq = 101\n",
        "\n",
        "\t# Function Call\n",
        "\tsearch(pat, txt, q)\n",
        "\n"
      ],
      "metadata": {
        "colab": {
          "base_uri": "https://localhost:8080/"
        },
        "id": "jPMl6oqfUV9Z",
        "outputId": "7091cdb4-89ec-46b2-ca71-4262b79943ca"
      },
      "execution_count": null,
      "outputs": [
        {
          "output_type": "stream",
          "name": "stdout",
          "text": [
            "Pattern found at index 0\n",
            "Pattern found at index 10\n"
          ]
        }
      ]
    },
    {
      "cell_type": "markdown",
      "source": [
        "KMP Algo"
      ],
      "metadata": {
        "id": "--IL7_nhEJxw"
      }
    },
    {
      "cell_type": "code",
      "source": [
        "# Python3 program for KMP Algorithm\n",
        "def KMPSearch(pat, txt):\n",
        "\tM = len(pat)\n",
        "\tN = len(txt)\n",
        "\n",
        "\t# create lps[] that will hold the longest prefix suffix\n",
        "\t# values for pattern\n",
        "\tlps = [0]*M\n",
        "\tj = 0 # index for pat[]\n",
        "\n",
        "\t# Preprocess the pattern (calculate lps[] array)\n",
        "\tcomputeLPSArray(pat, M, lps)\n",
        "\n",
        "\ti = 0 # index for txt[]\n",
        "\twhile (N - i) >= (M - j):\n",
        "\t\tif pat[j] == txt[i]:\n",
        "\t\t\ti += 1\n",
        "\t\t\tj += 1\n",
        "\n",
        "\t\tif j == M:\n",
        "\t\t\tprint(\"Found pattern at index \" + str(i-j))\n",
        "\t\t\tj = lps[j-1]\n",
        "\n",
        "\t\t# mismatch after j matches\n",
        "\t\telif i < N and pat[j] != txt[i]:\n",
        "\t\t\t# Do not match lps[0..lps[j-1]] characters,\n",
        "\t\t\t# they will match anyway\n",
        "\t\t\tif j != 0:\n",
        "\t\t\t\tj = lps[j-1]\n",
        "\t\t\telse:\n",
        "\t\t\t\ti += 1\n",
        "\n",
        "\n",
        "def computeLPSArray(pat, M, lps):\n",
        "\tlen = 0 # length of the previous longest prefix suffix\n",
        "\n",
        "\tlps[0] = 0 # lps[0] is always 0\n",
        "\ti = 1\n",
        "\n",
        "\t# the loop calculates lps[i] for i = 1 to M-1\n",
        "\twhile i < M:\n",
        "\t\tif pat[i] == pat[len]:\n",
        "\t\t\tlen += 1\n",
        "\t\t\tlps[i] = len\n",
        "\t\t\ti += 1\n",
        "\t\telse:\n",
        "\t\t\t# This is tricky. Consider the example.\n",
        "\t\t\t# AAACAAAA and i = 7. The idea is similar\n",
        "\t\t\t# to search step.\n",
        "\t\t\tif len != 0:\n",
        "\t\t\t\tlen = lps[len-1]\n",
        "\n",
        "\t\t\t\t# Also, note that we do not increment i here\n",
        "\t\t\telse:\n",
        "\t\t\t\tlps[i] = 0\n",
        "\t\t\t\ti += 1\n",
        "\n",
        "\n",
        "txt = \"ABABDABACDABABCABAB\"\n",
        "pat = \"ABABCABAB\"\n",
        "KMPSearch(pat, txt)\n",
        "\n"
      ],
      "metadata": {
        "colab": {
          "base_uri": "https://localhost:8080/"
        },
        "id": "BA_19k2WEKPf",
        "outputId": "976386b2-2811-4372-b31e-e0706e8aeda3"
      },
      "execution_count": null,
      "outputs": [
        {
          "output_type": "stream",
          "name": "stdout",
          "text": [
            "Found pattern at index 10\n"
          ]
        }
      ]
    },
    {
      "cell_type": "markdown",
      "source": [
        "Convert a Sentence into its equivalent mobile numeric keypad sequence."
      ],
      "metadata": {
        "id": "L45INmiEOxco"
      }
    },
    {
      "cell_type": "code",
      "source": [
        "# Python3 implementation to convert\n",
        "# a sentence into its equivalent\n",
        "# mobile numeric keypad sequence\n",
        "\n",
        "# Function which computes the\n",
        "# sequence\n",
        "\n",
        "\n",
        "def printSequence(arr, input):\n",
        "\n",
        "    # length of input string\n",
        "    n = len(input)\n",
        "    output = \"\"\n",
        "\n",
        "    for i in range(n):\n",
        "\n",
        "        # checking for space\n",
        "        if(input[i] == ' '):\n",
        "            output = output + \"0\"\n",
        "        else:\n",
        "            # calculating index for each\n",
        "            # character\n",
        "            position = ord(input[i]) - ord('A')\n",
        "            output = output + arr[position]\n",
        "    # output sequence\n",
        "    return output\n",
        "\n",
        "\n",
        "# Driver code\n",
        "str = [\"2\", \"22\", \"222\",\n",
        "       \"3\", \"33\", \"333\",\n",
        "       \"4\", \"44\", \"444\",\n",
        "       \"5\", \"55\", \"555\",\n",
        "       \"6\", \"66\", \"666\",\n",
        "       \"7\", \"77\", \"777\", \"7777\",\n",
        "       \"8\", \"88\", \"888\",\n",
        "       \"9\", \"99\", \"999\", \"9999\"]\n",
        "\n",
        "input = \"GEEKSFORGEEKS\"\n",
        "print(printSequence(str, input))"
      ],
      "metadata": {
        "colab": {
          "base_uri": "https://localhost:8080/"
        },
        "id": "2LHq3YBQOx3g",
        "outputId": "32da5923-74e7-4fbf-edaf-a8280a4648cb"
      },
      "execution_count": null,
      "outputs": [
        {
          "output_type": "stream",
          "name": "stdout",
          "text": [
            "4333355777733366677743333557777\n"
          ]
        }
      ]
    },
    {
      "cell_type": "markdown",
      "source": [
        "Minimum number of bracket reversals needed to make an expression balanced."
      ],
      "metadata": {
        "id": "CelGynngSerp"
      }
    },
    {
      "cell_type": "code",
      "source": [
        "# Python3 program to find minimum number of\n",
        "# reversals required to balance an expression\n",
        "\n",
        "# Returns count of minimum reversals\n",
        "# for making expr balanced. Returns -1\n",
        "# if expr cannot be balanced.\n",
        "\n",
        "\n",
        "def countMinReversals(expr):\n",
        "\n",
        "\tlenn = len(expr)\n",
        "\n",
        "\t# length of expression must be even\n",
        "\t# to make it balanced by using reversals.\n",
        "\tif (lenn % 2):\n",
        "\t\treturn -1\n",
        "\n",
        "\t# After this loop, stack contains\n",
        "\t# unbalanced part of expression,\n",
        "\t# i.e., expression of the form \"....\"\n",
        "\ts = []\n",
        "\tfor i in range(lenn):\n",
        "\t\tif (expr[i] == '}' and len(s)):\n",
        "\n",
        "\t\t\tif (s[0] == '{'):\n",
        "\t\t\t\ts.pop(0)\n",
        "\t\t\telse:\n",
        "\t\t\t\ts.insert(0, expr[i])\n",
        "\t\telse:\n",
        "\t\t\ts.insert(0, expr[i])\n",
        "\n",
        "\t# Length of the reduced expression\n",
        "\t# red_len = (m+n)\n",
        "\tred_len = len(s)\n",
        "\n",
        "\t# count opening brackets at the\n",
        "\t# end of stack\n",
        "\tn = 0\n",
        "\twhile (len(s)and s[0] == '{'):\n",
        "\t\ts.pop(0)\n",
        "\t\tn += 1\n",
        "\n",
        "\t# return ceil(m/2) + ceil(n/2) which\n",
        "\t# is actually equal to (m+n)/2 + n%2\n",
        "\t# when m+n is even.\n",
        "\treturn (red_len // 2 + n % 2)\n",
        "\n",
        "\n",
        "# Driver Code\n",
        "if __name__ == '__main__':\n",
        "\n",
        "\texpr = \"}{\"\n",
        "\tprint(countMinReversals(expr.strip()))\n",
        "\n",
        "\n"
      ],
      "metadata": {
        "colab": {
          "base_uri": "https://localhost:8080/"
        },
        "id": "uOVqvIL9Sf7_",
        "outputId": "0d4e0d02-88c1-4aae-9efe-4b6aacd4d8b7"
      },
      "execution_count": null,
      "outputs": [
        {
          "output_type": "stream",
          "name": "stdout",
          "text": [
            "2\n"
          ]
        }
      ]
    },
    {
      "cell_type": "markdown",
      "source": [
        "Count All Palindromic Subsequence in a given String."
      ],
      "metadata": {
        "id": "DyWn3sHliHbv"
      }
    },
    {
      "cell_type": "code",
      "source": [
        "# Python3 code to Count Palindromic\n",
        "# Subsequence in a given String\n",
        "\n",
        "# Function return the total\n",
        "# palindromic subsequence\n",
        "\n",
        "\n",
        "def countPS(str):\n",
        "\n",
        "\tN = len(str)\n",
        "\n",
        "\t# Create a 2D array to store the count\n",
        "\t# of palindromic subsequence\n",
        "\tcps = [[0 for i in range(N + 2)]for j in range(N + 2)]\n",
        "\n",
        "\t# palindromic subsequence of length 1\n",
        "\tfor i in range(N):\n",
        "\t\tcps[i][i] = 1\n",
        "\n",
        "\t# check subsequence of length L\n",
        "\t# is palindrome or not\n",
        "\tfor L in range(2, N + 1):\n",
        "\n",
        "\t\tfor i in range(N):\n",
        "\t\t\tk = L + i - 1\n",
        "\t\t\tif (k < N):\n",
        "\t\t\t\tif (str[i] == str[k]):\n",
        "\t\t\t\t\tcps[i][k] = (cps[i][k - 1] +\n",
        "\t\t\t\t\t\t\t\tcps[i + 1][k] + 1)\n",
        "\t\t\t\telse:\n",
        "\t\t\t\t\tcps[i][k] = (cps[i][k - 1] +\n",
        "\t\t\t\t\t\t\t\tcps[i + 1][k] -\n",
        "\t\t\t\t\t\t\t\tcps[i + 1][k - 1])\n",
        "\n",
        "\t# return total palindromic subsequence\n",
        "\treturn cps[0][N - 1]\n",
        "\n",
        "\n",
        "# Driver program\n",
        "str = \"abcb\"\n",
        "print(\"Total palindromic subsequence are : \", countPS(str))\n",
        "\n",
        "\n",
        "\n"
      ],
      "metadata": {
        "colab": {
          "base_uri": "https://localhost:8080/"
        },
        "id": "NPFRZTqFiIpc",
        "outputId": "e6373afd-b4d6-418a-8425-7eb4fe52fbb6"
      },
      "execution_count": null,
      "outputs": [
        {
          "output_type": "stream",
          "name": "stdout",
          "text": [
            "Total palindromic subsequence are :  6\n"
          ]
        }
      ]
    },
    {
      "cell_type": "markdown",
      "source": [
        "Count of number of given string in 2D character array"
      ],
      "metadata": {
        "id": "skmBr6j6NBY3"
      }
    },
    {
      "cell_type": "code",
      "source": [
        "# Python code for finding count\n",
        "# of string in a given 2D\n",
        "# character array.\n",
        "\n",
        "# utility function to search\n",
        "# complete string from any\n",
        "# given index of 2d array\n",
        "def internalSearch(ii, needle, row, col, hay,\n",
        "\t\t\t\t\trow_max, col_max):\n",
        "\t\n",
        "\tfound = 0\n",
        "\tif (row >= 0 and row <= row_max and\n",
        "\t\tcol >= 0 and col <= col_max and\n",
        "\t\tneedle[ii] == hay[row][col]):\n",
        "\t\tmatch = needle[ii]\n",
        "\t\tii += 1\n",
        "\t\thay[row][col] = 0\n",
        "\t\tif (ii == len(needle)):\n",
        "\t\t\tfound = 1\n",
        "\t\telse:\n",
        "\t\t\t\n",
        "\t\t\t# through Backtrack searching\n",
        "\t\t\t# in every directions\n",
        "\t\t\tfound += internalSearch(ii, needle, row,\n",
        "\t\t\t\t\t\t\tcol + 1, hay, row_max, col_max)\n",
        "\t\t\tfound += internalSearch(ii, needle, row,\n",
        "\t\t\t\t\t\t\tcol - 1, hay, row_max, col_max)\n",
        "\t\t\tfound += internalSearch(ii, needle, row + 1,\n",
        "\t\t\t\t\t\t\tcol, hay, row_max, col_max)\n",
        "\t\t\tfound += internalSearch(ii, needle, row - 1,\n",
        "\t\t\t\t\t\t\tcol, hay, row_max, col_max)\n",
        "\t\thay[row][col] = match\n",
        "\treturn found\n",
        "\n",
        "# Function to search the string in 2d array\n",
        "def searchString(needle, row, col,strr,\n",
        "\t\t\t\trow_count, col_count):\n",
        "\tfound = 0\n",
        "\tfor r in range(row_count):\n",
        "\t\tfor c in range(col_count):\n",
        "\t\t\tfound += internalSearch(0, needle, r, c,\n",
        "\t\t\t\t\t\tstrr, row_count - 1, col_count - 1)\n",
        "\t\t\t\n",
        "\treturn found\n",
        "\n",
        "# Driver code\n",
        "\n",
        "needle = \"MAGIC\"\n",
        "inputt = [\"BBABBM\",\"CBMBBA\",\"IBABBG\",\n",
        "\t\t\t\"GOZBBI\",\"ABBBBC\",\"MCIGAM\"]\n",
        "\n",
        "strr = [0] * len(inputt)\n",
        "\n",
        "for i in range(len(inputt)):\n",
        "\tstrr[i] = list(inputt[i])\n",
        "\t\n",
        "print(\"count: \", searchString(needle, 0, 0, strr,\n",
        "\t\t\t\t\t\tlen(strr), len(strr[0])))\n",
        "\n"
      ],
      "metadata": {
        "colab": {
          "base_uri": "https://localhost:8080/"
        },
        "id": "UiMpkHxANCMz",
        "outputId": "ae2d4d60-6ba3-44a9-e6f7-02506f641fb1"
      },
      "execution_count": null,
      "outputs": [
        {
          "output_type": "stream",
          "name": "stdout",
          "text": [
            "count:  3\n"
          ]
        }
      ]
    },
    {
      "cell_type": "markdown",
      "source": [
        "Search a Word in a 2D Grid of characters."
      ],
      "metadata": {
        "id": "uXa0VL2A5eje"
      }
    },
    {
      "cell_type": "code",
      "source": [
        "# Python3 program to search a word in a 2D grid\n",
        "class GFG:\n",
        "\t\n",
        "\tdef __init__(self):\n",
        "\t\tself.R = None\n",
        "\t\tself.C = None\n",
        "\t\tself.dir = [[-1, 0], [1, 0], [1, 1],\n",
        "\t\t\t\t\t[1, -1], [-1, -1], [-1, 1],\n",
        "\t\t\t\t\t[0, 1], [0, -1]]\n",
        "\t\t\t\t\t\n",
        "\t# This function searches in all 8-direction\n",
        "\t# from point(row, col) in grid[][]\n",
        "\tdef search2D(self, grid, row, col, word):\n",
        "\t\t\n",
        "\t\t# If first character of word doesn't match\n",
        "\t\t# with the given starting point in grid.\n",
        "\t\tif grid[row][col] != word[0]:\n",
        "\t\t\treturn False\n",
        "\t\t\t\n",
        "\t\t# Search word in all 8 directions\n",
        "\t\t# starting from (row, col)\n",
        "\t\tfor x, y in self.dir:\n",
        "\t\t\t\n",
        "\t\t\t# Initialize starting point\n",
        "\t\t\t# for current direction\n",
        "\t\t\trd, cd = row + x, col + y\n",
        "\t\t\tflag = True\n",
        "\t\t\t\n",
        "\t\t\t# First character is already checked,\n",
        "\t\t\t# match remaining characters\n",
        "\t\t\tfor k in range(1, len(word)):\n",
        "\t\t\t\t\n",
        "\t\t\t\t# If out of bound or not matched, break\n",
        "\t\t\t\tif (0 <= rd <self.R and\n",
        "\t\t\t\t\t0 <= cd < self.C and\n",
        "\t\t\t\t\tword[k] == grid[rd][cd]):\n",
        "\t\t\t\t\t\n",
        "\t\t\t\t\t# Moving in particular direction\n",
        "\t\t\t\t\trd += x\n",
        "\t\t\t\t\tcd += y\n",
        "\t\t\t\telse:\n",
        "\t\t\t\t\tflag = False\n",
        "\t\t\t\t\tbreak\n",
        "\t\t\t\n",
        "\t\t\t# If all character matched, then\n",
        "\t\t\t# value of flag must be false\t\n",
        "\t\t\tif flag:\n",
        "\t\t\t\treturn True\n",
        "\t\treturn False\n",
        "\t\t\n",
        "\t# Searches given word in a given matrix\n",
        "\t# in all 8 directions\n",
        "\tdef patternSearch(self, grid, word):\n",
        "\t\t\n",
        "\t\t# Rows and columns in given grid\n",
        "\t\tself.R = len(grid)\n",
        "\t\tself.C = len(grid[0])\n",
        "\t\t\n",
        "\t\t# Consider every point as starting point\n",
        "\t\t# and search given word\n",
        "\t\tfor row in range(self.R):\n",
        "\t\t\tfor col in range(self.C):\n",
        "\t\t\t\tif self.search2D(grid, row, col, word):\n",
        "\t\t\t\t\tprint(\"pattern found at \" +\n",
        "\t\t\t\t\t\tstr(row) + ', ' + str(col))\n",
        "\t\t\t\t\t\n",
        "# Driver Code\n",
        "if __name__=='__main__':\n",
        "\tgrid = [\"GEEKSFORGEEKS\",\n",
        "\t\t\t\"GEEKSQUIZGEEK\",\n",
        "\t\t\t\"IDEQAPRACTICE\"]\n",
        "\tgfg = GFG()\n",
        "\tgfg.patternSearch(grid, 'GEEKS')\n",
        "\tprint('')\n",
        "\tgfg.patternSearch(grid, 'EEE')\n",
        "\t\n",
        "\n"
      ],
      "metadata": {
        "colab": {
          "base_uri": "https://localhost:8080/"
        },
        "id": "xwSlqKwL5f-v",
        "outputId": "b5f976f5-b429-4fe3-b1b7-2fc455a86da4"
      },
      "execution_count": null,
      "outputs": [
        {
          "output_type": "stream",
          "name": "stdout",
          "text": [
            "pattern found at 0, 0\n",
            "pattern found at 0, 8\n",
            "pattern found at 1, 0\n",
            "\n",
            "pattern found at 0, 2\n",
            "pattern found at 0, 10\n",
            "pattern found at 2, 2\n",
            "pattern found at 2, 12\n"
          ]
        }
      ]
    },
    {
      "cell_type": "markdown",
      "source": [
        "Boyer Moore Algorithm for Pattern Searching."
      ],
      "metadata": {
        "id": "UdQ9NBKX8704"
      }
    },
    {
      "cell_type": "code",
      "source": [
        "# Python3 Program for Bad Character Heuristic\n",
        "# of Boyer Moore String Matching Algorithm\n",
        "\n",
        "NO_OF_CHARS = 256\n",
        "\n",
        "def badCharHeuristic(string, size):\n",
        "\t'''\n",
        "\tThe preprocessing function for\n",
        "\tBoyer Moore's bad character heuristic\n",
        "\t'''\n",
        "\n",
        "\t# Initialize all occurrence as -1\n",
        "\tbadChar = [-1]*NO_OF_CHARS\n",
        "\n",
        "\t# Fill the actual value of last occurrence\n",
        "\tfor i in range(size):\n",
        "\t\tbadChar[ord(string[i])] = i;\n",
        "\n",
        "\t# return initialized list\n",
        "\treturn badChar\n",
        "\n",
        "def search(txt, pat):\n",
        "\t'''\n",
        "\tA pattern searching function that uses Bad Character\n",
        "\tHeuristic of Boyer Moore Algorithm\n",
        "\t'''\n",
        "\tm = len(pat)\n",
        "\tn = len(txt)\n",
        "\n",
        "\t# create the bad character list by calling\n",
        "\t# the preprocessing function badCharHeuristic()\n",
        "\t# for given pattern\n",
        "\tbadChar = badCharHeuristic(pat, m)\n",
        "\n",
        "\t# s is shift of the pattern with respect to text\n",
        "\ts = 0\n",
        "\twhile(s <= n-m):\n",
        "\t\tj = m-1\n",
        "\n",
        "\t\t# Keep reducing index j of pattern while\n",
        "\t\t# characters of pattern and text are matching\n",
        "\t\t# at this shift s\n",
        "\t\twhile j>=0 and pat[j] == txt[s+j]:\n",
        "\t\t\tj -= 1\n",
        "\n",
        "\t\t# If the pattern is present at current shift,\n",
        "\t\t# then index j will become -1 after the above loop\n",
        "\t\tif j<0:\n",
        "\t\t\tprint(\"Pattern occur at shift = {}\".format(s))\n",
        "\n",
        "\t\t\t'''\n",
        "\t\t\t\tShift the pattern so that the next character in text\n",
        "\t\t\t\t\taligns with the last occurrence of it in pattern.\n",
        "\t\t\t\tThe condition s+m < n is necessary for the case when\n",
        "\t\t\t\tpattern occurs at the end of text\n",
        "\t\t\t'''\n",
        "\t\t\ts += (m-badChar[ord(txt[s+m])] if s+m<n else 1)\n",
        "\t\telse:\n",
        "\t\t\t'''\n",
        "\t\t\tShift the pattern so that the bad character in text\n",
        "\t\t\taligns with the last occurrence of it in pattern. The\n",
        "\t\t\tmax function is used to make sure that we get a positive\n",
        "\t\t\tshift. We may get a negative shift if the last occurrence\n",
        "\t\t\tof bad character in pattern is on the right side of the\n",
        "\t\t\tcurrent character.\n",
        "\t\t\t'''\n",
        "\t\t\ts += max(1, j-badChar[ord(txt[s+j])])\n",
        "\n",
        "\n",
        "# Driver program to test above function\n",
        "def main():\n",
        "\ttxt = \"ABAAABCD\"\n",
        "\tpat = \"ABC\"\n",
        "\tsearch(txt, pat)\n",
        "\n",
        "if __name__ == '__main__':\n",
        "\tmain()\n",
        "\n",
        "\n"
      ],
      "metadata": {
        "colab": {
          "base_uri": "https://localhost:8080/"
        },
        "id": "KwrYD6ID88c5",
        "outputId": "a029468e-b6cd-4f20-d799-eda5ce3604bb"
      },
      "execution_count": null,
      "outputs": [
        {
          "output_type": "stream",
          "name": "stdout",
          "text": [
            "Pattern occur at shift = 4\n"
          ]
        }
      ]
    },
    {
      "cell_type": "markdown",
      "source": [
        "Converting Roman Numerals to Decimal"
      ],
      "metadata": {
        "id": "C_vFMYYaAZJS"
      }
    },
    {
      "cell_type": "code",
      "source": [
        "# Python program to convert Roman Numerals\n",
        "# to Numbers\n",
        "\n",
        "# This function returns value of each Roman symbol\n",
        "\n",
        "\n",
        "def value(r):\n",
        "\tif (r == 'I'):\n",
        "\t\treturn 1\n",
        "\tif (r == 'V'):\n",
        "\t\treturn 5\n",
        "\tif (r == 'X'):\n",
        "\t\treturn 10\n",
        "\tif (r == 'L'):\n",
        "\t\treturn 50\n",
        "\tif (r == 'C'):\n",
        "\t\treturn 100\n",
        "\tif (r == 'D'):\n",
        "\t\treturn 500\n",
        "\tif (r == 'M'):\n",
        "\t\treturn 1000\n",
        "\treturn -1\n",
        "\n",
        "\n",
        "def romanToDecimal(str):\n",
        "\tres = 0\n",
        "\ti = 0\n",
        "\n",
        "\twhile (i < len(str)):\n",
        "\n",
        "\t\t# Getting value of symbol s[i]\n",
        "\t\ts1 = value(str[i])\n",
        "\n",
        "\t\tif (i + 1 < len(str)):\n",
        "\n",
        "\t\t\t# Getting value of symbol s[i + 1]\n",
        "\t\t\ts2 = value(str[i + 1])\n",
        "\n",
        "\t\t\t# Comparing both values\n",
        "\t\t\tif (s1 >= s2):\n",
        "\n",
        "\t\t\t\t# Value of current symbol is greater\n",
        "\t\t\t\t# or equal to the next symbol\n",
        "\t\t\t\tres = res + s1\n",
        "\t\t\t\ti = i + 1\n",
        "\t\t\telse:\n",
        "\n",
        "\t\t\t\t# Value of current symbol is greater\n",
        "\t\t\t\t# or equal to the next symbol\n",
        "\t\t\t\tres = res + s2 - s1\n",
        "\t\t\t\ti = i + 2\n",
        "\t\telse:\n",
        "\t\t\tres = res + s1\n",
        "\t\t\ti = i + 1\n",
        "\n",
        "\treturn res\n",
        "\n",
        "\n",
        "# Driver code\n",
        "print(\"Integer form of Roman Numeral is\"),\n",
        "print(romanToDecimal(\"MCMIV\"))\n"
      ],
      "metadata": {
        "colab": {
          "base_uri": "https://localhost:8080/"
        },
        "id": "Ko_9ejj1AZfb",
        "outputId": "41a43b02-cde5-4ce7-cc9d-8aede5baa63d"
      },
      "execution_count": 1,
      "outputs": [
        {
          "output_type": "stream",
          "name": "stdout",
          "text": [
            "Integer form of Roman Numeral is\n",
            "1904\n"
          ]
        }
      ]
    }
  ]
}