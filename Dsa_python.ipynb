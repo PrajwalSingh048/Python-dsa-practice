{
  "nbformat": 4,
  "nbformat_minor": 0,
  "metadata": {
    "colab": {
      "provenance": [],
      "authorship_tag": "ABX9TyPX9CnlRa2tC3o1ae4X4k2m",
      "include_colab_link": true
    },
    "kernelspec": {
      "name": "python3",
      "display_name": "Python 3"
    },
    "language_info": {
      "name": "python"
    }
  },
  "cells": [
    {
      "cell_type": "markdown",
      "metadata": {
        "id": "view-in-github",
        "colab_type": "text"
      },
      "source": [
        "<a href=\"https://colab.research.google.com/github/PrajwalSingh048/Python-dsa-practice/blob/main/Dsa_python.ipynb\" target=\"_parent\"><img src=\"https://colab.research.google.com/assets/colab-badge.svg\" alt=\"Open In Colab\"/></a>"
      ]
    },
    {
      "cell_type": "markdown",
      "source": [
        "DSA python practice Notebook"
      ],
      "metadata": {
        "id": "ODSviEJ74kau"
      }
    },
    {
      "cell_type": "markdown",
      "source": [
        "Reverse list"
      ],
      "metadata": {
        "id": "--yoctiDb7f1"
      }
    },
    {
      "cell_type": "code",
      "execution_count": null,
      "metadata": {
        "colab": {
          "base_uri": "https://localhost:8080/"
        },
        "id": "QsZM1SrS4jWq",
        "outputId": "c555a5ba-abd8-44b7-e1cd-01dc44339efc"
      },
      "outputs": [
        {
          "output_type": "stream",
          "name": "stdout",
          "text": [
            "[1, 2, 3, 4, 5, 6]\n",
            "Reversed list is\n",
            "[6, 5, 4, 3, 2, 1]\n"
          ]
        }
      ],
      "source": [
        "def reverseList(A):\n",
        "  print( A[::-1])\n",
        "     \n",
        "# Driver function to test above function\n",
        "A = [1, 2, 3, 4, 5, 6]\n",
        "print(A)\n",
        "print(\"Reversed list is\")\n",
        "reverseList(A) "
      ]
    },
    {
      "cell_type": "markdown",
      "source": [
        "Maximum and minimum of an array using minimum number of comparisons"
      ],
      "metadata": {
        "id": "IedJrkrkcZvI"
      }
    },
    {
      "cell_type": "code",
      "source": [
        "# Python3 program of above implementation\n",
        "def getMinMax(arr):\n",
        "\t\n",
        "\tn = len(arr)\n",
        "\t\n",
        "\t# If array has even number of elements then\n",
        "\t# initialize the first two elements as minimum\n",
        "\t# and maximum\n",
        "\tif(n % 2 == 0):\n",
        "\t\tmx = max(arr[0], arr[1])\n",
        "\t\tmn = min(arr[0], arr[1])\n",
        "\t\t\n",
        "\t\t# set the starting index for loop\n",
        "\t\ti = 2\n",
        "\t\t\n",
        "\t# If array has odd number of elements then\n",
        "\t# initialize the first element as minimum\n",
        "\t# and maximum\n",
        "\telse:\n",
        "\t\tmx = mn = arr[0]\n",
        "\t\t\n",
        "\t\t# set the starting index for loop\n",
        "\t\ti = 1\n",
        "\t\t\n",
        "\t# In the while loop, pick elements in pair and\n",
        "\t# compare the pair with max and min so far\n",
        "\twhile(i < n - 1):\n",
        "\t\tif arr[i] < arr[i + 1]:\n",
        "\t\t\tmx = max(mx, arr[i + 1])\n",
        "\t\t\tmn = min(mn, arr[i])\n",
        "\t\telse:\n",
        "\t\t\tmx = max(mx, arr[i])\n",
        "\t\t\tmn = min(mn, arr[i + 1])\n",
        "\t\t\t\n",
        "\t\t# Increment the index by 2 as two\n",
        "\t\t# elements are processed in loop\n",
        "\t\ti += 2\n",
        "\t\n",
        "\treturn (mx, mn)\n",
        "\t\n",
        "# Driver Code\n",
        "if __name__ =='__main__':\n",
        "\t\n",
        "\tarr = [1000, 11, 445, 1, 330, 3000]\n",
        "\tmx, mn = getMinMax(arr)\n",
        "\tprint(\"Minimum element is\", mn)\n",
        "\tprint(\"Maximum element is\", mx)\n",
        "\t\n"
      ],
      "metadata": {
        "colab": {
          "base_uri": "https://localhost:8080/"
        },
        "id": "_hWKxPStcaNM",
        "outputId": "b83133c7-4ff3-4ade-9285-72ceef6fe3d6"
      },
      "execution_count": null,
      "outputs": [
        {
          "output_type": "stream",
          "name": "stdout",
          "text": [
            "Minimum element is 1\n",
            "Maximum element is 3000\n"
          ]
        }
      ]
    },
    {
      "cell_type": "markdown",
      "source": [
        "Kth smallest number in list."
      ],
      "metadata": {
        "id": "mOS4tMjnJq--"
      }
    },
    {
      "cell_type": "code",
      "source": [
        "import heapq\n",
        " \n",
        " \n",
        "# A simple implementation of max-heap based on `heapq`\n",
        "class MaxHeap:\n",
        " \n",
        "    def __init__(self, data=None):\n",
        "        if data is None:\n",
        "            self.data = []\n",
        "        else:\n",
        "            self.data = [-i for i in data]\n",
        "            heapq.heapify(self.data)\n",
        "    def top(self):\n",
        "        return -self.data[0]\n",
        " \n",
        "    def push(self, item):\n",
        "        heapq.heappush(self.data, -item)\n",
        " \n",
        "    def pop(self):\n",
        "        return -heapq.heappop(self.data)\n",
        " \n",
        "    def replace(self, item):\n",
        "        return heapq.heapreplace(self.data, -item)          \n",
        "# Function to find the k'th smallest element in a list using max-heap\n",
        "def find_kth_smallest(input, k):\n",
        " \n",
        "    # base case\n",
        "    if not input or len(input) < k:\n",
        "        exit(-1)\n",
        " \n",
        "    # build a max-heap from the first `k` elements in the list\n",
        "    pq = MaxHeap(input[0:k])\n",
        " \n",
        "    # do for remaining list elements\n",
        "    for i in range(k, len(input)):\n",
        "        # if the current element is less than the root of the heap\n",
        "        if input[i] < pq.top():\n",
        "            # replace root with the current element\n",
        "            pq.replace(input[i])\n",
        " \n",
        "    # return the root of max-heap\n",
        "    return pq.top() \n",
        "if __name__ == '__main__':\n",
        " \n",
        "    input = [7, 4, 6, 3, 9, 1]\n",
        "    k = 3\n",
        " \n",
        "    print('k\\'th smallest element in the list is', find_kth_smallest(input, k))\n",
        "             "
      ],
      "metadata": {
        "colab": {
          "base_uri": "https://localhost:8080/"
        },
        "id": "vxiQOv7_JqgX",
        "outputId": "d3a25b0e-b1eb-4a2d-d0c2-ab5f5329d0f0"
      },
      "execution_count": null,
      "outputs": [
        {
          "output_type": "stream",
          "name": "stdout",
          "text": [
            "k'th smallest element in the list is 4\n"
          ]
        }
      ]
    },
    {
      "cell_type": "markdown",
      "source": [
        "kth largest number"
      ],
      "metadata": {
        "id": "h8oOsjdN3jjM"
      }
    },
    {
      "cell_type": "code",
      "source": [
        "class Solution(object):\n",
        "   def findKthLargest(self, nums, k):\n",
        "      nums.sort()\n",
        "      if k ==1:\n",
        "         return nums[-1]\n",
        "      temp = 1\n",
        "      return nums[len(nums)-k]\n",
        "ob1 = Solution()\n",
        "print(ob1.findKthLargest([56,14,7,98,32,12,11,50,45,78,7,5,69], 5))"
      ],
      "metadata": {
        "colab": {
          "base_uri": "https://localhost:8080/"
        },
        "id": "fFZ-COLo3tzG",
        "outputId": "bbe4ddf2-4cf0-4bf3-c170-23fc3ca0f18b"
      },
      "execution_count": 1,
      "outputs": [
        {
          "output_type": "stream",
          "name": "stdout",
          "text": [
            "50\n"
          ]
        }
      ]
    }
  ]
}