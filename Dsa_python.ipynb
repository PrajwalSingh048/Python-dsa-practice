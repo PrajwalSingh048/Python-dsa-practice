{
  "cells": [
    {
      "cell_type": "markdown",
      "metadata": {
        "id": "view-in-github",
        "colab_type": "text"
      },
      "source": [
        "<a href=\"https://colab.research.google.com/github/PrajwalSingh048/Python-dsa-practice/blob/main/Dsa_python.ipynb\" target=\"_parent\"><img src=\"https://colab.research.google.com/assets/colab-badge.svg\" alt=\"Open In Colab\"/></a>"
      ]
    },
    {
      "cell_type": "markdown",
      "metadata": {
        "id": "ODSviEJ74kau"
      },
      "source": [
        "DSA python practice Notebook"
      ]
    },
    {
      "cell_type": "markdown",
      "metadata": {
        "id": "--yoctiDb7f1"
      },
      "source": [
        "Reverse list"
      ]
    },
    {
      "cell_type": "code",
      "execution_count": null,
      "metadata": {
        "colab": {
          "base_uri": "https://localhost:8080/"
        },
        "id": "QsZM1SrS4jWq",
        "outputId": "c555a5ba-abd8-44b7-e1cd-01dc44339efc"
      },
      "outputs": [
        {
          "name": "stdout",
          "output_type": "stream",
          "text": [
            "[1, 2, 3, 4, 5, 6]\n",
            "Reversed list is\n",
            "[6, 5, 4, 3, 2, 1]\n"
          ]
        }
      ],
      "source": [
        "def reverseList(A):\n",
        "  print( A[::-1])\n",
        "     \n",
        "# Driver function to test above function\n",
        "A = [1, 2, 3, 4, 5, 6]\n",
        "print(A)\n",
        "print(\"Reversed list is\")\n",
        "reverseList(A) "
      ]
    },
    {
      "cell_type": "markdown",
      "metadata": {
        "id": "IedJrkrkcZvI"
      },
      "source": [
        "Maximum and minimum of an array using minimum number of comparisons"
      ]
    },
    {
      "cell_type": "code",
      "execution_count": null,
      "metadata": {
        "colab": {
          "base_uri": "https://localhost:8080/"
        },
        "id": "_hWKxPStcaNM",
        "outputId": "b83133c7-4ff3-4ade-9285-72ceef6fe3d6"
      },
      "outputs": [
        {
          "name": "stdout",
          "output_type": "stream",
          "text": [
            "Minimum element is 1\n",
            "Maximum element is 3000\n"
          ]
        }
      ],
      "source": [
        "# Python3 program of above implementation\n",
        "def getMinMax(arr):\n",
        "\t\n",
        "\tn = len(arr)\n",
        "\t\n",
        "\t# If array has even number of elements then\n",
        "\t# initialize the first two elements as minimum\n",
        "\t# and maximum\n",
        "\tif(n % 2 == 0):\n",
        "\t\tmx = max(arr[0], arr[1])\n",
        "\t\tmn = min(arr[0], arr[1])\n",
        "\t\t\n",
        "\t\t# set the starting index for loop\n",
        "\t\ti = 2\n",
        "\t\t\n",
        "\t# If array has odd number of elements then\n",
        "\t# initialize the first element as minimum\n",
        "\t# and maximum\n",
        "\telse:\n",
        "\t\tmx = mn = arr[0]\n",
        "\t\t\n",
        "\t\t# set the starting index for loop\n",
        "\t\ti = 1\n",
        "\t\t\n",
        "\t# In the while loop, pick elements in pair and\n",
        "\t# compare the pair with max and min so far\n",
        "\twhile(i < n - 1):\n",
        "\t\tif arr[i] < arr[i + 1]:\n",
        "\t\t\tmx = max(mx, arr[i + 1])\n",
        "\t\t\tmn = min(mn, arr[i])\n",
        "\t\telse:\n",
        "\t\t\tmx = max(mx, arr[i])\n",
        "\t\t\tmn = min(mn, arr[i + 1])\n",
        "\t\t\t\n",
        "\t\t# Increment the index by 2 as two\n",
        "\t\t# elements are processed in loop\n",
        "\t\ti += 2\n",
        "\t\n",
        "\treturn (mx, mn)\n",
        "\t\n",
        "# Driver Code\n",
        "if __name__ =='__main__':\n",
        "\t\n",
        "\tarr = [1000, 11, 445, 1, 330, 3000]\n",
        "\tmx, mn = getMinMax(arr)\n",
        "\tprint(\"Minimum element is\", mn)\n",
        "\tprint(\"Maximum element is\", mx)\n",
        "\t\n"
      ]
    },
    {
      "cell_type": "markdown",
      "metadata": {
        "id": "mOS4tMjnJq--"
      },
      "source": [
        "Kth smallest number in list."
      ]
    },
    {
      "cell_type": "code",
      "execution_count": null,
      "metadata": {
        "colab": {
          "base_uri": "https://localhost:8080/"
        },
        "id": "vxiQOv7_JqgX",
        "outputId": "d3a25b0e-b1eb-4a2d-d0c2-ab5f5329d0f0"
      },
      "outputs": [
        {
          "name": "stdout",
          "output_type": "stream",
          "text": [
            "k'th smallest element in the list is 4\n"
          ]
        }
      ],
      "source": [
        "import heapq\n",
        " \n",
        " \n",
        "# A simple implementation of max-heap based on `heapq`\n",
        "class MaxHeap:\n",
        " \n",
        "    def __init__(self, data=None):\n",
        "        if data is None:\n",
        "            self.data = []\n",
        "        else:\n",
        "            self.data = [-i for i in data]\n",
        "            heapq.heapify(self.data)\n",
        "    def top(self):\n",
        "        return -self.data[0]\n",
        " \n",
        "    def push(self, item):\n",
        "        heapq.heappush(self.data, -item)\n",
        " \n",
        "    def pop(self):\n",
        "        return -heapq.heappop(self.data)\n",
        " \n",
        "    def replace(self, item):\n",
        "        return heapq.heapreplace(self.data, -item)          \n",
        "# Function to find the k'th smallest element in a list using max-heap\n",
        "def find_kth_smallest(input, k):\n",
        " \n",
        "    # base case\n",
        "    if not input or len(input) < k:\n",
        "        exit(-1)\n",
        " \n",
        "    # build a max-heap from the first `k` elements in the list\n",
        "    pq = MaxHeap(input[0:k])\n",
        " \n",
        "    # do for remaining list elements\n",
        "    for i in range(k, len(input)):\n",
        "        # if the current element is less than the root of the heap\n",
        "        if input[i] < pq.top():\n",
        "            # replace root with the current element\n",
        "            pq.replace(input[i])\n",
        " \n",
        "    # return the root of max-heap\n",
        "    return pq.top() \n",
        "if __name__ == '__main__':\n",
        " \n",
        "    input = [7, 4, 6, 3, 9, 1]\n",
        "    k = 3\n",
        " \n",
        "    print('k\\'th smallest element in the list is', find_kth_smallest(input, k))\n",
        "             "
      ]
    },
    {
      "cell_type": "markdown",
      "metadata": {
        "id": "h8oOsjdN3jjM"
      },
      "source": [
        "kth largest number"
      ]
    },
    {
      "cell_type": "code",
      "execution_count": null,
      "metadata": {
        "colab": {
          "base_uri": "https://localhost:8080/"
        },
        "id": "fFZ-COLo3tzG",
        "outputId": "bbe4ddf2-4cf0-4bf3-c170-23fc3ca0f18b"
      },
      "outputs": [
        {
          "name": "stdout",
          "output_type": "stream",
          "text": [
            "50\n"
          ]
        }
      ],
      "source": [
        "class Solution(object):\n",
        "   def findKthLargest(self, nums, k):\n",
        "      nums.sort()\n",
        "      if k ==1:\n",
        "         return nums[-1]\n",
        "      temp = 1\n",
        "      return nums[len(nums)-k]\n",
        "ob1 = Solution()\n",
        "print(ob1.findKthLargest([56,14,7,98,32,12,11,50,45,78,7,5,69], 5))"
      ]
    },
    {
      "cell_type": "markdown",
      "metadata": {
        "id": "l0Z7Dfr4CYS5"
      },
      "source": [
        "Sort an array Of 0s, 1s and 2s"
      ]
    },
    {
      "cell_type": "code",
      "execution_count": null,
      "metadata": {
        "colab": {
          "base_uri": "https://localhost:8080/"
        },
        "id": "-6oiL8gJCbd4",
        "outputId": "7b8dc2ea-9666-4b39-87cc-4b7b2495163c"
      },
      "outputs": [
        {
          "name": "stdout",
          "output_type": "stream",
          "text": [
            "Array after segregation :\n",
            "0\n",
            "0\n",
            "0\n",
            "0\n",
            "0\n",
            "1\n",
            "1\n",
            "1\n",
            "1\n",
            "1\n",
            "2\n",
            "2\n"
          ]
        }
      ],
      "source": [
        "# Python program to sort an array with \n",
        "# 0, 1 and 2 in a single pass\n",
        "  \n",
        "# Function to sort array\n",
        "def sort012( a, arr_size):\n",
        "    lo = 0\n",
        "    hi = arr_size - 1\n",
        "    mid = 0\n",
        "    while mid <= hi:\n",
        "        if a[mid] == 0:\n",
        "            a[lo], a[mid] = a[mid], a[lo]\n",
        "            lo = lo + 1\n",
        "            mid = mid + 1\n",
        "        elif a[mid] == 1:\n",
        "            mid = mid + 1\n",
        "        else:\n",
        "            a[mid], a[hi] = a[hi], a[mid] \n",
        "            hi = hi - 1\n",
        "    return a\n",
        "      \n",
        "# Function to print array\n",
        "def printArray(a):\n",
        "    for k in a:\n",
        "        print (k),\n",
        "    \n",
        "# Driver Program\n",
        "arr = [0, 1, 1, 0, 1, 2, \n",
        "       1, 2, 0, 0, 0, 1]\n",
        "arr_size = len(arr)\n",
        "arr = sort012( arr, arr_size)\n",
        "print (\"Array after segregation :\"),\n",
        "printArray(arr)"
      ]
    },
    {
      "cell_type": "markdown",
      "metadata": {
        "id": "u5G8NXxOa-YP"
      },
      "source": [
        "To put all the zero in one side of an array"
      ]
    },
    {
      "cell_type": "code",
      "execution_count": null,
      "metadata": {
        "colab": {
          "base_uri": "https://localhost:8080/"
        },
        "id": "25mRx0ZMa_Ga",
        "outputId": "a36b41f8-3320-44e1-c1c3-35af2ed78cb5"
      },
      "outputs": [
        {
          "name": "stdout",
          "output_type": "stream",
          "text": [
            "0 0 0 2 3 6 1 "
          ]
        }
      ],
      "source": [
        "# Python3 implementation of the approach\n",
        " \n",
        "# Utility function to print\n",
        "# the contents of an array\n",
        "def printArr(arr, n) :\n",
        " \n",
        "    for i in range(n) :\n",
        "        print(arr[i],end=\" \")\n",
        " \n",
        " \n",
        "# Function that pushes all the zeros\n",
        "# to the start and ones to the end of an array\n",
        "def pushBinaryToBorder(arr, n) :\n",
        " \n",
        "    # To store the count of elements\n",
        "    # which are not equal to 1\n",
        "    count1 = 0\n",
        "     \n",
        "    # Traverse the array and calculate\n",
        "    # count of elements which are not 1\n",
        "    for i in range(n) :\n",
        "        if (arr[i] != 1) :\n",
        "            arr[count1] = arr[i]\n",
        "            count1 += 1\n",
        " \n",
        "    # Now all non-ones elements have been shifted to\n",
        "    # front and 'count1' is set as index of first 1.\n",
        "    # Make all elements 1 from count to end.\n",
        "    while (count1 < n) :\n",
        "        arr[count1] = 1\n",
        "        count1 += 1\n",
        " \n",
        "    # Initialize lastNonBinary position to zero\n",
        "    lastNonOne = 0\n",
        " \n",
        "    # Traverse the array and pull non-zero\n",
        "    # elements to the required indices\n",
        "    for i in range(n - 1, -1, -1) :\n",
        " \n",
        "        # Ignore the 1's\n",
        "        if (arr[i] == 1) :\n",
        "            continue\n",
        "             \n",
        "        if (not lastNonOne) :\n",
        " \n",
        "            # Mark the position Of\n",
        "            # last NonBinary integer\n",
        "            lastNonOne = i\n",
        " \n",
        "        # Place non-zero element to\n",
        "        # their required indices\n",
        "        if (arr[i] != 0) :\n",
        "            arr[lastNonOne] = arr[i]\n",
        "            lastNonOne -= 1\n",
        " \n",
        "    # Put zeros to start of array\n",
        "    while (lastNonOne >= 0) :\n",
        "        arr[lastNonOne] = 0\n",
        "        lastNonOne -= 1\n",
        " \n",
        "# Driver code\n",
        "if __name__ == \"__main__\" :\n",
        "     \n",
        "    arr = [ 1, 2, 0, 0, 0, 3, 6 ];\n",
        "    n = len(arr);\n",
        "    pushBinaryToBorder(arr, n)\n",
        "    printArr(arr, n)"
      ]
    },
    {
      "cell_type": "markdown",
      "metadata": {
        "id": "40Qcdpqp9tkG"
      },
      "source": [
        "Move all the negative elements to one side of the array \n",
        "\n"
      ]
    },
    {
      "cell_type": "code",
      "execution_count": null,
      "metadata": {
        "colab": {
          "base_uri": "https://localhost:8080/"
        },
        "id": "lAZOU4dx9uKn",
        "outputId": "dfca739f-71b4-4acb-c1c3-b226e4a0c3c1"
      },
      "outputs": [
        {
          "name": "stdout",
          "output_type": "stream",
          "text": [
            "-7 -3 -1 2 4 5 6 8 9 "
          ]
        }
      ],
      "source": [
        "def move(arr):\n",
        "  arr.sort()\n",
        " \n",
        "# driver code\n",
        "arr = [ -1, 2, -3, 4, 5, 6, -7, 8, 9 ]\n",
        "move(arr)\n",
        "for e in arr:\n",
        "    print(e , end = \" \")"
      ]
    },
    {
      "cell_type": "markdown",
      "metadata": {
        "id": "Bw3ufzZA9694"
      },
      "source": [
        "Given an array which consists of only 0, 1 and 2. Sort the array without using any sorting algo"
      ]
    },
    {
      "cell_type": "code",
      "execution_count": null,
      "metadata": {
        "colab": {
          "base_uri": "https://localhost:8080/"
        },
        "id": "xzgL3ahM97Xg",
        "outputId": "71ac0883-06c0-43a0-d5fa-3bde81d79484"
      },
      "outputs": [
        {
          "name": "stdout",
          "output_type": "stream",
          "text": [
            "0 0 0 0 0 1 1 1 1 1 2 2 "
          ]
        }
      ],
      "source": [
        "\n",
        "# Python implementation of the approach\n",
        " \n",
        "# Utility function to print contents of an array\n",
        " \n",
        " \n",
        "def printArr(arr, n):\n",
        "    for i in range(n):\n",
        "        print(arr[i], end=\" \")\n",
        " \n",
        " \n",
        "# Function to sort the array of 0s, 1s and 2s\n",
        "def sortArr(arr, n):\n",
        "    cnt0 = 0\n",
        "    cnt1 = 0\n",
        "    cnt2 = 0\n",
        " \n",
        "    # Count the number of 0s, 1s and 2s in the array\n",
        "    for i in range(n):\n",
        "        if arr[i] == 0:\n",
        "            cnt0 += 1\n",
        " \n",
        "        elif arr[i] == 1:\n",
        "            cnt1 += 1\n",
        " \n",
        "        elif arr[i] == 2:\n",
        "            cnt2 += 1\n",
        " \n",
        "    # Update the array\n",
        "    i = 0\n",
        " \n",
        "    # Store all the 0s in the beginning\n",
        "    while (cnt0 > 0):\n",
        "        arr[i] = 0\n",
        "        i += 1\n",
        "        cnt0 -= 1\n",
        " \n",
        "    # Then all the 1s\n",
        "    while (cnt1 > 0):\n",
        "        arr[i] = 1\n",
        "        i += 1\n",
        "        cnt1 -= 1\n",
        " \n",
        "    # Finally all the 2s\n",
        "    while (cnt2 > 0):\n",
        "        arr[i] = 2\n",
        "        i += 1\n",
        "        cnt2 -= 1\n",
        " \n",
        "    # Print the sorted array\n",
        "    printArr(arr, n)\n",
        " \n",
        " \n",
        "# Driver code\n",
        " \n",
        "arr = [0, 1, 1, 0, 1, 2, 1, 2, 0, 0, 0, 1]\n",
        "n = len(arr)\n",
        " \n",
        "sortArr(arr, n)"
      ]
    },
    {
      "cell_type": "markdown",
      "metadata": {
        "id": "Uw8fEsL7bafj"
      },
      "source": [
        "Find the Union and Intersection of the two sorted arrays."
      ]
    },
    {
      "cell_type": "code",
      "execution_count": null,
      "metadata": {
        "colab": {
          "base_uri": "https://localhost:8080/"
        },
        "id": "t86a9hYKbbhY",
        "outputId": "b5faf75d-8e0e-4032-92e7-778350fb094b"
      },
      "outputs": [
        {
          "name": "stdout",
          "output_type": "stream",
          "text": [
            "1 2 3 4 5 6 7 "
          ]
        }
      ],
      "source": [
        "# Python program to find union of\n",
        "# two sorted arrays\n",
        "# Function prints union of arr1[] and arr2[]\n",
        "# m is the number of elements in arr1[]\n",
        "# n is the number of elements in arr2[]\n",
        "def printUnion(arr1, arr2, m, n):\n",
        "    i, j = 0, 0\n",
        "    while i < m and j < n:\n",
        "        if arr1[i] < arr2[j]:\n",
        "            print(arr1[i],end=\" \")\n",
        "            i += 1\n",
        "        elif arr2[j] < arr1[i]:\n",
        "            print(arr2[j],end=\" \")\n",
        "            j+= 1\n",
        "        else:\n",
        "            print(arr2[j],end=\" \")\n",
        "            j += 1\n",
        "            i += 1\n",
        " \n",
        "    # Print remaining elements of the larger array\n",
        "    while i < m:\n",
        "        print(arr1[i],end=\" \")\n",
        "        i += 1\n",
        " \n",
        "    while j < n:\n",
        "        print(arr2[j],end=\" \")\n",
        "        j += 1\n",
        " \n",
        "# Driver program to test above function\n",
        "arr1 = [1, 2, 4, 5, 6]\n",
        "arr2 = [2, 3, 5, 7]\n",
        "m = len(arr1)\n",
        "n = len(arr2)\n",
        "printUnion(arr1, arr2, m, n)\n",
        " "
      ]
    },
    {
      "cell_type": "markdown",
      "metadata": {
        "id": "hqtd-QMCbco8"
      },
      "source": [
        "Write a program to cyclically rotate an array by one."
      ]
    },
    {
      "cell_type": "code",
      "execution_count": null,
      "metadata": {
        "colab": {
          "base_uri": "https://localhost:8080/"
        },
        "id": "l5I_dFZnbdYf",
        "outputId": "2966d523-561d-48ca-e78e-ae727b63b48e"
      },
      "outputs": [
        {
          "name": "stdout",
          "output_type": "stream",
          "text": [
            "Given array is\n",
            "1 2 3 4 5 \n",
            "Rotated array is\n",
            "5 1 2 3 4 "
          ]
        }
      ],
      "source": [
        "# Python3 code for program to \n",
        "# cyclically rotate an array by one\n",
        "  \n",
        "# Method for rotation\n",
        "def rotate(arr, n):\n",
        "    x = arr[n - 1]\n",
        "      \n",
        "    for i in range(n - 1, 0, -1):\n",
        "        arr[i] = arr[i - 1];\n",
        "          \n",
        "    arr[0] = x;\n",
        "  \n",
        "  \n",
        "# Driver function\n",
        "arr= [1, 2, 3, 4, 5]\n",
        "n = len(arr)\n",
        "print (\"Given array is\")\n",
        "for i in range(0, n):\n",
        "    print (arr[i], end = ' ')\n",
        "  \n",
        "rotate(arr, n)\n",
        "  \n",
        "print (\"\\nRotated array is\")\n",
        "for i in range(0, n):\n",
        "    print (arr[i], end = ' ')"
      ]
    },
    {
      "cell_type": "markdown",
      "metadata": {
        "id": "dZ4mejMWlbX_"
      },
      "source": [
        "find Largest sum contiguous Subarray"
      ]
    },
    {
      "cell_type": "code",
      "execution_count": null,
      "metadata": {
        "colab": {
          "base_uri": "https://localhost:8080/"
        },
        "id": "MiWHghRclca1",
        "outputId": "1639647a-2748-49af-fc1a-928570cd3f91"
      },
      "outputs": [
        {
          "name": "stdout",
          "output_type": "stream",
          "text": [
            "Maximum contiguous sum is -3\n"
          ]
        }
      ],
      "source": [
        "# Python program to find maximum contiguous subarray\n",
        "  \n",
        "# Function to find the maximum contiguous subarray\n",
        "from math import inf\n",
        "maxint=inf\n",
        "def maxSubArraySum(a,size):\n",
        "      \n",
        "    max_so_far = -maxint - 1\n",
        "    max_ending_here = 0\n",
        "      \n",
        "    for i in range(0, size):\n",
        "        max_ending_here = max_ending_here + a[i]\n",
        "        if (max_so_far < max_ending_here):\n",
        "            max_so_far = max_ending_here\n",
        " \n",
        "        if max_ending_here < 0:\n",
        "            max_ending_here = 0  \n",
        "    return max_so_far\n",
        "  \n",
        "# Driver function to check the above function\n",
        "a = [-13, -3, -25, -20, -3, -16, -23, -12, -5, -22, -15, -4, -7]\n",
        "print (\"Maximum contiguous sum is\", maxSubArraySum(a,len(a)))"
      ]
    },
    {
      "cell_type": "markdown",
      "metadata": {
        "id": "rGySI1NDF3-K"
      },
      "source": [
        "Minimise the maximum difference between heights "
      ]
    },
    {
      "cell_type": "code",
      "execution_count": null,
      "metadata": {
        "colab": {
          "base_uri": "https://localhost:8080/"
        },
        "id": "QPNfVN7WF4ds",
        "outputId": "73179068-8bcd-4f47-989b-ad5fa227c6a1"
      },
      "outputs": [
        {
          "name": "stdout",
          "output_type": "stream",
          "text": [
            "5\n"
          ]
        }
      ],
      "source": [
        "# User function Template\n",
        "def getMinDiff(arr, n, k):\n",
        "    arr.sort()\n",
        "    ans = arr[n - 1] - arr[0]  # Maximum possible height difference\n",
        "  \n",
        "    tempmin = arr[0]\n",
        "    tempmax = arr[n - 1]\n",
        "  \n",
        "    for i in range(1, n):\n",
        "        if arr[i] < k:\n",
        "            continue\n",
        "        tempmin = min(arr[0] + k, arr[i] - k)\n",
        "  \n",
        "        # Minimum element when we\n",
        "        # add k to whole array\n",
        "        # Maximum element when we\n",
        "        tempmax = max(arr[i - 1] + k, arr[n - 1] - k)\n",
        "  \n",
        "        # subtract k from whole array\n",
        "        ans = min(ans, tempmax - tempmin)\n",
        "  \n",
        "    return ans\n",
        "  \n",
        "  \n",
        "# Driver Code Starts\n",
        "k = 6\n",
        "n = 6\n",
        "arr = [7, 4, 8, 8, 8, 9]\n",
        "ans = getMinDiff(arr, n, k)\n",
        "print(ans)"
      ]
    },
    {
      "cell_type": "markdown",
      "metadata": {
        "id": "XgQHm7oGYXiM"
      },
      "source": [
        "Minimum no. of Jumps to reach end of an array"
      ]
    },
    {
      "cell_type": "code",
      "execution_count": null,
      "metadata": {
        "colab": {
          "base_uri": "https://localhost:8080/"
        },
        "id": "rLQQcS9XYZX4",
        "outputId": "61d9dc65-d09d-4727-9b1f-7e16ca014025"
      },
      "outputs": [
        {
          "name": "stdout",
          "output_type": "stream",
          "text": [
            "Minimum number of jumps to reach end is 3\n"
          ]
        }
      ],
      "source": [
        "# Python3 program to find Minimum\n",
        "# number of jumps to reach end\n",
        " \n",
        "# Returns minimum number of jumps\n",
        "# to reach arr[h] from arr[l]\n",
        " \n",
        " \n",
        "def minJumps(arr, l, h):\n",
        " \n",
        "    # Base case: when source and\n",
        "    # destination are same\n",
        "    if (h == l):\n",
        "        return 0\n",
        " \n",
        "    # when nothing is reachable\n",
        "    # from the given source\n",
        "    if (arr[l] == 0):\n",
        "        return float('inf')\n",
        " \n",
        "    # Traverse through all the points\n",
        "    # reachable from arr[l]. Recursively\n",
        "    # get the minimum number of jumps\n",
        "    # needed to reach arr[h] from\n",
        "    # these reachable points.\n",
        "    min = float('inf')\n",
        "    for i in range(l + 1, h + 1):\n",
        "        if (i < l + arr[l] + 1):\n",
        "            jumps = minJumps(arr, i, h)\n",
        "            if (jumps != float('inf') and\n",
        "                    jumps + 1 < min):\n",
        "                min = jumps + 1\n",
        " \n",
        "    return min\n",
        " \n",
        " \n",
        "# Driver program to test above function\n",
        "arr = [1, 3, 5, 8, 9, 2, 6, 7, 6, 8, 9]\n",
        "n = len(arr)\n",
        "print('Minimum number of jumps to reach',\n",
        "      'end is', minJumps(arr, 0, n-1))\n",
        " "
      ]
    },
    {
      "cell_type": "markdown",
      "metadata": {
        "id": "4AaEwq9IkRKV"
      },
      "source": [
        "find duplicate in an array of N+1 Integers"
      ]
    },
    {
      "cell_type": "code",
      "execution_count": null,
      "metadata": {
        "colab": {
          "base_uri": "https://localhost:8080/"
        },
        "id": "EGZFRGnGkR7h",
        "outputId": "b8373a14-9fd1-4feb-8f82-cb30d3c4bf79"
      },
      "outputs": [
        {
          "name": "stdout",
          "output_type": "stream",
          "text": [
            "The repeating elements are : \n",
            "2  \n",
            "3  \n"
          ]
        }
      ],
      "source": [
        "numRay = [0, 4, 3, 2, 7, 8, 2, 3, 1]\n",
        "arr_size = len(numRay)\n",
        "for i in range(arr_size):\n",
        " \n",
        "    x = numRay[i] % arr_size\n",
        "    numRay[x] = numRay[x] + arr_size\n",
        " \n",
        "print(\"The repeating elements are : \")\n",
        "for i in range(arr_size):\n",
        "    if (numRay[i] >= arr_size*2):\n",
        "        print(i, \" \")"
      ]
    },
    {
      "cell_type": "markdown",
      "metadata": {
        "id": "Y2fuafUZEBn9"
      },
      "source": [
        "Merge 2 sorted arrays without using Extra space."
      ]
    },
    {
      "cell_type": "code",
      "execution_count": null,
      "metadata": {
        "colab": {
          "base_uri": "https://localhost:8080/"
        },
        "id": "MDkRBuDYECE6",
        "outputId": "b290c223-2f98-45e8-a027-a7e2e8b7a0ef"
      },
      "outputs": [
        {
          "name": "stdout",
          "output_type": "stream",
          "text": [
            "After Merging \n",
            "First Array:1  2  3  5  8  9  \n",
            "Second Array: 10  13  15  20  "
          ]
        }
      ],
      "source": [
        "# Python program to merge\n",
        "# two sorted arrays\n",
        "# with O(1) extra space.\n",
        " \n",
        "# Merge ar1[] and ar2[]\n",
        "# with O(1) extra space\n",
        " \n",
        " \n",
        "def merge(ar1, ar2, m, n):\n",
        " \n",
        "    # Iterate through all\n",
        "    # elements of ar2[] starting from\n",
        "    # the last element\n",
        "    for i in range(n-1, -1, -1):\n",
        " \n",
        "        # Find the smallest element\n",
        "        # greater than ar2[i]. Move all\n",
        "        # elements one position ahead\n",
        "        # till the smallest greater\n",
        "        # element is not found\n",
        "        last = ar1[m-1]\n",
        "        j = m-2\n",
        "        while(j >= 0 and ar1[j] > ar2[i]):\n",
        "            ar1[j+1] = ar1[j]\n",
        "            j -= 1\n",
        " \n",
        "        # If there was a greater element\n",
        "        if (last > ar2[i]):\n",
        " \n",
        "            ar1[j+1] = ar2[i]\n",
        "            ar2[i] = last\n",
        " \n",
        "# Driver code\n",
        "ar1 = [1, 5, 9, 10, 15, 20]\n",
        "ar2 = [2, 3, 8, 13]\n",
        "m = len(ar1)\n",
        "n = len(ar2)\n",
        " \n",
        "merge(ar1, ar2, m, n)\n",
        " \n",
        "print(\"After Merging \\nFirst Array:\", end=\"\")\n",
        "for i in range(m):\n",
        "    print(ar1[i], \" \", end=\"\")\n",
        " \n",
        "print(\"\\nSecond Array: \", end=\"\")\n",
        "for i in range(n):\n",
        "    print(ar2[i], \" \", end=\"\")\n",
        " "
      ]
    },
    {
      "cell_type": "markdown",
      "metadata": {
        "id": "_7daqa-TsEPX"
      },
      "source": [
        "Kadane's Algo [V.V.V.V.V IMP]"
      ]
    },
    {
      "cell_type": "code",
      "execution_count": null,
      "metadata": {
        "colab": {
          "base_uri": "https://localhost:8080/"
        },
        "id": "cBNqs1l9sE2K",
        "outputId": "42c23266-7a6c-40f3-dd82-ece04b4cf023"
      },
      "outputs": [
        {
          "name": "stdout",
          "output_type": "stream",
          "text": [
            "Maximum Subarray Sum: 6\n"
          ]
        }
      ],
      "source": [
        "# defining the function to find the maximum subarray sum  \n",
        "def max_Subarray_Sum(my_array, array_size):  \n",
        "    # assigning the variables  \n",
        "    maxTillNow = my_array[0]  \n",
        "    maxEnding = 0  \n",
        "      \n",
        "    # using the for-loop  \n",
        "    for n in range(0, array_size):  \n",
        "        maxEnding = maxEnding + my_array[n]  \n",
        "        # using the if-elif-else statement  \n",
        "        if maxEnding < 0:  \n",
        "            maxEnding = 0  \n",
        "          \n",
        "        elif (maxTillNow < maxEnding):  \n",
        "            maxTillNow = maxEnding  \n",
        "              \n",
        "    return maxTillNow  \n",
        "# defining the array  \n",
        "my_array = [-2, -3, 4, -1, -2, 5, -3]  \n",
        "# printing the maximum subarray sum for the users  \n",
        "print(\"Maximum Subarray Sum:\", max_Subarray_Sum(my_array, len(my_array))) "
      ]
    },
    {
      "cell_type": "markdown",
      "metadata": {
        "id": "JHquJYypuDSl"
      },
      "source": [
        "Merge Intervals"
      ]
    },
    {
      "cell_type": "code",
      "source": [
        "def mergeIntervals(intervals):\n",
        "\t# Sort the array on the basis of start values of intervals.\n",
        "\tintervals.sort()\n",
        "\tstack = []\n",
        "\t# insert first interval into stack\n",
        "\tstack.append(intervals[0])\n",
        "\tfor i in intervals[1:]:\n",
        "\t\t# Check for overlapping interval,\n",
        "\t\t# if interval overlap\n",
        "\t\tif stack[-1][0] <= i[0] <= stack[-1][-1]:\n",
        "\t\t\tstack[-1][-1] = max(stack[-1][-1], i[-1])\n",
        "\t\telse:\n",
        "\t\t\tstack.append(i)\n",
        "\n",
        "\tprint(\"The Merged Intervals are :\", end=\" \")\n",
        "\tfor i in range(len(stack)):\n",
        "\t\tprint(stack[i], end=\" \")\n",
        "\n",
        "\n",
        "arr = [[6, 8], [1, 9], [2, 4], [4, 7]]\n",
        "mergeIntervals(arr)\n"
      ],
      "metadata": {
        "colab": {
          "base_uri": "https://localhost:8080/"
        },
        "id": "aN62wZNolR5D",
        "outputId": "5601950a-5fc1-44c9-f35a-3470304a2f98"
      },
      "execution_count": null,
      "outputs": [
        {
          "output_type": "stream",
          "name": "stdout",
          "text": [
            "The Merged Intervals are : [1, 9] "
          ]
        }
      ]
    },
    {
      "cell_type": "markdown",
      "source": [
        "Next Permutation"
      ],
      "metadata": {
        "id": "ud4Ptq4Ilvt7"
      }
    },
    {
      "cell_type": "code",
      "source": [
        "# Python code to implement the above approach\n",
        "def swapPositions(list, pos1, pos2):\n",
        "\tlist[pos1], list[pos2] = list[pos2], list[pos1]\n",
        "\treturn list\n",
        "\n",
        "# Function to find the next permutation\n",
        "def nextPermutation(arr):\n",
        "\tn = len(arr)\n",
        "\ti = 0\n",
        "\tj = 0\n",
        "\t\n",
        "\t# Find for the pivot element.\n",
        "\t# A pivot is the first element from\n",
        "\t# end of sequencewhich doesn't follow\n",
        "\t# property of non-increasing suffix\n",
        "\tfor i in range(n-2, -1, -1):\n",
        "\t\tif (arr[i] < arr[i + 1]):\n",
        "\t\t\tbreak\n",
        "\t\t\t\n",
        "\t# Check if pivot is not found\n",
        "\tif (i < 0):\n",
        "\t\tarr.reverse()\n",
        "\n",
        "\t# if pivot is found\n",
        "\telse:\n",
        "\t\t# Find for the successor of pivot in suffix\n",
        "\t\tfor j in range(n-1, i, -1):\n",
        "\t\t\tif (arr[j] > arr[i]):\n",
        "\t\t\t\tbreak\n",
        "\n",
        "\t\t# Swap the pivot and successor\n",
        "\t\tswapPositions(arr, i, j)\n",
        "\t\t\n",
        "\t\t# Minimise the suffix part\n",
        "\t\t# initializing range\n",
        "\t\tstrt, end = i+1, len(arr)\n",
        "\n",
        "\t\t# Third arg. of split with -1 performs reverse\n",
        "\t\tarr[strt:end] = arr[strt:end][::-1]\n",
        "\n",
        "# Driver code\n",
        "if __name__ == \"__main__\":\n",
        "\tarr = [1, 2, 3, 6, 5, 4]\n",
        "\t\n",
        "\t# Function call\n",
        "\tnextPermutation(arr)\n",
        "\t\n",
        "\t# Printing the answer\n",
        "\tfor i in arr:\n",
        "\t\tprint(i, end=\" \")\n",
        "\n",
        "\n"
      ],
      "metadata": {
        "colab": {
          "base_uri": "https://localhost:8080/"
        },
        "id": "QOtHAg-Gl4E_",
        "outputId": "7a85aac9-2489-444f-d762-dacef546ec48"
      },
      "execution_count": null,
      "outputs": [
        {
          "output_type": "stream",
          "name": "stdout",
          "text": [
            "1 2 4 3 5 6 "
          ]
        }
      ]
    },
    {
      "cell_type": "markdown",
      "source": [
        "Count Inversion"
      ],
      "metadata": {
        "id": "ffoqou5aEXrM"
      }
    },
    {
      "cell_type": "code",
      "source": [
        "# Python 3 program to count inversions in an array\n",
        "\n",
        "# Function to Use Inversion Count\n",
        "\n",
        "\n",
        "def mergeSort(arr, n):\n",
        "\t# A temp_arr is created to store\n",
        "\t# sorted array in merge function\n",
        "\ttemp_arr = [0]*n\n",
        "\treturn _mergeSort(arr, temp_arr, 0, n-1)\n",
        "\n",
        "# This Function will use MergeSort to count inversions\n",
        "\n",
        "\n",
        "def _mergeSort(arr, temp_arr, left, right):\n",
        "\n",
        "\t# A variable inv_count is used to store\n",
        "\t# inversion counts in each recursive call\n",
        "\n",
        "\tinv_count = 0\n",
        "\n",
        "\t# We will make a recursive call if and only if\n",
        "\t# we have more than one elements\n",
        "\n",
        "\tif left < right:\n",
        "\n",
        "\t\t# mid is calculated to divide the array into two subarrays\n",
        "\t\t# Floor division is must in case of python\n",
        "\n",
        "\t\tmid = (left + right)//2\n",
        "\n",
        "\t\t# It will calculate inversion\n",
        "\t\t# counts in the left subarray\n",
        "\n",
        "\t\tinv_count += _mergeSort(arr, temp_arr,\n",
        "\t\t\t\t\t\t\t\tleft, mid)\n",
        "\n",
        "\t\t# It will calculate inversion\n",
        "\t\t# counts in right subarray\n",
        "\n",
        "\t\tinv_count += _mergeSort(arr, temp_arr,\n",
        "\t\t\t\t\t\t\t\tmid + 1, right)\n",
        "\n",
        "\t\t# It will merge two subarrays in\n",
        "\t\t# a sorted subarray\n",
        "\n",
        "\t\tinv_count += merge(arr, temp_arr, left, mid, right)\n",
        "\treturn inv_count\n",
        "\n",
        "# This function will merge two subarrays\n",
        "# in a single sorted subarray\n",
        "\n",
        "\n",
        "def merge(arr, temp_arr, left, mid, right):\n",
        "\ti = left\t # Starting index of left subarray\n",
        "\tj = mid + 1 # Starting index of right subarray\n",
        "\tk = left\t # Starting index of to be sorted subarray\n",
        "\tinv_count = 0\n",
        "\n",
        "\t# Conditions are checked to make sure that\n",
        "\t# i and j don't exceed their\n",
        "\t# subarray limits.\n",
        "\n",
        "\twhile i <= mid and j <= right:\n",
        "\n",
        "\t\t# There will be no inversion if arr[i] <= arr[j]\n",
        "\n",
        "\t\tif arr[i] <= arr[j]:\n",
        "\t\t\ttemp_arr[k] = arr[i]\n",
        "\t\t\tk += 1\n",
        "\t\t\ti += 1\n",
        "\t\telse:\n",
        "\t\t\t# Inversion will occur.\n",
        "\t\t\ttemp_arr[k] = arr[j]\n",
        "\t\t\tinv_count += (mid-i + 1)\n",
        "\t\t\tk += 1\n",
        "\t\t\tj += 1\n",
        "\n",
        "\t# Copy the remaining elements of left\n",
        "\t# subarray into temporary array\n",
        "\twhile i <= mid:\n",
        "\t\ttemp_arr[k] = arr[i]\n",
        "\t\tk += 1\n",
        "\t\ti += 1\n",
        "\n",
        "\t# Copy the remaining elements of right\n",
        "\t# subarray into temporary array\n",
        "\twhile j <= right:\n",
        "\t\ttemp_arr[k] = arr[j]\n",
        "\t\tk += 1\n",
        "\t\tj += 1\n",
        "\n",
        "\t# Copy the sorted subarray into Original array\n",
        "\tfor loop_var in range(left, right + 1):\n",
        "\t\tarr[loop_var] = temp_arr[loop_var]\n",
        "\n",
        "\treturn inv_count\n",
        "\n",
        "\n",
        "# Driver Code\n",
        "# Given array is\n",
        "arr = [1, 20, 6, 4, 5]\n",
        "n = len(arr)\n",
        "result = mergeSort(arr, n)\n",
        "print(\"Number of inversions are\", result)\n",
        "\n",
        "\n"
      ],
      "metadata": {
        "colab": {
          "base_uri": "https://localhost:8080/"
        },
        "id": "Cv5ohxgZEmew",
        "outputId": "984e4608-e5c8-433b-a0bb-b25c240c3fe4"
      },
      "execution_count": null,
      "outputs": [
        {
          "output_type": "stream",
          "name": "stdout",
          "text": [
            "Number of inversions are 5\n"
          ]
        }
      ]
    },
    {
      "cell_type": "markdown",
      "source": [
        "Best time to buy and Sell stock"
      ],
      "metadata": {
        "id": "K1c3c6uGH6zL"
      }
    },
    {
      "cell_type": "code",
      "source": [
        "## Python program for the above approach:\n",
        "\n",
        "def maxProfit(prices, n):\n",
        "\tbuy = prices[0]\n",
        "\tmax_profit = 0\n",
        "\tfor i in range(1, n):\n",
        "\n",
        "\t\t## Checking for lower buy value\n",
        "\t\tif (buy > prices[i]):\n",
        "\t\t\tbuy = prices[i]\n",
        "\n",
        "\t\t## Checking for higher profit\n",
        "\t\telif (prices[i] - buy > max_profit):\n",
        "\t\t\tmax_profit = prices[i] - buy;\n",
        "\treturn max_profit;\n",
        "\n",
        "\n",
        "## Driver code\n",
        "if __name__=='__main__':\n",
        "\n",
        "\tprices = [ 7, 1, 5, 6, 4 ];\n",
        "\tn = len(prices)\n",
        "\tmax_profit = maxProfit(prices, n);\n",
        "\tprint(max_profit)\n"
      ],
      "metadata": {
        "colab": {
          "base_uri": "https://localhost:8080/"
        },
        "id": "6sV_gyuNH720",
        "outputId": "fd52f7b3-2061-45d3-bccb-9f6e1a125a2c"
      },
      "execution_count": null,
      "outputs": [
        {
          "output_type": "stream",
          "name": "stdout",
          "text": [
            "5\n"
          ]
        }
      ]
    },
    {
      "cell_type": "markdown",
      "source": [
        "find all pairs on integer array whose sum is equal to given number"
      ],
      "metadata": {
        "id": "nBGD27B5N0y2"
      }
    },
    {
      "cell_type": "code",
      "source": [
        "# Python3 implementation of simple method\n",
        "# to find count of pairs with given sum.\n",
        "\n",
        "# Returns number of pairs in arr[0..n-1]\n",
        "# with sum equal to 'sum'\n",
        "\n",
        "\n",
        "def getPairsCount(arr, n, sum):\n",
        "\n",
        "\tcount = 0 # Initialize result\n",
        "\n",
        "\t# Consider all possible pairs\n",
        "\t# and check their sums\n",
        "\tfor i in range(0, n):\n",
        "\t\tfor j in range(i + 1, n):\n",
        "\t\t\tif arr[i] + arr[j] == sum:\n",
        "\t\t\t\tcount += 1\n",
        "\n",
        "\treturn count\n",
        "\n",
        "\n",
        "# Driver function\n",
        "arr = [1, 5, 7, -1, 5]\n",
        "n = len(arr)\n",
        "sum = 6\n",
        "print(\"Count of pairs is\",\n",
        "\tgetPairsCount(arr, n, sum))\n"
      ],
      "metadata": {
        "colab": {
          "base_uri": "https://localhost:8080/"
        },
        "id": "Xby4xQA9N1as",
        "outputId": "ef6f03ac-a139-4e77-dc30-38a6571f7812"
      },
      "execution_count": null,
      "outputs": [
        {
          "output_type": "stream",
          "name": "stdout",
          "text": [
            "Count of pairs is 3\n"
          ]
        }
      ]
    },
    {
      "cell_type": "markdown",
      "source": [
        "find common elements In 3 sorted arrays"
      ],
      "metadata": {
        "id": "GwvTmZ_APbty"
      }
    },
    {
      "cell_type": "code",
      "source": [
        "# Python function to print common elements in three sorted arrays\n",
        "def findCommon(ar1, ar2, ar3, n1, n2, n3):\n",
        "\n",
        "\t# Initialize starting indexes for ar1[], ar2[] and ar3[]\n",
        "\ti, j, k = 0, 0, 0\n",
        "\n",
        "\t# Iterate through three arrays while all arrays have elements\n",
        "\twhile (i < n1 and j < n2 and k < n3):\n",
        "\n",
        "\t\t# If x = y and y = z, print any of them and move ahead\n",
        "\t\t# in all arrays\n",
        "\t\tif (ar1[i] == ar2[j] and ar2[j] == ar3[k]):\n",
        "\t\t\tprint (ar1[i])\n",
        "\t\t\ti += 1\n",
        "\t\t\tj += 1\n",
        "\t\t\tk += 1\n",
        "\n",
        "\t\t# x < y\n",
        "\t\telif ar1[i] < ar2[j]:\n",
        "\t\t\ti += 1\n",
        "\n",
        "\t\t# y < z\n",
        "\t\telif ar2[j] < ar3[k]:\n",
        "\t\t\tj += 1\n",
        "\n",
        "\t\t# We reach here when x > y and z < y, i.e., z is smallest\n",
        "\t\telse:\n",
        "\t\t\tk += 1\n",
        "\n",
        "\n",
        "# Driver program to check above function\n",
        "ar1 = [1, 5, 10, 20, 40, 80]\n",
        "ar2 = [6, 7, 20, 80, 100]\n",
        "ar3 = [3, 4, 15, 20, 30, 70, 80, 120]\n",
        "n1 = len(ar1)\n",
        "n2 = len(ar2)\n",
        "n3 = len(ar3)\n",
        "print (\"Common elements are\",)\n",
        "findCommon(ar1, ar2, ar3, n1, n2, n3)\n",
        "\n",
        "# This code is contributed by __Devesh Agrawal__\n"
      ],
      "metadata": {
        "colab": {
          "base_uri": "https://localhost:8080/"
        },
        "id": "nv3fNd5mPcgd",
        "outputId": "5f29a235-aa52-405e-8f86-4766926cb0bc"
      },
      "execution_count": null,
      "outputs": [
        {
          "output_type": "stream",
          "name": "stdout",
          "text": [
            "Common elements are\n",
            "20\n",
            "80\n"
          ]
        }
      ]
    },
    {
      "cell_type": "markdown",
      "source": [
        "Rearrange the array in alternating positive and negative items with O(1) extra space"
      ],
      "metadata": {
        "id": "A_PjEK2you6Z"
      }
    },
    {
      "cell_type": "code",
      "source": [
        "# Python3 program to rearrange\n",
        "# positive and negative integers\n",
        "# in alternate fashion and\n",
        "# maintaining the order of positive\n",
        "# and negative numbers\n",
        "\n",
        "# rotates the array to right by once\n",
        "# from index 'outOfPlace to cur'\n",
        "\n",
        "\n",
        "def rightRotate(arr, n, outOfPlace, cur):\n",
        "\ttemp = arr[cur]\n",
        "\tfor i in range(cur, outOfPlace, -1):\n",
        "\t\tarr[i] = arr[i - 1]\n",
        "\tarr[outOfPlace] = temp\n",
        "\treturn arr\n",
        "\n",
        "\n",
        "def rearrange(arr, n):\n",
        "\toutOfPlace = -1\n",
        "\tfor index in range(n):\n",
        "\t\tif(outOfPlace >= 0):\n",
        "\n",
        "\t\t\t# if element at outOfPlace place in\n",
        "\t\t\t# negative and if element at index\n",
        "\t\t\t# is positive we can rotate the\n",
        "\t\t\t# array to right or if element\n",
        "\t\t\t# at outOfPlace place in positive and\n",
        "\t\t\t# if element at index is negative we\n",
        "\t\t\t# can rotate the array to right\n",
        "\t\t\tif((arr[index] >= 0 and arr[outOfPlace] < 0) or\n",
        "\t\t\t(arr[index] < 0 and arr[outOfPlace] >= 0)):\n",
        "\t\t\t\tarr = rightRotate(arr, n, outOfPlace, index)\n",
        "\t\t\t\tif(index-outOfPlace > 2):\n",
        "\t\t\t\t\toutOfPlace += 2\n",
        "\t\t\t\telse:\n",
        "\t\t\t\t\toutOfPlace = - 1\n",
        "\n",
        "\t\tif(outOfPlace == -1):\n",
        "\n",
        "\t\t\t# conditions for A[index] to\n",
        "\t\t\t# be in out of place\n",
        "\t\t\tif((arr[index] >= 0 and index % 2 == 0) or\n",
        "\t\t\t(arr[index] < 0 and index % 2 == 1)):\n",
        "\t\t\t\toutOfPlace = index\n",
        "\treturn arr\n",
        "\n",
        "\n",
        "# Driver Code\n",
        "arr = [-5, -2, 5, 2, 4,\n",
        "\t7, 1, 8, 0, -8]\n",
        "\n",
        "print(\"Given Array is:\")\n",
        "print(arr)\n",
        "\n",
        "print(\"\\nRearranged array is:\")\n",
        "print(rearrange(arr, len(arr)))\n",
        "\n"
      ],
      "metadata": {
        "colab": {
          "base_uri": "https://localhost:8080/"
        },
        "id": "j4js9vKtoviP",
        "outputId": "6c811c55-d3e0-4571-fc85-763a73a77f43"
      },
      "execution_count": null,
      "outputs": [
        {
          "output_type": "stream",
          "name": "stdout",
          "text": [
            "Given Array is:\n",
            "[-5, -2, 5, 2, 4, 7, 1, 8, 0, -8]\n",
            "\n",
            "Rearranged array is:\n",
            "[-5, 5, -2, 2, -8, 4, 7, 1, 8, 0]\n"
          ]
        }
      ]
    },
    {
      "cell_type": "markdown",
      "source": [
        "Find if there is any subarray with sum equal to 0"
      ],
      "metadata": {
        "id": "UdWgj13AoB1t"
      }
    },
    {
      "cell_type": "code",
      "source": [
        "# python3 program to find if\n",
        "# there is a zero sum subarray\n",
        "\n",
        "\n",
        "def subArrayExists(arr, N):\n",
        "\t# traverse through array\n",
        "\t# and store prefix sums\n",
        "\tn_sum = 0\n",
        "\ts = set()\n",
        "\n",
        "\tfor i in range(N):\n",
        "\t\tn_sum += arr[i]\n",
        "\n",
        "\t\t# If prefix sum is 0 or\n",
        "\t\t# it is already present\n",
        "\t\tif n_sum == 0 or n_sum in s:\n",
        "\t\t\treturn True\n",
        "\t\ts.add(n_sum)\n",
        "\n",
        "\treturn False\n",
        "\n",
        "\n",
        "# Driver's code\n",
        "if __name__ == '__main__':\n",
        "\tarr = [-3, 2, 3, 1, 6]\n",
        "\tN = len(arr)\n",
        "\n",
        "\t# Function call\n",
        "\tif subArrayExists(arr, N) == True:\n",
        "\t\tprint(\"Found a sunbarray with 0 sum\")\n",
        "\telse:\n",
        "\t\tprint(\"No Such sub array exits!\")\n",
        "\n",
        "\n"
      ],
      "metadata": {
        "colab": {
          "base_uri": "https://localhost:8080/"
        },
        "id": "lUoPkhpEoCV9",
        "outputId": "93b7320e-2a4e-4040-b707-8d6abdfbbffd"
      },
      "execution_count": null,
      "outputs": [
        {
          "output_type": "stream",
          "name": "stdout",
          "text": [
            "No Such sub array exits!\n"
          ]
        }
      ]
    },
    {
      "cell_type": "markdown",
      "source": [
        "Find factorial of a large number"
      ],
      "metadata": {
        "id": "o3MdG-Ja3_VR"
      }
    },
    {
      "cell_type": "code",
      "source": [
        "# Python program to compute factorial\n",
        "# of big numbers\n",
        "\n",
        "import sys\n",
        "\n",
        "# This function finds factorial of large\n",
        "# numbers and prints them\n",
        "\n",
        "\n",
        "def factorial(n):\n",
        "\tres = [None]*500\n",
        "\t# Initialize result\n",
        "\tres[0] = 1\n",
        "\tres_size = 1\n",
        "\n",
        "\t# Apply simple factorial formula\n",
        "\t# n! = 1 * 2 * 3 * 4...*n\n",
        "\tx = 2\n",
        "\twhile x <= n:\n",
        "\t\tres_size = multiply(x, res, res_size)\n",
        "\t\tx = x + 1\n",
        "\n",
        "\tprint(\"Factorial of given number is\")\n",
        "\ti = res_size-1\n",
        "\twhile i >= 0:\n",
        "\t\tsys.stdout.write(str(res[i]))\n",
        "\t\tsys.stdout.flush()\n",
        "\t\ti = i - 1\n",
        "\n",
        "\n",
        "# This function multiplies x with the number\n",
        "# represented by res[]. res_size is size of res[]\n",
        "# or number of digits in the number represented\n",
        "# by res[]. This function uses simple school\n",
        "# mathematics for multiplication. This function\n",
        "# may value of res_size and returns the new value\n",
        "# of res_size\n",
        "def multiply(x, res, res_size):\n",
        "\n",
        "\tcarry = 0 # Initialize carry\n",
        "\n",
        "\t# One by one multiply n with individual\n",
        "\t# digits of res[]\n",
        "\ti = 0\n",
        "\twhile i < res_size:\n",
        "\t\tprod = res[i] * x + carry\n",
        "\t\tres[i] = prod % 10 # Store last digit of\n",
        "\t\t# 'prod' in res[]\n",
        "\t\t# make sure floor division is used\n",
        "\t\tcarry = prod//10 # Put rest in carry\n",
        "\t\ti = i + 1\n",
        "\n",
        "\t# Put carry in res and increase result size\n",
        "\twhile (carry):\n",
        "\t\tres[res_size] = carry % 10\n",
        "\t\t# make sure floor division is used\n",
        "\t\t# to avoid floating value\n",
        "\t\tcarry = carry // 10\n",
        "\t\tres_size = res_size + 1\n",
        "\n",
        "\treturn res_size\n",
        "\n",
        "\n",
        "# Driver program\n",
        "factorial(100)\n",
        "\n",
        "\n"
      ],
      "metadata": {
        "colab": {
          "base_uri": "https://localhost:8080/"
        },
        "id": "VF4jDmQZ3-0a",
        "outputId": "3452cb2e-7ff0-412f-9125-6b81d08a0a9d"
      },
      "execution_count": null,
      "outputs": [
        {
          "output_type": "stream",
          "name": "stdout",
          "text": [
            "Factorial of given number is\n",
            "93326215443944152681699238856266700490715968264381621468592963895217599993229915608941463976156518286253697920827223758251185210916864000000000000000000000000"
          ]
        }
      ]
    },
    {
      "cell_type": "markdown",
      "source": [
        "find maximum product subarray "
      ],
      "metadata": {
        "id": "K97vzBUXRBCA"
      }
    },
    {
      "cell_type": "code",
      "source": [
        "# Python3 program to find Maximum Product Subarray\n",
        "\n",
        "# Returns the product of max product subarray.\n",
        "\n",
        "\n",
        "def maxSubarrayProduct(arr, n):\n",
        "\n",
        "\t# Initializing result\n",
        "\tresult = arr[0]\n",
        "\n",
        "\tfor i in range(n):\n",
        "\n",
        "\t\tmul = arr[i]\n",
        "\n",
        "\t\t# traversing in current subarray\n",
        "\t\tfor j in range(i + 1, n):\n",
        "\n",
        "\t\t\t# updating result every time\n",
        "\t\t\t# to keep an eye over the maximum product\n",
        "\t\t\tresult = max(result, mul)\n",
        "\t\t\tmul *= arr[j]\n",
        "\n",
        "\t\t# updating the result for (n-1)th index.\n",
        "\t\tresult = max(result, mul)\n",
        "\n",
        "\treturn result\n",
        "\n",
        "\n",
        "# Driver code\n",
        "arr = [1, -2, -3, 0, 7, -8, -2]\n",
        "n = len(arr)\n",
        "print(\"Maximum Sub array product is\", maxSubarrayProduct(arr, n))\n",
        "\n"
      ],
      "metadata": {
        "colab": {
          "base_uri": "https://localhost:8080/"
        },
        "id": "Q7iTiDG3RB3w",
        "outputId": "40817334-ba27-4006-fe5c-02dcf76ba4bc"
      },
      "execution_count": null,
      "outputs": [
        {
          "output_type": "stream",
          "name": "stdout",
          "text": [
            "Maximum Sub array product is 112\n"
          ]
        }
      ]
    },
    {
      "cell_type": "markdown",
      "source": [
        "Find longest contiguous subsequence"
      ],
      "metadata": {
        "id": "2WKYTUvSdnD5"
      }
    },
    {
      "cell_type": "code",
      "source": [
        "# Python3 program to find longest\n",
        "# contiguous subsequence\n",
        "\n",
        "# Returns length of the longest\n",
        "# contiguous subsequence\n",
        "\n",
        "\n",
        "def findLongestConseqSubseq(arr, n):\n",
        "\n",
        "\tans = 0\n",
        "\tcount = 0\n",
        "\n",
        "\t# Sort the array\n",
        "\tarr.sort()\n",
        "\n",
        "\tv = []\n",
        "\n",
        "\tv.append(arr[0])\n",
        "\n",
        "\t# Insert repeated elements only\n",
        "\t# once in the vector\n",
        "\tfor i in range(1, n):\n",
        "\t\tif (arr[i] != arr[i - 1]):\n",
        "\t\t\tv.append(arr[i])\n",
        "\n",
        "\t# Find the maximum length\n",
        "\t# by traversing the array\n",
        "\tfor i in range(len(v)):\n",
        "\n",
        "\t\t# Check if the current element is\n",
        "\t\t# equal to previous element +1\n",
        "\t\tif (i > 0 and v[i] == v[i - 1] + 1):\n",
        "\t\t\tcount += 1\n",
        "\n",
        "\t\t# Reset the count\n",
        "\t\telse:\n",
        "\t\t\tcount = 1\n",
        "\n",
        "\t\t# Update the maximum\n",
        "\t\tans = max(ans, count)\n",
        "\n",
        "\treturn ans\n",
        "\n",
        "\n",
        "# Driver code\n",
        "arr = [1, 2, 2, 3]\n",
        "n = len(arr)\n",
        "\n",
        "print(\"Length of the Longest contiguous subsequence is\",\n",
        "\tfindLongestConseqSubseq(arr, n))\n",
        "\n"
      ],
      "metadata": {
        "colab": {
          "base_uri": "https://localhost:8080/"
        },
        "id": "_NU_5-L1dnew",
        "outputId": "6add5abf-c02a-4861-8a27-853461abc5d0"
      },
      "execution_count": null,
      "outputs": [
        {
          "output_type": "stream",
          "name": "stdout",
          "text": [
            "Length of the Longest contiguous subsequence is 3\n"
          ]
        }
      ]
    },
    {
      "cell_type": "markdown",
      "source": [
        "Given an array of size n and a number k, fin all elements that appear more than \" n/k \" times."
      ],
      "metadata": {
        "id": "gBnl4_OGwqCm"
      }
    },
    {
      "cell_type": "code",
      "source": [
        "# Python3 program to implement\n",
        "# the above approach\n",
        "\n",
        "# Function to print all array elements\n",
        "# whose frequency is greater than N / K\n",
        "def NDivKWithFreq(arr, N, K):\n",
        "\t\n",
        "\t# Sort the array, arr[]\n",
        "\tarr = sorted(arr)\n",
        "\n",
        "\t# Traverse the array\n",
        "\ti = 0\n",
        "\t\n",
        "\twhile i < N:\n",
        "\t\t\n",
        "\t\t# Stores frequency of arr[i]\n",
        "\t\tcnt = 1\n",
        "\n",
        "\t\t# Traverse array elements which\n",
        "\t\t# is equal to arr[i]\n",
        "\t\twhile ((i + 1) < N and\n",
        "\t\t\tarr[i] == arr[i + 1]):\n",
        "\n",
        "\t\t\t# Update cnt\n",
        "\t\t\tcnt += 1\n",
        "\n",
        "\t\t\t# Update i\n",
        "\t\t\ti += 1\n",
        "\n",
        "\t\t# If frequency of arr[i] is\n",
        "\t\t# greater than (N / K)\n",
        "\t\tif (cnt > (N // K)):\n",
        "\t\t\tprint(arr[i], end = \" \")\n",
        "\t\t\t\n",
        "\t\ti += 1\n",
        "\n",
        "# Driver Code\n",
        "if __name__ == '__main__':\n",
        "\t\n",
        "\tarr = [ 1, 2, 2, 6, 6, 6, 6, 7, 10 ]\n",
        "\tN = len(arr)\n",
        "\tK = 4\n",
        "\n",
        "\tNDivKWithFreq(arr, N, K)\n",
        "\n"
      ],
      "metadata": {
        "colab": {
          "base_uri": "https://localhost:8080/"
        },
        "id": "m_IUWUSQwrEv",
        "outputId": "6bd28bd9-2d64-4415-b87f-5163e94053ea"
      },
      "execution_count": null,
      "outputs": [
        {
          "output_type": "stream",
          "name": "stdout",
          "text": [
            "6 "
          ]
        }
      ]
    },
    {
      "cell_type": "markdown",
      "source": [
        "Maximum profit by buying and selling a share atmost twice"
      ],
      "metadata": {
        "id": "GgSfv1EK--NQ"
      }
    },
    {
      "cell_type": "code",
      "source": [
        "# Returns maximum profit with\n",
        "# two transactions on a given\n",
        "# list of stock prices price[0..n-1]\n",
        "\n",
        "\n",
        "def maxProfit(price, n):\n",
        "\n",
        "\t# Create profit array and initialize it as 0\n",
        "\tprofit = [0]*n\n",
        "\n",
        "\t# Get the maximum profit\n",
        "\t# with only one transaction\n",
        "\t# allowed. After this loop,\n",
        "\t# profit[i] contains maximum\n",
        "\t# profit from price[i..n-1]\n",
        "\t# using at most one trans.\n",
        "\tmax_price = price[n-1]\n",
        "\n",
        "\tfor i in range(n-2, 0, -1):\n",
        "\n",
        "\t\tif price[i] > max_price:\n",
        "\t\t\tmax_price = price[i]\n",
        "\n",
        "\t\t# we can get profit[i] by\n",
        "\t\t# taking maximum of:\n",
        "\t\t# a) previous maximum,\n",
        "\t\t# i.e., profit[i+1]\n",
        "\t\t# b) profit by buying at\n",
        "\t\t# price[i] and selling at\n",
        "\t\t# max_price\n",
        "\t\tprofit[i] = max(profit[i+1], max_price - price[i])\n",
        "\n",
        "\t# Get the maximum profit\n",
        "\t# with two transactions allowed\n",
        "\t# After this loop, profit[n-1]\n",
        "\t# contains the result\n",
        "\tmin_price = price[0]\n",
        "\n",
        "\tfor i in range(1, n):\n",
        "\n",
        "\t\tif price[i] < min_price:\n",
        "\t\t\tmin_price = price[i]\n",
        "\n",
        "\t\t# Maximum profit is maximum of:\n",
        "\t\t# a) previous maximum,\n",
        "\t\t# i.e., profit[i-1]\n",
        "\t\t# b) (Buy, Sell) at\n",
        "\t\t# (min_price, A[i]) and add\n",
        "\t\t# profit of other trans.\n",
        "\t\t# stored in profit[i]\n",
        "\t\tprofit[i] = max(profit[i-1], profit[i]+(price[i]-min_price))\n",
        "\n",
        "\tresult = profit[n-1]\n",
        "\n",
        "\treturn result\n",
        "\n",
        "\n",
        "# Driver function\n",
        "price = [2, 30, 15, 10, 8, 25, 80]\n",
        "print (\"Maximum profit is\", maxProfit(price, len(price)))\n",
        "\n"
      ],
      "metadata": {
        "colab": {
          "base_uri": "https://localhost:8080/"
        },
        "id": "nmB-u0Hl_YJ3",
        "outputId": "f5d3c35f-dd0d-4803-8da9-c6b66d127e79"
      },
      "execution_count": null,
      "outputs": [
        {
          "output_type": "stream",
          "name": "stdout",
          "text": [
            "Maximum profit is 100\n"
          ]
        }
      ]
    },
    {
      "cell_type": "markdown",
      "source": [
        "Find whether an array is a subset of another array"
      ],
      "metadata": {
        "id": "I9YQxR7KxjQK"
      }
    },
    {
      "cell_type": "code",
      "source": [
        "# Python 3 program to find whether an array\n",
        "# is subset of another array\n",
        "\n",
        "# Return 1 if arr2[] is a subset of\n",
        "# arr1[]\n",
        "\n",
        "\n",
        "def isSubset(arr1, arr2, m, n):\n",
        "\ti = 0\n",
        "\tj = 0\n",
        "\tfor i in range(n):\n",
        "\t\tfor j in range(m):\n",
        "\t\t\tif(arr2[i] == arr1[j]):\n",
        "\t\t\t\tbreak\n",
        "\n",
        "\t\t# If the above inner loop was\n",
        "\t\t# not broken at all then arr2[i]\n",
        "\t\t# is not present in arr1[]\n",
        "\t\tif (j == m):\n",
        "\t\t\treturn 0\n",
        "\n",
        "\t# If we reach here then all\n",
        "\t# elements of arr2[] are present\n",
        "\t# in arr1[]\n",
        "\treturn 1\n",
        "\n",
        "\n",
        "# Driver code\n",
        "if __name__ == \"__main__\":\n",
        "\n",
        "\tarr1 = [11, 1, 13, 21, 3, 7]\n",
        "\tarr2 = [11, 3, 7, 1]\n",
        "\n",
        "\tm = len(arr1)\n",
        "\tn = len(arr2)\n",
        "\n",
        "\tif(isSubset(arr1, arr2, m, n)):\n",
        "\t\tprint(\"arr2[] is subset of arr1[] \")\n",
        "\telse:\n",
        "\t\tprint(\"arr2[] is not a subset of arr1[]\")\n",
        "\n"
      ],
      "metadata": {
        "colab": {
          "base_uri": "https://localhost:8080/"
        },
        "id": "yFGLwVXHx027",
        "outputId": "45cf60f7-0175-4354-8f30-dd8ccf4482b9"
      },
      "execution_count": null,
      "outputs": [
        {
          "output_type": "stream",
          "name": "stdout",
          "text": [
            "arr2[] is subset of arr1[] \n"
          ]
        }
      ]
    },
    {
      "cell_type": "markdown",
      "source": [
        "Find the triplet that sum to a given value"
      ],
      "metadata": {
        "id": "bKMSBkmwBjo5"
      }
    },
    {
      "cell_type": "code",
      "source": [
        "# Python3 program to find a triplet\n",
        "# that sum to a given value\n",
        "\n",
        "# returns true if there is triplet with\n",
        "# sum equal to 'sum' present in A[].\n",
        "# Also, prints the triplet\n",
        "def find3Numbers(A, arr_size, sum):\n",
        "\n",
        "\t# Fix the first element as A[i]\n",
        "\tfor i in range( 0, arr_size-2):\n",
        "\n",
        "\t\t# Fix the second element as A[j]\n",
        "\t\tfor j in range(i + 1, arr_size-1):\n",
        "\t\t\t\n",
        "\t\t\t# Now look for the third number\n",
        "\t\t\tfor k in range(j + 1, arr_size):\n",
        "\t\t\t\tif A[i] + A[j] + A[k] == sum:\n",
        "\t\t\t\t\tprint(\"Triplet is\", A[i],\n",
        "\t\t\t\t\t\t\", \", A[j], \", \", A[k])\n",
        "\t\t\t\t\treturn True\n",
        "\t\n",
        "\t# If we reach here, then no\n",
        "\t# triplet was found\n",
        "\treturn False\n",
        "\n",
        "# Driver program to test above function\n",
        "A = [1, 4, 45, 6, 10, 8]\n",
        "sum = 22\n",
        "arr_size = len(A)\n",
        "find3Numbers(A, arr_size, sum)\n"
      ],
      "metadata": {
        "colab": {
          "base_uri": "https://localhost:8080/"
        },
        "id": "LeVWNPBtBkYY",
        "outputId": "01e95e9b-eeeb-4815-da27-1b0b56d4aaea"
      },
      "execution_count": 1,
      "outputs": [
        {
          "output_type": "stream",
          "name": "stdout",
          "text": [
            "Triplet is 4 ,  10 ,  8\n"
          ]
        },
        {
          "output_type": "execute_result",
          "data": {
            "text/plain": [
              "True"
            ]
          },
          "metadata": {},
          "execution_count": 1
        }
      ]
    },
    {
      "cell_type": "markdown",
      "source": [
        "Trapping Rain water problem"
      ],
      "metadata": {
        "id": "p_jyk4FLGSPV"
      }
    },
    {
      "cell_type": "code",
      "source": [
        "# Python3 implementation of the approach\n",
        "\n",
        "# Function to return the maximum\n",
        "# water that can be stored\n",
        "def maxWater(arr, n):\n",
        "\n",
        "\t# To store the maximum water\n",
        "\t# that can be stored\n",
        "\tres = 0\n",
        "\n",
        "\t# For every element of the array\n",
        "\tfor i in range(1, n - 1):\n",
        "\n",
        "\t\t# Find the maximum element on its left\n",
        "\t\tleft = arr[i]\n",
        "\t\tfor j in range(i):\n",
        "\t\t\tleft = max(left, arr[j])\n",
        "\n",
        "\t\t# Find the maximum element on its right\n",
        "\t\tright = arr[i]\n",
        "\n",
        "\t\tfor j in range(i + 1, n):\n",
        "\t\t\tright = max(right, arr[j])\n",
        "\n",
        "\t\t# Update the maximum water\n",
        "\t\tres = res + (min(left, right) - arr[i])\n",
        "\n",
        "\treturn res\n",
        "\n",
        "\n",
        "# Driver code\n",
        "if __name__ == \"__main__\":\n",
        "\n",
        "\tarr = [0, 1, 0, 2, 1, 0,\n",
        "\t\t1, 3, 2, 1, 2, 1]\n",
        "\tn = len(arr)\n",
        "\n",
        "\tprint(maxWater(arr, n))\n",
        "\n"
      ],
      "metadata": {
        "colab": {
          "base_uri": "https://localhost:8080/"
        },
        "id": "rCFo-K7bGYt5",
        "outputId": "7a0379e1-1120-4241-b231-38ed3004bc13"
      },
      "execution_count": 2,
      "outputs": [
        {
          "output_type": "stream",
          "name": "stdout",
          "text": [
            "6\n"
          ]
        }
      ]
    }
  ],
  "metadata": {
    "colab": {
      "provenance": [],
      "authorship_tag": "ABX9TyOf2VBoGNgflynu0t5k8Mi8",
      "include_colab_link": true
    },
    "kernelspec": {
      "display_name": "Python 3",
      "name": "python3"
    },
    "language_info": {
      "name": "python"
    }
  },
  "nbformat": 4,
  "nbformat_minor": 0
}