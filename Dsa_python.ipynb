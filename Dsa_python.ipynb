{
  "nbformat": 4,
  "nbformat_minor": 0,
  "metadata": {
    "colab": {
      "provenance": [],
      "authorship_tag": "ABX9TyMV2rnysRGGtK3A6g7+DHZU",
      "include_colab_link": true
    },
    "kernelspec": {
      "name": "python3",
      "display_name": "Python 3"
    },
    "language_info": {
      "name": "python"
    }
  },
  "cells": [
    {
      "cell_type": "markdown",
      "metadata": {
        "id": "view-in-github",
        "colab_type": "text"
      },
      "source": [
        "<a href=\"https://colab.research.google.com/github/PrajwalSingh048/Python-dsa-practice/blob/main/Dsa_python.ipynb\" target=\"_parent\"><img src=\"https://colab.research.google.com/assets/colab-badge.svg\" alt=\"Open In Colab\"/></a>"
      ]
    },
    {
      "cell_type": "markdown",
      "source": [
        "DSA python practice Notebook"
      ],
      "metadata": {
        "id": "ODSviEJ74kau"
      }
    },
    {
      "cell_type": "markdown",
      "source": [
        "Reverse list"
      ],
      "metadata": {
        "id": "--yoctiDb7f1"
      }
    },
    {
      "cell_type": "code",
      "execution_count": null,
      "metadata": {
        "colab": {
          "base_uri": "https://localhost:8080/"
        },
        "id": "QsZM1SrS4jWq",
        "outputId": "c555a5ba-abd8-44b7-e1cd-01dc44339efc"
      },
      "outputs": [
        {
          "output_type": "stream",
          "name": "stdout",
          "text": [
            "[1, 2, 3, 4, 5, 6]\n",
            "Reversed list is\n",
            "[6, 5, 4, 3, 2, 1]\n"
          ]
        }
      ],
      "source": [
        "def reverseList(A):\n",
        "  print( A[::-1])\n",
        "     \n",
        "# Driver function to test above function\n",
        "A = [1, 2, 3, 4, 5, 6]\n",
        "print(A)\n",
        "print(\"Reversed list is\")\n",
        "reverseList(A) "
      ]
    },
    {
      "cell_type": "markdown",
      "source": [
        "Maximum and minimum of an array using minimum number of comparisons"
      ],
      "metadata": {
        "id": "IedJrkrkcZvI"
      }
    },
    {
      "cell_type": "code",
      "source": [
        "# Python3 program of above implementation\n",
        "def getMinMax(arr):\n",
        "\t\n",
        "\tn = len(arr)\n",
        "\t\n",
        "\t# If array has even number of elements then\n",
        "\t# initialize the first two elements as minimum\n",
        "\t# and maximum\n",
        "\tif(n % 2 == 0):\n",
        "\t\tmx = max(arr[0], arr[1])\n",
        "\t\tmn = min(arr[0], arr[1])\n",
        "\t\t\n",
        "\t\t# set the starting index for loop\n",
        "\t\ti = 2\n",
        "\t\t\n",
        "\t# If array has odd number of elements then\n",
        "\t# initialize the first element as minimum\n",
        "\t# and maximum\n",
        "\telse:\n",
        "\t\tmx = mn = arr[0]\n",
        "\t\t\n",
        "\t\t# set the starting index for loop\n",
        "\t\ti = 1\n",
        "\t\t\n",
        "\t# In the while loop, pick elements in pair and\n",
        "\t# compare the pair with max and min so far\n",
        "\twhile(i < n - 1):\n",
        "\t\tif arr[i] < arr[i + 1]:\n",
        "\t\t\tmx = max(mx, arr[i + 1])\n",
        "\t\t\tmn = min(mn, arr[i])\n",
        "\t\telse:\n",
        "\t\t\tmx = max(mx, arr[i])\n",
        "\t\t\tmn = min(mn, arr[i + 1])\n",
        "\t\t\t\n",
        "\t\t# Increment the index by 2 as two\n",
        "\t\t# elements are processed in loop\n",
        "\t\ti += 2\n",
        "\t\n",
        "\treturn (mx, mn)\n",
        "\t\n",
        "# Driver Code\n",
        "if __name__ =='__main__':\n",
        "\t\n",
        "\tarr = [1000, 11, 445, 1, 330, 3000]\n",
        "\tmx, mn = getMinMax(arr)\n",
        "\tprint(\"Minimum element is\", mn)\n",
        "\tprint(\"Maximum element is\", mx)\n",
        "\t\n"
      ],
      "metadata": {
        "colab": {
          "base_uri": "https://localhost:8080/"
        },
        "id": "_hWKxPStcaNM",
        "outputId": "b83133c7-4ff3-4ade-9285-72ceef6fe3d6"
      },
      "execution_count": null,
      "outputs": [
        {
          "output_type": "stream",
          "name": "stdout",
          "text": [
            "Minimum element is 1\n",
            "Maximum element is 3000\n"
          ]
        }
      ]
    },
    {
      "cell_type": "markdown",
      "source": [
        "Kth smallest number in list."
      ],
      "metadata": {
        "id": "mOS4tMjnJq--"
      }
    },
    {
      "cell_type": "code",
      "source": [
        "import heapq\n",
        " \n",
        " \n",
        "# A simple implementation of max-heap based on `heapq`\n",
        "class MaxHeap:\n",
        " \n",
        "    def __init__(self, data=None):\n",
        "        if data is None:\n",
        "            self.data = []\n",
        "        else:\n",
        "            self.data = [-i for i in data]\n",
        "            heapq.heapify(self.data)\n",
        "    def top(self):\n",
        "        return -self.data[0]\n",
        " \n",
        "    def push(self, item):\n",
        "        heapq.heappush(self.data, -item)\n",
        " \n",
        "    def pop(self):\n",
        "        return -heapq.heappop(self.data)\n",
        " \n",
        "    def replace(self, item):\n",
        "        return heapq.heapreplace(self.data, -item)          \n",
        "# Function to find the k'th smallest element in a list using max-heap\n",
        "def find_kth_smallest(input, k):\n",
        " \n",
        "    # base case\n",
        "    if not input or len(input) < k:\n",
        "        exit(-1)\n",
        " \n",
        "    # build a max-heap from the first `k` elements in the list\n",
        "    pq = MaxHeap(input[0:k])\n",
        " \n",
        "    # do for remaining list elements\n",
        "    for i in range(k, len(input)):\n",
        "        # if the current element is less than the root of the heap\n",
        "        if input[i] < pq.top():\n",
        "            # replace root with the current element\n",
        "            pq.replace(input[i])\n",
        " \n",
        "    # return the root of max-heap\n",
        "    return pq.top() \n",
        "if __name__ == '__main__':\n",
        " \n",
        "    input = [7, 4, 6, 3, 9, 1]\n",
        "    k = 3\n",
        " \n",
        "    print('k\\'th smallest element in the list is', find_kth_smallest(input, k))\n",
        "             "
      ],
      "metadata": {
        "colab": {
          "base_uri": "https://localhost:8080/"
        },
        "id": "vxiQOv7_JqgX",
        "outputId": "d3a25b0e-b1eb-4a2d-d0c2-ab5f5329d0f0"
      },
      "execution_count": null,
      "outputs": [
        {
          "output_type": "stream",
          "name": "stdout",
          "text": [
            "k'th smallest element in the list is 4\n"
          ]
        }
      ]
    },
    {
      "cell_type": "markdown",
      "source": [
        "kth largest number"
      ],
      "metadata": {
        "id": "h8oOsjdN3jjM"
      }
    },
    {
      "cell_type": "code",
      "source": [
        "class Solution(object):\n",
        "   def findKthLargest(self, nums, k):\n",
        "      nums.sort()\n",
        "      if k ==1:\n",
        "         return nums[-1]\n",
        "      temp = 1\n",
        "      return nums[len(nums)-k]\n",
        "ob1 = Solution()\n",
        "print(ob1.findKthLargest([56,14,7,98,32,12,11,50,45,78,7,5,69], 5))"
      ],
      "metadata": {
        "colab": {
          "base_uri": "https://localhost:8080/"
        },
        "id": "fFZ-COLo3tzG",
        "outputId": "bbe4ddf2-4cf0-4bf3-c170-23fc3ca0f18b"
      },
      "execution_count": null,
      "outputs": [
        {
          "output_type": "stream",
          "name": "stdout",
          "text": [
            "50\n"
          ]
        }
      ]
    },
    {
      "cell_type": "markdown",
      "source": [
        "Sort an array Of 0s, 1s and 2s"
      ],
      "metadata": {
        "id": "l0Z7Dfr4CYS5"
      }
    },
    {
      "cell_type": "code",
      "source": [
        "# Python program to sort an array with \n",
        "# 0, 1 and 2 in a single pass\n",
        "  \n",
        "# Function to sort array\n",
        "def sort012( a, arr_size):\n",
        "    lo = 0\n",
        "    hi = arr_size - 1\n",
        "    mid = 0\n",
        "    while mid <= hi:\n",
        "        if a[mid] == 0:\n",
        "            a[lo], a[mid] = a[mid], a[lo]\n",
        "            lo = lo + 1\n",
        "            mid = mid + 1\n",
        "        elif a[mid] == 1:\n",
        "            mid = mid + 1\n",
        "        else:\n",
        "            a[mid], a[hi] = a[hi], a[mid] \n",
        "            hi = hi - 1\n",
        "    return a\n",
        "      \n",
        "# Function to print array\n",
        "def printArray(a):\n",
        "    for k in a:\n",
        "        print (k),\n",
        "    \n",
        "# Driver Program\n",
        "arr = [0, 1, 1, 0, 1, 2, \n",
        "       1, 2, 0, 0, 0, 1]\n",
        "arr_size = len(arr)\n",
        "arr = sort012( arr, arr_size)\n",
        "print (\"Array after segregation :\"),\n",
        "printArray(arr)"
      ],
      "metadata": {
        "colab": {
          "base_uri": "https://localhost:8080/"
        },
        "id": "-6oiL8gJCbd4",
        "outputId": "7b8dc2ea-9666-4b39-87cc-4b7b2495163c"
      },
      "execution_count": null,
      "outputs": [
        {
          "output_type": "stream",
          "name": "stdout",
          "text": [
            "Array after segregation :\n",
            "0\n",
            "0\n",
            "0\n",
            "0\n",
            "0\n",
            "1\n",
            "1\n",
            "1\n",
            "1\n",
            "1\n",
            "2\n",
            "2\n"
          ]
        }
      ]
    },
    {
      "cell_type": "markdown",
      "source": [
        "To put all the zero in one side of an array"
      ],
      "metadata": {
        "id": "u5G8NXxOa-YP"
      }
    },
    {
      "cell_type": "code",
      "source": [
        "# Python3 implementation of the approach\n",
        " \n",
        "# Utility function to print\n",
        "# the contents of an array\n",
        "def printArr(arr, n) :\n",
        " \n",
        "    for i in range(n) :\n",
        "        print(arr[i],end=\" \")\n",
        " \n",
        " \n",
        "# Function that pushes all the zeros\n",
        "# to the start and ones to the end of an array\n",
        "def pushBinaryToBorder(arr, n) :\n",
        " \n",
        "    # To store the count of elements\n",
        "    # which are not equal to 1\n",
        "    count1 = 0\n",
        "     \n",
        "    # Traverse the array and calculate\n",
        "    # count of elements which are not 1\n",
        "    for i in range(n) :\n",
        "        if (arr[i] != 1) :\n",
        "            arr[count1] = arr[i]\n",
        "            count1 += 1\n",
        " \n",
        "    # Now all non-ones elements have been shifted to\n",
        "    # front and 'count1' is set as index of first 1.\n",
        "    # Make all elements 1 from count to end.\n",
        "    while (count1 < n) :\n",
        "        arr[count1] = 1\n",
        "        count1 += 1\n",
        " \n",
        "    # Initialize lastNonBinary position to zero\n",
        "    lastNonOne = 0\n",
        " \n",
        "    # Traverse the array and pull non-zero\n",
        "    # elements to the required indices\n",
        "    for i in range(n - 1, -1, -1) :\n",
        " \n",
        "        # Ignore the 1's\n",
        "        if (arr[i] == 1) :\n",
        "            continue\n",
        "             \n",
        "        if (not lastNonOne) :\n",
        " \n",
        "            # Mark the position Of\n",
        "            # last NonBinary integer\n",
        "            lastNonOne = i\n",
        " \n",
        "        # Place non-zero element to\n",
        "        # their required indices\n",
        "        if (arr[i] != 0) :\n",
        "            arr[lastNonOne] = arr[i]\n",
        "            lastNonOne -= 1\n",
        " \n",
        "    # Put zeros to start of array\n",
        "    while (lastNonOne >= 0) :\n",
        "        arr[lastNonOne] = 0\n",
        "        lastNonOne -= 1\n",
        " \n",
        "# Driver code\n",
        "if __name__ == \"__main__\" :\n",
        "     \n",
        "    arr = [ 1, 2, 0, 0, 0, 3, 6 ];\n",
        "    n = len(arr);\n",
        "    pushBinaryToBorder(arr, n)\n",
        "    printArr(arr, n)"
      ],
      "metadata": {
        "colab": {
          "base_uri": "https://localhost:8080/"
        },
        "id": "25mRx0ZMa_Ga",
        "outputId": "a36b41f8-3320-44e1-c1c3-35af2ed78cb5"
      },
      "execution_count": null,
      "outputs": [
        {
          "output_type": "stream",
          "name": "stdout",
          "text": [
            "0 0 0 2 3 6 1 "
          ]
        }
      ]
    },
    {
      "cell_type": "markdown",
      "source": [
        "Move all the negative elements to one side of the array \n",
        "\n"
      ],
      "metadata": {
        "id": "40Qcdpqp9tkG"
      }
    },
    {
      "cell_type": "code",
      "source": [
        "def move(arr):\n",
        "  arr.sort()\n",
        " \n",
        "# driver code\n",
        "arr = [ -1, 2, -3, 4, 5, 6, -7, 8, 9 ]\n",
        "move(arr)\n",
        "for e in arr:\n",
        "    print(e , end = \" \")"
      ],
      "metadata": {
        "colab": {
          "base_uri": "https://localhost:8080/"
        },
        "id": "lAZOU4dx9uKn",
        "outputId": "dfca739f-71b4-4acb-c1c3-b226e4a0c3c1"
      },
      "execution_count": null,
      "outputs": [
        {
          "output_type": "stream",
          "name": "stdout",
          "text": [
            "-7 -3 -1 2 4 5 6 8 9 "
          ]
        }
      ]
    },
    {
      "cell_type": "markdown",
      "source": [
        "Given an array which consists of only 0, 1 and 2. Sort the array without using any sorting algo"
      ],
      "metadata": {
        "id": "Bw3ufzZA9694"
      }
    },
    {
      "cell_type": "code",
      "source": [
        "\n",
        "# Python implementation of the approach\n",
        " \n",
        "# Utility function to print contents of an array\n",
        " \n",
        " \n",
        "def printArr(arr, n):\n",
        "    for i in range(n):\n",
        "        print(arr[i], end=\" \")\n",
        " \n",
        " \n",
        "# Function to sort the array of 0s, 1s and 2s\n",
        "def sortArr(arr, n):\n",
        "    cnt0 = 0\n",
        "    cnt1 = 0\n",
        "    cnt2 = 0\n",
        " \n",
        "    # Count the number of 0s, 1s and 2s in the array\n",
        "    for i in range(n):\n",
        "        if arr[i] == 0:\n",
        "            cnt0 += 1\n",
        " \n",
        "        elif arr[i] == 1:\n",
        "            cnt1 += 1\n",
        " \n",
        "        elif arr[i] == 2:\n",
        "            cnt2 += 1\n",
        " \n",
        "    # Update the array\n",
        "    i = 0\n",
        " \n",
        "    # Store all the 0s in the beginning\n",
        "    while (cnt0 > 0):\n",
        "        arr[i] = 0\n",
        "        i += 1\n",
        "        cnt0 -= 1\n",
        " \n",
        "    # Then all the 1s\n",
        "    while (cnt1 > 0):\n",
        "        arr[i] = 1\n",
        "        i += 1\n",
        "        cnt1 -= 1\n",
        " \n",
        "    # Finally all the 2s\n",
        "    while (cnt2 > 0):\n",
        "        arr[i] = 2\n",
        "        i += 1\n",
        "        cnt2 -= 1\n",
        " \n",
        "    # Print the sorted array\n",
        "    printArr(arr, n)\n",
        " \n",
        " \n",
        "# Driver code\n",
        " \n",
        "arr = [0, 1, 1, 0, 1, 2, 1, 2, 0, 0, 0, 1]\n",
        "n = len(arr)\n",
        " \n",
        "sortArr(arr, n)"
      ],
      "metadata": {
        "colab": {
          "base_uri": "https://localhost:8080/"
        },
        "id": "xzgL3ahM97Xg",
        "outputId": "71ac0883-06c0-43a0-d5fa-3bde81d79484"
      },
      "execution_count": null,
      "outputs": [
        {
          "output_type": "stream",
          "name": "stdout",
          "text": [
            "0 0 0 0 0 1 1 1 1 1 2 2 "
          ]
        }
      ]
    },
    {
      "cell_type": "markdown",
      "source": [
        "Find the Union and Intersection of the two sorted arrays."
      ],
      "metadata": {
        "id": "Uw8fEsL7bafj"
      }
    },
    {
      "cell_type": "code",
      "source": [
        "# Python program to find union of\n",
        "# two sorted arrays\n",
        "# Function prints union of arr1[] and arr2[]\n",
        "# m is the number of elements in arr1[]\n",
        "# n is the number of elements in arr2[]\n",
        "def printUnion(arr1, arr2, m, n):\n",
        "    i, j = 0, 0\n",
        "    while i < m and j < n:\n",
        "        if arr1[i] < arr2[j]:\n",
        "            print(arr1[i],end=\" \")\n",
        "            i += 1\n",
        "        elif arr2[j] < arr1[i]:\n",
        "            print(arr2[j],end=\" \")\n",
        "            j+= 1\n",
        "        else:\n",
        "            print(arr2[j],end=\" \")\n",
        "            j += 1\n",
        "            i += 1\n",
        " \n",
        "    # Print remaining elements of the larger array\n",
        "    while i < m:\n",
        "        print(arr1[i],end=\" \")\n",
        "        i += 1\n",
        " \n",
        "    while j < n:\n",
        "        print(arr2[j],end=\" \")\n",
        "        j += 1\n",
        " \n",
        "# Driver program to test above function\n",
        "arr1 = [1, 2, 4, 5, 6]\n",
        "arr2 = [2, 3, 5, 7]\n",
        "m = len(arr1)\n",
        "n = len(arr2)\n",
        "printUnion(arr1, arr2, m, n)\n",
        " "
      ],
      "metadata": {
        "colab": {
          "base_uri": "https://localhost:8080/"
        },
        "id": "t86a9hYKbbhY",
        "outputId": "b5faf75d-8e0e-4032-92e7-778350fb094b"
      },
      "execution_count": null,
      "outputs": [
        {
          "output_type": "stream",
          "name": "stdout",
          "text": [
            "1 2 3 4 5 6 7 "
          ]
        }
      ]
    },
    {
      "cell_type": "markdown",
      "source": [
        "Write a program to cyclically rotate an array by one."
      ],
      "metadata": {
        "id": "hqtd-QMCbco8"
      }
    },
    {
      "cell_type": "code",
      "source": [
        "# Python3 code for program to \n",
        "# cyclically rotate an array by one\n",
        "  \n",
        "# Method for rotation\n",
        "def rotate(arr, n):\n",
        "    x = arr[n - 1]\n",
        "      \n",
        "    for i in range(n - 1, 0, -1):\n",
        "        arr[i] = arr[i - 1];\n",
        "          \n",
        "    arr[0] = x;\n",
        "  \n",
        "  \n",
        "# Driver function\n",
        "arr= [1, 2, 3, 4, 5]\n",
        "n = len(arr)\n",
        "print (\"Given array is\")\n",
        "for i in range(0, n):\n",
        "    print (arr[i], end = ' ')\n",
        "  \n",
        "rotate(arr, n)\n",
        "  \n",
        "print (\"\\nRotated array is\")\n",
        "for i in range(0, n):\n",
        "    print (arr[i], end = ' ')"
      ],
      "metadata": {
        "colab": {
          "base_uri": "https://localhost:8080/"
        },
        "id": "l5I_dFZnbdYf",
        "outputId": "2966d523-561d-48ca-e78e-ae727b63b48e"
      },
      "execution_count": null,
      "outputs": [
        {
          "output_type": "stream",
          "name": "stdout",
          "text": [
            "Given array is\n",
            "1 2 3 4 5 \n",
            "Rotated array is\n",
            "5 1 2 3 4 "
          ]
        }
      ]
    },
    {
      "cell_type": "markdown",
      "source": [
        "find Largest sum contiguous Subarray"
      ],
      "metadata": {
        "id": "dZ4mejMWlbX_"
      }
    },
    {
      "cell_type": "code",
      "source": [
        "# Python program to find maximum contiguous subarray\n",
        "  \n",
        "# Function to find the maximum contiguous subarray\n",
        "from math import inf\n",
        "maxint=inf\n",
        "def maxSubArraySum(a,size):\n",
        "      \n",
        "    max_so_far = -maxint - 1\n",
        "    max_ending_here = 0\n",
        "      \n",
        "    for i in range(0, size):\n",
        "        max_ending_here = max_ending_here + a[i]\n",
        "        if (max_so_far < max_ending_here):\n",
        "            max_so_far = max_ending_here\n",
        " \n",
        "        if max_ending_here < 0:\n",
        "            max_ending_here = 0  \n",
        "    return max_so_far\n",
        "  \n",
        "# Driver function to check the above function\n",
        "a = [-13, -3, -25, -20, -3, -16, -23, -12, -5, -22, -15, -4, -7]\n",
        "print (\"Maximum contiguous sum is\", maxSubArraySum(a,len(a)))"
      ],
      "metadata": {
        "colab": {
          "base_uri": "https://localhost:8080/"
        },
        "id": "MiWHghRclca1",
        "outputId": "1639647a-2748-49af-fc1a-928570cd3f91"
      },
      "execution_count": null,
      "outputs": [
        {
          "output_type": "stream",
          "name": "stdout",
          "text": [
            "Maximum contiguous sum is -3\n"
          ]
        }
      ]
    },
    {
      "cell_type": "markdown",
      "source": [
        "Minimise the maximum difference between heights "
      ],
      "metadata": {
        "id": "rGySI1NDF3-K"
      }
    },
    {
      "cell_type": "code",
      "source": [
        "# User function Template\n",
        "def getMinDiff(arr, n, k):\n",
        "    arr.sort()\n",
        "    ans = arr[n - 1] - arr[0]  # Maximum possible height difference\n",
        "  \n",
        "    tempmin = arr[0]\n",
        "    tempmax = arr[n - 1]\n",
        "  \n",
        "    for i in range(1, n):\n",
        "        if arr[i] < k:\n",
        "            continue\n",
        "        tempmin = min(arr[0] + k, arr[i] - k)\n",
        "  \n",
        "        # Minimum element when we\n",
        "        # add k to whole array\n",
        "        # Maximum element when we\n",
        "        tempmax = max(arr[i - 1] + k, arr[n - 1] - k)\n",
        "  \n",
        "        # subtract k from whole array\n",
        "        ans = min(ans, tempmax - tempmin)\n",
        "  \n",
        "    return ans\n",
        "  \n",
        "  \n",
        "# Driver Code Starts\n",
        "k = 6\n",
        "n = 6\n",
        "arr = [7, 4, 8, 8, 8, 9]\n",
        "ans = getMinDiff(arr, n, k)\n",
        "print(ans)"
      ],
      "metadata": {
        "colab": {
          "base_uri": "https://localhost:8080/"
        },
        "id": "QPNfVN7WF4ds",
        "outputId": "73179068-8bcd-4f47-989b-ad5fa227c6a1"
      },
      "execution_count": null,
      "outputs": [
        {
          "output_type": "stream",
          "name": "stdout",
          "text": [
            "5\n"
          ]
        }
      ]
    },
    {
      "cell_type": "markdown",
      "source": [
        "Minimum no. of Jumps to reach end of an array"
      ],
      "metadata": {
        "id": "XgQHm7oGYXiM"
      }
    },
    {
      "cell_type": "code",
      "source": [
        "# Python3 program to find Minimum\n",
        "# number of jumps to reach end\n",
        " \n",
        "# Returns minimum number of jumps\n",
        "# to reach arr[h] from arr[l]\n",
        " \n",
        " \n",
        "def minJumps(arr, l, h):\n",
        " \n",
        "    # Base case: when source and\n",
        "    # destination are same\n",
        "    if (h == l):\n",
        "        return 0\n",
        " \n",
        "    # when nothing is reachable\n",
        "    # from the given source\n",
        "    if (arr[l] == 0):\n",
        "        return float('inf')\n",
        " \n",
        "    # Traverse through all the points\n",
        "    # reachable from arr[l]. Recursively\n",
        "    # get the minimum number of jumps\n",
        "    # needed to reach arr[h] from\n",
        "    # these reachable points.\n",
        "    min = float('inf')\n",
        "    for i in range(l + 1, h + 1):\n",
        "        if (i < l + arr[l] + 1):\n",
        "            jumps = minJumps(arr, i, h)\n",
        "            if (jumps != float('inf') and\n",
        "                    jumps + 1 < min):\n",
        "                min = jumps + 1\n",
        " \n",
        "    return min\n",
        " \n",
        " \n",
        "# Driver program to test above function\n",
        "arr = [1, 3, 5, 8, 9, 2, 6, 7, 6, 8, 9]\n",
        "n = len(arr)\n",
        "print('Minimum number of jumps to reach',\n",
        "      'end is', minJumps(arr, 0, n-1))\n",
        " "
      ],
      "metadata": {
        "colab": {
          "base_uri": "https://localhost:8080/"
        },
        "id": "rLQQcS9XYZX4",
        "outputId": "61d9dc65-d09d-4727-9b1f-7e16ca014025"
      },
      "execution_count": null,
      "outputs": [
        {
          "output_type": "stream",
          "name": "stdout",
          "text": [
            "Minimum number of jumps to reach end is 3\n"
          ]
        }
      ]
    },
    {
      "cell_type": "markdown",
      "source": [
        "find duplicate in an array of N+1 Integers"
      ],
      "metadata": {
        "id": "4AaEwq9IkRKV"
      }
    },
    {
      "cell_type": "code",
      "source": [
        "numRay = [0, 4, 3, 2, 7, 8, 2, 3, 1]\n",
        "arr_size = len(numRay)\n",
        "for i in range(arr_size):\n",
        " \n",
        "    x = numRay[i] % arr_size\n",
        "    numRay[x] = numRay[x] + arr_size\n",
        " \n",
        "print(\"The repeating elements are : \")\n",
        "for i in range(arr_size):\n",
        "    if (numRay[i] >= arr_size*2):\n",
        "        print(i, \" \")"
      ],
      "metadata": {
        "colab": {
          "base_uri": "https://localhost:8080/"
        },
        "id": "EGZFRGnGkR7h",
        "outputId": "b8373a14-9fd1-4feb-8f82-cb30d3c4bf79"
      },
      "execution_count": null,
      "outputs": [
        {
          "output_type": "stream",
          "name": "stdout",
          "text": [
            "The repeating elements are : \n",
            "2  \n",
            "3  \n"
          ]
        }
      ]
    },
    {
      "cell_type": "markdown",
      "source": [
        "Merge 2 sorted arrays without using Extra space."
      ],
      "metadata": {
        "id": "Y2fuafUZEBn9"
      }
    },
    {
      "cell_type": "code",
      "source": [
        "# Python program to merge\n",
        "# two sorted arrays\n",
        "# with O(1) extra space.\n",
        " \n",
        "# Merge ar1[] and ar2[]\n",
        "# with O(1) extra space\n",
        " \n",
        " \n",
        "def merge(ar1, ar2, m, n):\n",
        " \n",
        "    # Iterate through all\n",
        "    # elements of ar2[] starting from\n",
        "    # the last element\n",
        "    for i in range(n-1, -1, -1):\n",
        " \n",
        "        # Find the smallest element\n",
        "        # greater than ar2[i]. Move all\n",
        "        # elements one position ahead\n",
        "        # till the smallest greater\n",
        "        # element is not found\n",
        "        last = ar1[m-1]\n",
        "        j = m-2\n",
        "        while(j >= 0 and ar1[j] > ar2[i]):\n",
        "            ar1[j+1] = ar1[j]\n",
        "            j -= 1\n",
        " \n",
        "        # If there was a greater element\n",
        "        if (last > ar2[i]):\n",
        " \n",
        "            ar1[j+1] = ar2[i]\n",
        "            ar2[i] = last\n",
        " \n",
        "# Driver code\n",
        "ar1 = [1, 5, 9, 10, 15, 20]\n",
        "ar2 = [2, 3, 8, 13]\n",
        "m = len(ar1)\n",
        "n = len(ar2)\n",
        " \n",
        "merge(ar1, ar2, m, n)\n",
        " \n",
        "print(\"After Merging \\nFirst Array:\", end=\"\")\n",
        "for i in range(m):\n",
        "    print(ar1[i], \" \", end=\"\")\n",
        " \n",
        "print(\"\\nSecond Array: \", end=\"\")\n",
        "for i in range(n):\n",
        "    print(ar2[i], \" \", end=\"\")\n",
        " "
      ],
      "metadata": {
        "colab": {
          "base_uri": "https://localhost:8080/"
        },
        "id": "MDkRBuDYECE6",
        "outputId": "b290c223-2f98-45e8-a027-a7e2e8b7a0ef"
      },
      "execution_count": null,
      "outputs": [
        {
          "output_type": "stream",
          "name": "stdout",
          "text": [
            "After Merging \n",
            "First Array:1  2  3  5  8  9  \n",
            "Second Array: 10  13  15  20  "
          ]
        }
      ]
    },
    {
      "cell_type": "markdown",
      "source": [
        "Kadane's Algo [V.V.V.V.V IMP]"
      ],
      "metadata": {
        "id": "_7daqa-TsEPX"
      }
    },
    {
      "cell_type": "code",
      "source": [
        "# defining the function to find the maximum subarray sum  \n",
        "def max_Subarray_Sum(my_array, array_size):  \n",
        "    # assigning the variables  \n",
        "    maxTillNow = my_array[0]  \n",
        "    maxEnding = 0  \n",
        "      \n",
        "    # using the for-loop  \n",
        "    for n in range(0, array_size):  \n",
        "        maxEnding = maxEnding + my_array[n]  \n",
        "        # using the if-elif-else statement  \n",
        "        if maxEnding < 0:  \n",
        "            maxEnding = 0  \n",
        "          \n",
        "        elif (maxTillNow < maxEnding):  \n",
        "            maxTillNow = maxEnding  \n",
        "              \n",
        "    return maxTillNow  \n",
        "# defining the array  \n",
        "my_array = [-2, -3, 4, -1, -2, 5, -3]  \n",
        "# printing the maximum subarray sum for the users  \n",
        "print(\"Maximum Subarray Sum:\", max_Subarray_Sum(my_array, len(my_array))) "
      ],
      "metadata": {
        "colab": {
          "base_uri": "https://localhost:8080/"
        },
        "id": "cBNqs1l9sE2K",
        "outputId": "42c23266-7a6c-40f3-dd82-ece04b4cf023"
      },
      "execution_count": null,
      "outputs": [
        {
          "output_type": "stream",
          "name": "stdout",
          "text": [
            "Maximum Subarray Sum: 6\n"
          ]
        }
      ]
    },
    {
      "cell_type": "markdown",
      "source": [
        "Merge Intervals"
      ],
      "metadata": {
        "id": "JHquJYypuDSl"
      }
    },
    {
      "cell_type": "code",
      "source": [
        "# Python program to merge overlapping Intervals in\n",
        "# O(n Log n) time and O(1) extra space\n",
        "\n",
        "\n",
        "def mergeIntervals(arr):\n",
        "\n",
        "\t# Sorting based on the increasing order\n",
        "\t# of the start intervals\n",
        "\tarr.sort(key=lambda x: x[0])\n",
        "\n",
        "\t# Stores index of last element\n",
        "\t# in output array (modified arr[])\n",
        "\tindex = 0\n",
        "\n",
        "\t# Traverse all input Intervals starting from\n",
        "\t# second interval\n",
        "\tfor i in range(1, len(arr)):\n",
        "\n",
        "\t\t# If this is not first Interval and overlaps\n",
        "\t\t# with the previous one, Merge previous and\n",
        "\t\t# current Intervals\n",
        "\t\tif (arr[index][1] >= arr[i][0]):\n",
        "\t\t\tarr[index][1] = max(arr[index][1], arr[i][1])\n",
        "\t\telse:\n",
        "\t\t\tindex = index + 1\n",
        "\t\t\tarr[index] = arr[i]\n",
        "\n",
        "\tprint(\"The Merged Intervals are :\", end=\" \")\n",
        "\tfor i in range(index+1):\n",
        "\t\tprint(arr[i], end=\" \")\n",
        "\n",
        "\n",
        "# Driver code\n",
        "arr = [[6, 8], [1, 9], [2, 4], [4, 7]]\n",
        "mergeIntervals(arr)\n"
      ],
      "metadata": {
        "colab": {
          "base_uri": "https://localhost:8080/"
        },
        "id": "uciAY4sGuCIe",
        "outputId": "73c9cdd8-69b4-4cd0-8ce4-45f111596946"
      },
      "execution_count": 9,
      "outputs": [
        {
          "output_type": "stream",
          "name": "stdout",
          "text": [
            "The Merged Intervals are : [1, 9] "
          ]
        }
      ]
    }
  ]
}