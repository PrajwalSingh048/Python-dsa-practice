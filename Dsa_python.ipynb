{
  "nbformat": 4,
  "nbformat_minor": 0,
  "metadata": {
    "colab": {
      "provenance": [],
      "authorship_tag": "ABX9TyMOWkHTJMbhMCgrNCq+uIL8",
      "include_colab_link": true
    },
    "kernelspec": {
      "name": "python3",
      "display_name": "Python 3"
    },
    "language_info": {
      "name": "python"
    }
  },
  "cells": [
    {
      "cell_type": "markdown",
      "metadata": {
        "id": "view-in-github",
        "colab_type": "text"
      },
      "source": [
        "<a href=\"https://colab.research.google.com/github/PrajwalSingh048/Python-dsa-practice/blob/main/Dsa_python.ipynb\" target=\"_parent\"><img src=\"https://colab.research.google.com/assets/colab-badge.svg\" alt=\"Open In Colab\"/></a>"
      ]
    },
    {
      "cell_type": "markdown",
      "source": [
        "DSA python practice Notebook"
      ],
      "metadata": {
        "id": "ODSviEJ74kau"
      }
    },
    {
      "cell_type": "markdown",
      "source": [
        "Reverse list"
      ],
      "metadata": {
        "id": "--yoctiDb7f1"
      }
    },
    {
      "cell_type": "code",
      "execution_count": null,
      "metadata": {
        "colab": {
          "base_uri": "https://localhost:8080/"
        },
        "id": "QsZM1SrS4jWq",
        "outputId": "c555a5ba-abd8-44b7-e1cd-01dc44339efc"
      },
      "outputs": [
        {
          "output_type": "stream",
          "name": "stdout",
          "text": [
            "[1, 2, 3, 4, 5, 6]\n",
            "Reversed list is\n",
            "[6, 5, 4, 3, 2, 1]\n"
          ]
        }
      ],
      "source": [
        "def reverseList(A):\n",
        "  print( A[::-1])\n",
        "     \n",
        "# Driver function to test above function\n",
        "A = [1, 2, 3, 4, 5, 6]\n",
        "print(A)\n",
        "print(\"Reversed list is\")\n",
        "reverseList(A) "
      ]
    },
    {
      "cell_type": "markdown",
      "source": [
        "Maximum and minimum of an array using minimum number of comparisons"
      ],
      "metadata": {
        "id": "IedJrkrkcZvI"
      }
    },
    {
      "cell_type": "code",
      "source": [
        "# Python3 program of above implementation\n",
        "def getMinMax(arr):\n",
        "\t\n",
        "\tn = len(arr)\n",
        "\t\n",
        "\t# If array has even number of elements then\n",
        "\t# initialize the first two elements as minimum\n",
        "\t# and maximum\n",
        "\tif(n % 2 == 0):\n",
        "\t\tmx = max(arr[0], arr[1])\n",
        "\t\tmn = min(arr[0], arr[1])\n",
        "\t\t\n",
        "\t\t# set the starting index for loop\n",
        "\t\ti = 2\n",
        "\t\t\n",
        "\t# If array has odd number of elements then\n",
        "\t# initialize the first element as minimum\n",
        "\t# and maximum\n",
        "\telse:\n",
        "\t\tmx = mn = arr[0]\n",
        "\t\t\n",
        "\t\t# set the starting index for loop\n",
        "\t\ti = 1\n",
        "\t\t\n",
        "\t# In the while loop, pick elements in pair and\n",
        "\t# compare the pair with max and min so far\n",
        "\twhile(i < n - 1):\n",
        "\t\tif arr[i] < arr[i + 1]:\n",
        "\t\t\tmx = max(mx, arr[i + 1])\n",
        "\t\t\tmn = min(mn, arr[i])\n",
        "\t\telse:\n",
        "\t\t\tmx = max(mx, arr[i])\n",
        "\t\t\tmn = min(mn, arr[i + 1])\n",
        "\t\t\t\n",
        "\t\t# Increment the index by 2 as two\n",
        "\t\t# elements are processed in loop\n",
        "\t\ti += 2\n",
        "\t\n",
        "\treturn (mx, mn)\n",
        "\t\n",
        "# Driver Code\n",
        "if __name__ =='__main__':\n",
        "\t\n",
        "\tarr = [1000, 11, 445, 1, 330, 3000]\n",
        "\tmx, mn = getMinMax(arr)\n",
        "\tprint(\"Minimum element is\", mn)\n",
        "\tprint(\"Maximum element is\", mx)\n",
        "\t\n"
      ],
      "metadata": {
        "colab": {
          "base_uri": "https://localhost:8080/"
        },
        "id": "_hWKxPStcaNM",
        "outputId": "b83133c7-4ff3-4ade-9285-72ceef6fe3d6"
      },
      "execution_count": 1,
      "outputs": [
        {
          "output_type": "stream",
          "name": "stdout",
          "text": [
            "Minimum element is 1\n",
            "Maximum element is 3000\n"
          ]
        }
      ]
    }
  ]
}