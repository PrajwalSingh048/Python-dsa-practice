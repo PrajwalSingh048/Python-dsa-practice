{
  "nbformat": 4,
  "nbformat_minor": 0,
  "metadata": {
    "colab": {
      "provenance": [],
      "authorship_tag": "ABX9TyM5KYtEdW5izqUhNOKczL2/",
      "include_colab_link": true
    },
    "kernelspec": {
      "name": "python3",
      "display_name": "Python 3"
    },
    "language_info": {
      "name": "python"
    }
  },
  "cells": [
    {
      "cell_type": "markdown",
      "metadata": {
        "id": "view-in-github",
        "colab_type": "text"
      },
      "source": [
        "<a href=\"https://colab.research.google.com/github/PrajwalSingh048/Python-dsa-practice/blob/main/Sarching_and_Sorting.ipynb\" target=\"_parent\"><img src=\"https://colab.research.google.com/assets/colab-badge.svg\" alt=\"Open In Colab\"/></a>"
      ]
    },
    {
      "cell_type": "markdown",
      "source": [
        "Find first and last positions of an element in a sorted array"
      ],
      "metadata": {
        "id": "1NS2hq4LXUOe"
      }
    },
    {
      "cell_type": "code",
      "execution_count": null,
      "metadata": {
        "colab": {
          "base_uri": "https://localhost:8080/"
        },
        "id": "gbD6LjzZQQlV",
        "outputId": "480eecbc-15c7-4ffc-d090-e27bd653e064"
      },
      "outputs": [
        {
          "output_type": "stream",
          "name": "stdout",
          "text": [
            "First Occurrence =  8  \n",
            "Last Occurrence =  9\n"
          ]
        }
      ],
      "source": [
        "# Python 3 program to find first and\n",
        "# last occurrence of an elements in\n",
        "# given sorted array\n",
        "\n",
        "\n",
        "# Function for finding first and last\n",
        "# occurrence of an elements\n",
        "def findFirstAndLast(arr, n, x):\n",
        "\tfirst = -1\n",
        "\tlast = -1\n",
        "\tfor i in range(0, n):\n",
        "\t\tif (x != arr[i]):\n",
        "\t\t\tcontinue\n",
        "\t\tif (first == -1):\n",
        "\t\t\tfirst = i\n",
        "\t\tlast = i\n",
        "\n",
        "\tif (first != -1):\n",
        "\t\tprint(\"First Occurrence = \", first,\n",
        "\t\t\t\" \\nLast Occurrence = \", last)\n",
        "\telse:\n",
        "\t\tprint(\"Not Found\")\n",
        "\n",
        "\n",
        "# Driver code\n",
        "arr = [1, 2, 2, 2, 2, 3, 4, 7, 8, 8]\n",
        "n = len(arr)\n",
        "x = 8\n",
        "findFirstAndLast(arr, n, x)\n",
        "\n",
        "\n",
        "\n"
      ]
    },
    {
      "cell_type": "markdown",
      "source": [
        "Find a Fixed Point (Value equal to index) in a given array"
      ],
      "metadata": {
        "id": "7lE5eZF6rFpV"
      }
    },
    {
      "cell_type": "code",
      "source": [
        "# Python program to check fixed point\n",
        "# in an array using linear search\n",
        "def linearSearch(arr, n):\n",
        "\tfor i in range(n):\n",
        "\t\tif arr[i] is i:\n",
        "\t\t\treturn i\n",
        "\t# If no fixed point present then return -1\n",
        "\treturn -1\n",
        "\n",
        "# Driver program to check above functions\n",
        "arr = [-10, -1, 0, 3, 10, 11, 30, 50, 100]\n",
        "n = len(arr)\n",
        "print(\"Fixed Point is \" + str(linearSearch(arr, n)))\n",
        "\n",
        "\n"
      ],
      "metadata": {
        "colab": {
          "base_uri": "https://localhost:8080/"
        },
        "id": "NRpNavNurGe1",
        "outputId": "f0956b78-2104-4d62-e448-101b081071ca"
      },
      "execution_count": 1,
      "outputs": [
        {
          "output_type": "stream",
          "name": "stdout",
          "text": [
            "Fixed Point is 3\n"
          ]
        }
      ]
    },
    {
      "cell_type": "code",
      "source": [
        "# Python program to check fixed point\n",
        "# in an array using binary search\n",
        "def binarySearch(arr, low, high):\n",
        "\tif high >= low :\n",
        "\t\t\n",
        "\t\tmid = low + (high - low)//2\n",
        "\t\tif mid == arr[mid]:\n",
        "\t\t\treturn mid\n",
        "\t\tres = -1\n",
        "\t\tif mid + 1 <= arr[high]:\n",
        "\t\t\tres = binarySearch(arr, (mid + 1), high)\n",
        "\t\tif res !=-1:\n",
        "\t\t\treturn res\n",
        "\t\tif mid-1 >= arr[low]:\n",
        "\t\t\treturn binarySearch(arr, low, (mid -1))\n",
        "\t\n",
        "\n",
        "\t# Return -1 if there is no Fixed Point\n",
        "\treturn -1\n",
        "\n",
        "\n",
        "\n",
        "\n",
        "# Driver program to check above functions */\n",
        "arr = [-10, -1, 0, 3, 10, 11, 30, 50, 100]\n",
        "n = len(arr)\n",
        "print(\"Fixed Point is \" + str(binarySearch(arr, 0, n-1)))\n"
      ],
      "metadata": {
        "colab": {
          "base_uri": "https://localhost:8080/"
        },
        "id": "nHoxnTmksk8K",
        "outputId": "e03e6030-31a7-499b-de7d-ea9c5f239075"
      },
      "execution_count": 3,
      "outputs": [
        {
          "output_type": "stream",
          "name": "stdout",
          "text": [
            "Fixed Point is 3\n"
          ]
        }
      ]
    },
    {
      "cell_type": "markdown",
      "source": [
        "Search in a rotated sorted array"
      ],
      "metadata": {
        "id": "zJoXDZ1SrG-8"
      }
    },
    {
      "cell_type": "code",
      "source": [
        "# Python Program to search an element\n",
        "# in a sorted and pivoted array\n",
        "\n",
        "# Searches an element key in a pivoted\n",
        "# sorted array arrp[] of size n\n",
        "def pivotedBinarySearch(arr, n, key):\n",
        "\n",
        "\tpivot = findPivot(arr, 0, n-1)\n",
        "\n",
        "\t# If we didn't find a pivot,\n",
        "\t# then array is not rotated at all\n",
        "\tif pivot == -1:\n",
        "\t\treturn binarySearch(arr, 0, n-1, key)\n",
        "\n",
        "\t# If we found a pivot, then first\n",
        "\t# compare with pivot and then\n",
        "\t# search in two subarrays around pivot\n",
        "\tif arr[pivot] == key:\n",
        "\t\treturn pivot\n",
        "\tif arr[0] <= key:\n",
        "\t\treturn binarySearch(arr, 0, pivot-1, key)\n",
        "\treturn binarySearch(arr, pivot + 1, n-1, key)\n",
        "\n",
        "\n",
        "# Function to get pivot. For array\n",
        "# 3, 4, 5, 6, 1, 2 it returns 3\n",
        "# (index of 6)\n",
        "def findPivot(arr, low, high):\n",
        "\n",
        "\t# base cases\n",
        "\tif high < low:\n",
        "\t\treturn -1\n",
        "\tif high == low:\n",
        "\t\treturn low\n",
        "\n",
        "\t# low + (high - low)/2;\n",
        "\tmid = int((low + high)/2)\n",
        "\n",
        "\tif mid < high and arr[mid] > arr[mid + 1]:\n",
        "\t\treturn mid\n",
        "\tif mid > low and arr[mid] < arr[mid - 1]:\n",
        "\t\treturn (mid-1)\n",
        "\tif arr[low] >= arr[mid]:\n",
        "\t\treturn findPivot(arr, low, mid-1)\n",
        "\treturn findPivot(arr, mid + 1, high)\n",
        "\n",
        "# Standard Binary Search function\n",
        "def binarySearch(arr, low, high, key):\n",
        "\n",
        "\tif high < low:\n",
        "\t\treturn -1\n",
        "\n",
        "\t# low + (high - low)/2;\n",
        "\tmid = int((low + high)/2)\n",
        "\n",
        "\tif key == arr[mid]:\n",
        "\t\treturn mid\n",
        "\tif key > arr[mid]:\n",
        "\t\treturn binarySearch(arr, (mid + 1), high,\n",
        "\t\t\t\t\t\t\tkey)\n",
        "\treturn binarySearch(arr, low, (mid - 1), key)\n",
        "\n",
        "\n",
        "# Driver program to check above functions\n",
        "# Let us search 3 in below array\n",
        "if __name__ == '__main__':\n",
        "\tarr1 = [5, 6, 7, 8, 9, 10, 1, 2, 3]\n",
        "\tn = len(arr1)\n",
        "\tkey = 3\n",
        "\tprint(\"Index of the element is : \", \\\n",
        "\t\tpivotedBinarySearch(arr1, n, key))\n",
        "\n",
        "\n"
      ],
      "metadata": {
        "colab": {
          "base_uri": "https://localhost:8080/"
        },
        "id": "IaFpnc7mrHpA",
        "outputId": "027a4de3-382c-4cac-d7bc-d9365daa5471"
      },
      "execution_count": 2,
      "outputs": [
        {
          "output_type": "stream",
          "name": "stdout",
          "text": [
            "Index of the element is :  8\n"
          ]
        }
      ]
    },
    {
      "cell_type": "code",
      "source": [
        "# Search an element in sorted and rotated array using\n",
        "# single pass of Binary Search\n",
        "\n",
        "# Returns index of key in arr[l..h] if key is present,\n",
        "# otherwise returns -1\n",
        "def search(arr, l, h, key):\n",
        "\tif l > h:\n",
        "\t\treturn -1\n",
        "\n",
        "\tmid = (l + h) // 2\n",
        "\tif arr[mid] == key:\n",
        "\t\treturn mid\n",
        "\n",
        "\t# If arr[l...mid] is sorted\n",
        "\tif arr[l] <= arr[mid]:\n",
        "\n",
        "\t\t# As this subarray is sorted, we can quickly\n",
        "\t\t# check if key lies in half or other half\n",
        "\t\tif key >= arr[l] and key <= arr[mid]:\n",
        "\t\t\treturn search(arr, l, mid-1, key)\n",
        "\t\treturn search(arr, mid + 1, h, key)\n",
        "\n",
        "\t# If arr[l..mid] is not sorted, then arr[mid... r]\n",
        "\t# must be sorted\n",
        "\tif key >= arr[mid] and key <= arr[h]:\n",
        "\t\treturn search(arr, mid + 1, h, key)\n",
        "\treturn search(arr, l, mid-1, key)\n",
        "\n",
        "\n",
        "# Driver program\n",
        "if __name__ == '__main__':\n",
        "\tarr = [4, 5, 6, 7, 8, 9, 1, 2, 3]\n",
        "\tkey = 3\n",
        "\ti = search(arr, 0, len(arr)-1, key)\n",
        "\tif i != -1:\n",
        "\t\tprint(\"Index: % d\" % i)\n",
        "\telse:\n",
        "\t\tprint(\"Key not found\")\n",
        "\n",
        "\n"
      ],
      "metadata": {
        "colab": {
          "base_uri": "https://localhost:8080/"
        },
        "id": "azgT7TTQs4cL",
        "outputId": "0ce876ce-3737-4772-dbd4-60bc0a9bcc79"
      },
      "execution_count": 4,
      "outputs": [
        {
          "output_type": "stream",
          "name": "stdout",
          "text": [
            "Index:  8\n"
          ]
        }
      ]
    },
    {
      "cell_type": "code",
      "source": [
        "def search_rotated_array(arr, key):\n",
        "\tn = len(arr)\n",
        "\tfor i in range(n):\n",
        "\t\tif arr[i] == key:\n",
        "\t\t\treturn i\n",
        "\treturn -1\n",
        "\n",
        "arr = [5, 6, 7, 8, 9, 10, 1, 2, 3]\n",
        "key = 3\n",
        "index = search_rotated_array(arr, key)\n",
        "if index != -1:\n",
        "\tprint(f\"Found at index {index}\")\n",
        "else:\n",
        "\tprint(\"Not found\")\n"
      ],
      "metadata": {
        "colab": {
          "base_uri": "https://localhost:8080/"
        },
        "id": "BpDQLy0NtFZd",
        "outputId": "7904aacb-0de0-430e-a925-17e28a4ef519"
      },
      "execution_count": 5,
      "outputs": [
        {
          "output_type": "stream",
          "name": "stdout",
          "text": [
            "Found at index 8\n"
          ]
        }
      ]
    }
  ]
}