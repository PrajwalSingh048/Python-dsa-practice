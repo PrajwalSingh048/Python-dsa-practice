{
  "nbformat": 4,
  "nbformat_minor": 0,
  "metadata": {
    "colab": {
      "provenance": [],
      "authorship_tag": "ABX9TyOPVkvyWGSId8kZCg4GB/YX",
      "include_colab_link": true
    },
    "kernelspec": {
      "name": "python3",
      "display_name": "Python 3"
    },
    "language_info": {
      "name": "python"
    }
  },
  "cells": [
    {
      "cell_type": "markdown",
      "metadata": {
        "id": "view-in-github",
        "colab_type": "text"
      },
      "source": [
        "<a href=\"https://colab.research.google.com/github/PrajwalSingh048/Python-dsa-practice/blob/Dsa2/Dsa2.ipynb\" target=\"_parent\"><img src=\"https://colab.research.google.com/assets/colab-badge.svg\" alt=\"Open In Colab\"/></a>"
      ]
    },
    {
      "cell_type": "markdown",
      "source": [
        "Spiral traversal on a Matrix\n"
      ],
      "metadata": {
        "id": "bcX7PiLm-IOI"
      }
    },
    {
      "cell_type": "code",
      "execution_count": null,
      "metadata": {
        "colab": {
          "base_uri": "https://localhost:8080/"
        },
        "id": "3Tykrt7z9_MN",
        "outputId": "f713b192-4755-4201-9997-eb017a1e1e87"
      },
      "outputs": [
        {
          "output_type": "stream",
          "name": "stdout",
          "text": [
            "1 2 3 4 8 12 16 15 14 13 9 5 6 7 11 10 \n"
          ]
        }
      ],
      "source": [
        "# python3 program for the above approach\n",
        "\n",
        "\n",
        "def spiralOrder(matrix):\n",
        "\tans = []\n",
        "\n",
        "\tif (len(matrix) == 0):\n",
        "\t\treturn ans\n",
        "\n",
        "\tm = len(matrix)\n",
        "\tn = len(matrix[0])\n",
        "\tseen = [[0 for i in range(n)] for j in range(m)]\n",
        "\tdr = [0, 1, 0, -1]\n",
        "\tdc = [1, 0, -1, 0]\n",
        "\tx = 0\n",
        "\ty = 0\n",
        "\tdi = 0\n",
        "\n",
        "\t# Iterate from 0 to R * C - 1\n",
        "\tfor i in range(m * n):\n",
        "\t\tans.append(matrix[x][y])\n",
        "\t\tseen[x][y] = True\n",
        "\t\tcr = x + dr[di]\n",
        "\t\tcc = y + dc[di]\n",
        "\n",
        "\t\tif (0 <= cr and cr < m and 0 <= cc and cc < n and not(seen[cr][cc])):\n",
        "\t\t\tx = cr\n",
        "\t\t\ty = cc\n",
        "\t\telse:\n",
        "\t\t\tdi = (di + 1) % 4\n",
        "\t\t\tx += dr[di]\n",
        "\t\t\ty += dc[di]\n",
        "\treturn ans\n",
        "\n",
        "\n",
        "# Driver code\n",
        "if __name__ == \"__main__\":\n",
        "\ta = [[1, 2, 3, 4],\n",
        "\t\t[5, 6, 7, 8],\n",
        "\t\t[9, 10, 11, 12],\n",
        "\t\t[13, 14, 15, 16]]\n",
        "\n",
        "\t# Function call\n",
        "\tfor x in spiralOrder(a):\n",
        "\t\tprint(x, end=\" \")\n",
        "\tprint()\n"
      ]
    },
    {
      "cell_type": "markdown",
      "source": [
        "Search an element in a matriix"
      ],
      "metadata": {
        "id": "Zyuh520BEmx4"
      }
    },
    {
      "cell_type": "code",
      "source": [
        "# Python program to search an element in row-wise\n",
        "# and column-wise sorted matrix\n",
        "\n",
        "# Searches the element x in mat[][]. If the\n",
        "# element is found, then prints its position\n",
        "# and returns true, otherwise prints \"not found\"\n",
        "# and returns false\n",
        "\n",
        "\n",
        "def search(mat, n, x):\n",
        "\tif(n == 0):\n",
        "\t\treturn -1\n",
        "\n",
        "\t# Traverse through the matrix\n",
        "\tfor i in range(n):\n",
        "\t\tfor j in range(n):\n",
        "\n",
        "\t\t\t# If the element is found\n",
        "\t\t\tif(mat[i][j] == x):\n",
        "\t\t\t\tprint(\"Element found at (\", i, \",\", j, \")\")\n",
        "\t\t\t\treturn 1\n",
        "\n",
        "\tprint(\" Element not found\")\n",
        "\treturn 0\n",
        "\n",
        "\n",
        "# Driver code\n",
        "if __name__ == \"__main__\":\n",
        "\tmat = [[10, 20, 30, 40], [15, 25, 35, 45],\n",
        "\t\t[27, 29, 37, 48], [32, 33, 39, 50]]\n",
        "\n",
        "\t# Function call\n",
        "\tsearch(mat, 4, 29)\n",
        "\n"
      ],
      "metadata": {
        "colab": {
          "base_uri": "https://localhost:8080/"
        },
        "id": "3tDbDNVxEnn-",
        "outputId": "c0a986ec-c946-4a8d-f494-03c684a7eaa7"
      },
      "execution_count": null,
      "outputs": [
        {
          "output_type": "stream",
          "name": "stdout",
          "text": [
            "Element found at ( 2 , 1 )\n"
          ]
        }
      ]
    },
    {
      "cell_type": "markdown",
      "source": [
        "Find median in a row wise sorted matrix"
      ],
      "metadata": {
        "id": "YvkN495Xm8Xn"
      }
    },
    {
      "cell_type": "code",
      "source": [
        "# Python program to find median of matrix\n",
        "# sorted row wise\n",
        "\n",
        "from bisect import bisect_right as upper_bound\n",
        "\n",
        "MAX = 100;\n",
        "\n",
        "# Function to find median in the matrix\n",
        "def binaryMedian(m, r, d):\n",
        "\tmi = m[0][0]\n",
        "\tmx = 0\n",
        "\tfor i in range(r):\n",
        "\t\tif m[i][0] < mi:\n",
        "\t\t\tmi = m[i][0]\n",
        "\t\tif m[i][d-1] > mx :\n",
        "\t\t\tmx = m[i][d-1]\n",
        "\t\n",
        "\tdesired = (r * d + 1) // 2\n",
        "\t\n",
        "\twhile (mi < mx):\n",
        "\t\tmid = mi + (mx - mi) // 2\n",
        "\t\tplace = [0];\n",
        "\t\t\n",
        "\t\t# Find count of elements smaller than or equal to mid\n",
        "\t\tfor i in range(r):\n",
        "\t\t\tj = upper_bound(m[i], mid)\n",
        "\t\t\tplace[0] = place[0] + j\n",
        "\t\tif place[0] < desired:\n",
        "\t\t\tmi = mid + 1\n",
        "\t\telse:\n",
        "\t\t\tmx = mid\n",
        "\tprint (\"Median is\", mi)\n",
        "\treturn\n",
        "\t\n",
        "# Driver code\n",
        "r, d = 3, 3\n",
        "\n",
        "m = [ [1, 3, 5], [2, 6, 9], [3, 6, 9]]\n",
        "binaryMedian(m, r, d)\n",
        "\n"
      ],
      "metadata": {
        "colab": {
          "base_uri": "https://localhost:8080/"
        },
        "id": "OiDSbnUrm87N",
        "outputId": "4c19e026-8f91-4aa0-f572-555d3c6391cd"
      },
      "execution_count": null,
      "outputs": [
        {
          "output_type": "stream",
          "name": "stdout",
          "text": [
            "Median is 5\n"
          ]
        }
      ]
    },
    {
      "cell_type": "markdown",
      "source": [
        "Find row with maximum no. of 1's"
      ],
      "metadata": {
        "id": "BWFLD5CQnfaI"
      }
    },
    {
      "cell_type": "code",
      "source": [
        "# Python implementation of the approach\n",
        "R,C = 4,4\n",
        "\n",
        "# Function to find the index of first index\n",
        "# of 1 in a boolean array arr\n",
        "def first(arr , low , high):\n",
        "\n",
        "\tif(high >= low):\n",
        "\n",
        "\t\t# Get the middle index\n",
        "\t\tmid = low + (high - low)//2\n",
        "\t\n",
        "\t\t# Check if the element at middle index is first 1\n",
        "\t\tif ( ( mid == 0 or arr[mid-1] == 0) and arr[mid] == 1):\n",
        "\t\t\treturn mid\n",
        "\t\n",
        "\t\t# If the element is 0, recur for right side\n",
        "\t\telif (arr[mid] == 0):\n",
        "\t\t\treturn first(arr, (mid + 1), high);\n",
        "\t\t\n",
        "\t\t# If element is not first 1, recur for left side\n",
        "\t\telse:\n",
        "\t\t\treturn first(arr, low, (mid -1));\n",
        "\n",
        "\treturn -1\n",
        "\n",
        "# Function that returns index of row\n",
        "# with maximum number of 1s.\n",
        "def rowWithMax1s(mat):\n",
        "\n",
        "\t# Initialize max values\n",
        "\tmax_row_index,Max = 0,-1\n",
        "\n",
        "\t# Traverse for each row and count number of 1s\n",
        "\t# by finding the index of first 1\n",
        "\tfor i in range(R):\n",
        "\n",
        "\t\tindex = first (mat[i], 0, C-1)\n",
        "\t\tif (index != -1 and C-index > Max):\n",
        "\t\t\tMax = C - index;\n",
        "\t\t\tmax_row_index = i\n",
        "\n",
        "\treturn max_row_index\n",
        "\n",
        "# Driver Code\n",
        "mat = [[0, 0, 0, 1],\n",
        "\t[0, 1, 1, 1],\n",
        "\t[1, 1, 1, 1],\n",
        "\t[0, 0, 0, 0]]\n",
        "print(\"Index of row with maximum 1s is \" + str(rowWithMax1s(mat)))"
      ],
      "metadata": {
        "colab": {
          "base_uri": "https://localhost:8080/"
        },
        "id": "ksViLgL4ngqS",
        "outputId": "61e4dcfc-3a26-4fd1-9f40-54ec1351bc3a"
      },
      "execution_count": null,
      "outputs": [
        {
          "output_type": "stream",
          "name": "stdout",
          "text": [
            "Index of row with maximum 1s is 2\n"
          ]
        }
      ]
    },
    {
      "cell_type": "markdown",
      "source": [
        "Print elements in sorted order using row-column wise sorted matrix"
      ],
      "metadata": {
        "id": "lUBRoILruymv"
      }
    },
    {
      "cell_type": "code",
      "source": [
        "# Python 3 program to Print all elements\n",
        "# in sorted order from row and column\n",
        "# wise sorted matrix\n",
        "import sys\n",
        "\n",
        "INF = sys.maxsize\n",
        "N = 4\n",
        "\n",
        "# A utility function to youngify a Young\n",
        "# Tableau. This is different from standard\n",
        "# youngify. It assumes that the value at\n",
        "# mat[0][0] is infinite.\n",
        "def youngify(mat, i, j):\n",
        "\n",
        "\t# Find the values at down and\n",
        "\t# right sides of mat[i][j]\n",
        "\tdownVal = mat[i + 1][j] if (i + 1 < N) else INF\n",
        "\trightVal = mat[i][j + 1] if (j + 1 < N) else INF\n",
        "\n",
        "\t# If mat[i][j] is the down right\n",
        "\t# corner element, return\n",
        "\tif (downVal == INF and rightVal == INF):\n",
        "\t\treturn\n",
        "\n",
        "\t# Move the smaller of two values\n",
        "\t# (downVal and rightVal) to mat[i][j]\n",
        "\t# and recur for smaller value\n",
        "\tif (downVal < rightVal):\n",
        "\t\tmat[i][j] = downVal\n",
        "\t\tmat[i + 1][j] = INF\n",
        "\t\tyoungify(mat, i + 1, j)\n",
        "\t\n",
        "\telse:\n",
        "\t\tmat[i][j] = rightVal\n",
        "\t\tmat[i][j + 1] = INF\n",
        "\t\tyoungify(mat, i, j + 1)\n",
        "\n",
        "# A utility function to extract minimum\n",
        "# element from Young tableau\n",
        "def extractMin(mat):\n",
        "\n",
        "\tret = mat[0][0]\n",
        "\tmat[0][0] = INF\n",
        "\tyoungify(mat, 0, 0)\n",
        "\treturn ret\n",
        "\n",
        "# This function uses extractMin() to\n",
        "# print elements in sorted order\n",
        "def printSorted(mat):\n",
        "\t\t\n",
        "\tprint(\"Elements of matrix in sorted order n\")\n",
        "\ti = 0\n",
        "\twhile i < N * N:\n",
        "\t\tprint(extractMin(mat), end = \" \")\n",
        "\t\ti += 1\n",
        "\n",
        "# Driver Code\n",
        "if __name__ == \"__main__\":\n",
        "\t\n",
        "\tmat = [[10, 20, 30, 40],\n",
        "\t\t[15, 25, 35, 45],\n",
        "\t\t[27, 29, 37, 48],\n",
        "\t\t[32, 33, 39, 50]]\n",
        "\tprintSorted(mat)\n",
        "\n"
      ],
      "metadata": {
        "colab": {
          "base_uri": "https://localhost:8080/"
        },
        "id": "bhtlx4MxuzyY",
        "outputId": "2c3d1b27-22de-4d12-dfdb-dbab5dd6c89a"
      },
      "execution_count": null,
      "outputs": [
        {
          "output_type": "stream",
          "name": "stdout",
          "text": [
            "Elements of matrix in sorted order n\n",
            "10 15 20 25 27 29 30 32 33 35 37 39 40 45 48 50 "
          ]
        }
      ]
    },
    {
      "cell_type": "markdown",
      "source": [
        "Maximum size rectangle"
      ],
      "metadata": {
        "id": "jAZJrZbtu0jO"
      }
    },
    {
      "cell_type": "code",
      "source": [
        "# Python3 program to find largest rectangle\n",
        "# with all 1s in a binary matrix\n",
        "\n",
        "# Finds the maximum area under the\n",
        "# histogram represented\n",
        "# by histogram. See below article for details.\n",
        "\n",
        "\n",
        "class Solution():\n",
        "\tdef maxHist(self, row):\n",
        "\t\t# Create an empty stack. The stack holds\n",
        "\t\t# indexes of hist array / The bars stored\n",
        "\t\t# in stack are always in increasing order\n",
        "\t\t# of their heights.\n",
        "\t\tresult = []\n",
        "\n",
        "\t\t# Top of stack\n",
        "\t\ttop_val = 0\n",
        "\n",
        "\t\t# Initialize max area in current\n",
        "\t\tmax_area = 0\n",
        "\t\t# row (or histogram)\n",
        "\n",
        "\t\tarea = 0 # Initialize area with current top\n",
        "\n",
        "\t\t# Run through all bars of given\n",
        "\t\t# histogram (or row)\n",
        "\t\ti = 0\n",
        "\t\twhile (i < len(row)):\n",
        "\n",
        "\t\t\t# If this bar is higher than the\n",
        "\t\t\t# bar on top stack, push it to stack\n",
        "\t\t\tif (len(result) == 0) or (row[result[-1]] <= row[i]):\n",
        "\t\t\t\tresult.append(i)\n",
        "\t\t\t\ti += 1\n",
        "\t\t\telse:\n",
        "\n",
        "\t\t\t\t# If this bar is lower than top of stack,\n",
        "\t\t\t\t# then calculate area of rectangle with\n",
        "\t\t\t\t# stack top as the smallest (or minimum\n",
        "\t\t\t\t# height) bar. 'i' is 'right index' for\n",
        "\t\t\t\t# the top and element before top in stack\n",
        "\t\t\t\t# is 'left index'\n",
        "\t\t\t\ttop_val = row[result.pop()]\n",
        "\t\t\t\tarea = top_val * i\n",
        "\n",
        "\t\t\t\tif (len(result)):\n",
        "\t\t\t\t\tarea = top_val * (i - result[-1] - 1)\n",
        "\t\t\t\tmax_area = max(area, max_area)\n",
        "\n",
        "\t\t# Now pop the remaining bars from stack\n",
        "\t\t# and calculate area with every popped\n",
        "\t\t# bar as the smallest bar\n",
        "\t\twhile (len(result)):\n",
        "\t\t\ttop_val = row[result.pop()]\n",
        "\t\t\tarea = top_val * i\n",
        "\t\t\tif (len(result)):\n",
        "\t\t\t\tarea = top_val * (i - result[-1] - 1)\n",
        "\n",
        "\t\t\tmax_area = max(area, max_area)\n",
        "\n",
        "\t\treturn max_area\n",
        "\n",
        "\t# Returns area of the largest rectangle\n",
        "\t# with all 1s in A\n",
        "\tdef maxRectangle(self, A):\n",
        "\n",
        "\t\t# Calculate area for first row and\n",
        "\t\t# initialize it as result\n",
        "\t\tresult = self.maxHist(A[0])\n",
        "\n",
        "\t\t# iterate over row to find maximum rectangular\n",
        "\t\t# area considering each row as histogram\n",
        "\t\tfor i in range(1, len(A)):\n",
        "\n",
        "\t\t\tfor j in range(len(A[i])):\n",
        "\n",
        "\t\t\t\t# if A[i][j] is 1 then add A[i -1][j]\n",
        "\t\t\t\tif (A[i][j]):\n",
        "\t\t\t\t\tA[i][j] += A[i - 1][j]\n",
        "\n",
        "\t\t\t# Update result if area with current\n",
        "\t\t\t# row (as last row) of rectangle) is more\n",
        "\t\t\tresult = max(result, self.maxHist(A[i]))\n",
        "\n",
        "\t\treturn result\n",
        "\n",
        "\n",
        "# Driver Code\n",
        "if __name__ == '__main__':\n",
        "\tA = [[0, 1, 1, 0],\n",
        "\t\t[1, 1, 1, 1],\n",
        "\t\t[1, 1, 1, 1],\n",
        "\t\t[1, 1, 0, 0]]\n",
        "\tans = Solution()\n",
        "\n",
        "\tprint(\"Area of maximum rectangle is\",\n",
        "\t\tans.maxRectangle(A))\n",
        "\n"
      ],
      "metadata": {
        "colab": {
          "base_uri": "https://localhost:8080/"
        },
        "id": "A9fZxFUYu1Ts",
        "outputId": "2960f199-30b9-4dd2-8704-d314b344804c"
      },
      "execution_count": null,
      "outputs": [
        {
          "output_type": "stream",
          "name": "stdout",
          "text": [
            "Area of maximum rectangle is 8\n"
          ]
        }
      ]
    },
    {
      "cell_type": "markdown",
      "source": [
        "Find a specific pair in matrix"
      ],
      "metadata": {
        "id": "8-lyf26iu1y_"
      }
    },
    {
      "cell_type": "code",
      "source": [
        "# A Naive method to find maximum\n",
        "# value of mat[d][e] - mat[a][b]\n",
        "# such that d > a and e > b\n",
        "N = 5\n",
        "\n",
        "# The function returns maximum\n",
        "# value A(d,e) - A(a,b) over\n",
        "# all choices of indexes such\n",
        "# that both d > a and e > b.\n",
        "def findMaxValue(mat):\n",
        "\t\n",
        "\t# stores maximum value\n",
        "\tmaxValue = 0\n",
        "\n",
        "\t# Consider all possible pairs\n",
        "\t# mat[a][b] and mat[d][e]\n",
        "\tfor a in range(N - 1):\n",
        "\t\tfor b in range(N - 1):\n",
        "\t\t\tfor d in range(a + 1, N):\n",
        "\t\t\t\tfor e in range(b + 1, N):\n",
        "\t\t\t\t\tif maxValue < int (mat[d][e] -\n",
        "\t\t\t\t\t\t\t\t\tmat[a][b]):\n",
        "\t\t\t\t\t\tmaxValue = int(mat[d][e] -\n",
        "\t\t\t\t\t\t\t\t\tmat[a][b]);\n",
        "\n",
        "\treturn maxValue;\n",
        "\n",
        "# Driver Code\n",
        "mat = [[ 1, 2, -1, -4, -20 ],\n",
        "\t[ -8, -3, 4, 2, 1 ],\n",
        "\t[ 3, 8, 6, 1, 3 ],\n",
        "\t[ -4, -1, 1, 7, -6 ],\n",
        "\t[ 0, -4, 10, -5, 1 ]];\n",
        "\t\t\n",
        "print(\"Maximum Value is \" +\n",
        "\tstr(findMaxValue(mat)))\n",
        "\t\n"
      ],
      "metadata": {
        "colab": {
          "base_uri": "https://localhost:8080/"
        },
        "id": "uwQkOzDYu22h",
        "outputId": "8f8e1102-9ddb-46fa-aa81-17ff6b919ec5"
      },
      "execution_count": null,
      "outputs": [
        {
          "output_type": "stream",
          "name": "stdout",
          "text": [
            "Maximum Value is 18\n"
          ]
        }
      ]
    },
    {
      "cell_type": "markdown",
      "source": [
        "\n",
        "\n",
        "Rotate matrix by 90 degrees\n",
        "\n"
      ],
      "metadata": {
        "id": "PjhQsAgc-lW4"
      }
    },
    {
      "cell_type": "code",
      "source": [
        "# Function to rotate the matrix\n",
        "# 90 degree clockwise\n",
        "def rotate90Clockwise(A):\n",
        "\tN = len(A[0])\n",
        "\tfor i in range(N // 2):\n",
        "\t\tfor j in range(i, N - i - 1):\n",
        "\t\t\ttemp = A[i][j]\n",
        "\t\t\tA[i][j] = A[N - 1 - j][i]\n",
        "\t\t\tA[N - 1 - j][i] = A[N - 1 - i][N - 1 - j]\n",
        "\t\t\tA[N - 1 - i][N - 1 - j] = A[j][N - 1 - i]\n",
        "\t\t\tA[j][N - 1 - i] = temp\n",
        "\n",
        "# Function to print the matrix\n",
        "def printMatrix(A):\n",
        "\tN = len(A[0])\n",
        "\tfor i in range(N):\n",
        "\t\tprint(A[i])\n",
        "\n",
        "# Driver code\n",
        "A = [[1, 2, 3, 4],\n",
        "\t[5, 6, 7, 8],\n",
        "\t[9, 10, 11, 12],\n",
        "\t[13, 14, 15, 16]]\n",
        "rotate90Clockwise(A)\n",
        "printMatrix(A)"
      ],
      "metadata": {
        "colab": {
          "base_uri": "https://localhost:8080/"
        },
        "id": "nVgHoIgA-l4I",
        "outputId": "2e2761d6-f7a4-4b2e-cb5f-2f7d0d972af1"
      },
      "execution_count": null,
      "outputs": [
        {
          "output_type": "stream",
          "name": "stdout",
          "text": [
            "[13, 9, 5, 1]\n",
            "[14, 10, 6, 2]\n",
            "[15, 11, 7, 3]\n",
            "[16, 12, 8, 4]\n"
          ]
        }
      ]
    },
    {
      "cell_type": "markdown",
      "source": [
        "Kth smallest element in a row-cpumn wise sorted matrix"
      ],
      "metadata": {
        "id": "57uPr8ZD3cKO"
      }
    },
    {
      "cell_type": "code",
      "source": [
        "from sys import maxsize\n",
        "\n",
        "class HeapNode:\n",
        "    def __init__(self, val, r, c):\n",
        "        self.val = val\n",
        "        self.r = r\n",
        "        self.c = c\n",
        "\n",
        "def minHeapify(harr, i, heap_size):\n",
        "    l = i * 2 + 1\n",
        "    r = i * 2 + 2\n",
        "    smallest = i\n",
        "    if l < heap_size and harr[l].val < harr[smallest].val:\n",
        "        smallest = l\n",
        "    if r < heap_size and harr[r].val < harr[smallest].val:\n",
        "        smallest = r\n",
        "    if smallest != i:\n",
        "        harr[i], harr[smallest] = harr[smallest], harr[i]\n",
        "        minHeapify(harr, smallest, heap_size)\n",
        "\n",
        "def kthSmallest(mat, n, k):\n",
        "    if k < 0 or k > n * n:\n",
        "        return maxsize\n",
        "    harr = [0] * n\n",
        "    for i in range(n):\n",
        "        harr[i] = HeapNode(mat[0][i], 0, i)\n",
        "    for i in range(k):\n",
        "        hr = harr[0]\n",
        "        nextval = mat[hr.r + 1][hr.c] if hr.r < n - 1 else maxsize\n",
        "        harr[0] = HeapNode(nextval, hr.r + 1, hr.c)\n",
        "        minHeapify(harr, 0, n)\n",
        "    return hr.val\n",
        "\n",
        "if __name__ == \"__main__\":\n",
        "    mat = [        [10, 20, 30, 40],\n",
        "        [15, 25, 35, 45],\n",
        "        [25, 29, 37, 48],\n",
        "        [32, 33, 39, 50]\n",
        "    ]\n",
        "    print(\"7th smallest element is\", kthSmallest(mat, 4, 7))\n"
      ],
      "metadata": {
        "colab": {
          "base_uri": "https://localhost:8080/"
        },
        "id": "0P0ZIQGo4-I9",
        "outputId": "c8f50b77-f8fe-48eb-ba7c-68a6940089b0"
      },
      "execution_count": 3,
      "outputs": [
        {
          "output_type": "stream",
          "name": "stdout",
          "text": [
            "7th smallest element is 30\n"
          ]
        }
      ]
    },
    {
      "cell_type": "markdown",
      "source": [
        "Common elements in all rows of a given matrix"
      ],
      "metadata": {
        "id": "xSF_x0bk3dYV"
      }
    },
    {
      "cell_type": "code",
      "source": [
        "# A Program to prints common element\n",
        "# in all rows of matrix\n",
        "\n",
        "# Specify number of rows and columns\n",
        "M = 4\n",
        "N = 5\n",
        "\n",
        "# prints common element in all\n",
        "# rows of matrix\n",
        "def printCommonElements(mat):\n",
        "\n",
        "\tmp = dict()\n",
        "\n",
        "\t# initialize 1st row elements\n",
        "\t# with value 1\n",
        "\tfor j in range(N):\n",
        "\t\tmp[mat[0][j]] = 1\n",
        "\n",
        "\t# traverse the matrix\n",
        "\tfor i in range(1, M):\n",
        "\t\tfor j in range(N):\n",
        "\t\t\t\n",
        "\t\t\t# If element is present in the\n",
        "\t\t\t# map and is not duplicated in\n",
        "\t\t\t# current row.\n",
        "\t\t\tif (mat[i][j] in mp.keys() and\n",
        "\t\t\t\t\t\t\tmp[mat[i][j]] == i):\n",
        "\t\t\t\t\t\t\t\t\n",
        "\t\t\t# we increment count of the\n",
        "\t\t\t# element in map by 1\n",
        "\t\t\t\tmp[mat[i][j]] = i + 1\n",
        "\n",
        "\t\t\t\t# If this is last row\n",
        "\t\t\t\tif i == M - 1:\n",
        "\t\t\t\t\tprint(mat[i][j], end = \" \")\n",
        "\t\t\t\n",
        "# Driver Code\n",
        "mat = [[1, 2, 1, 4, 8],\n",
        "\t[3, 7, 8, 5, 1],\n",
        "\t[8, 7, 7, 3, 1],\n",
        "\t[8, 1, 2, 7, 9]]\n",
        "\n",
        "printCommonElements(mat)\n",
        "\n"
      ],
      "metadata": {
        "colab": {
          "base_uri": "https://localhost:8080/"
        },
        "id": "N-gO6Xhl3eY2",
        "outputId": "8cc213aa-ebab-468a-9baa-997a26ce85ea"
      },
      "execution_count": 4,
      "outputs": [
        {
          "output_type": "stream",
          "name": "stdout",
          "text": [
            "8 1 "
          ]
        }
      ]
    }
  ]
}