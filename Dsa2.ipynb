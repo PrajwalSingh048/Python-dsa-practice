{
  "nbformat": 4,
  "nbformat_minor": 0,
  "metadata": {
    "colab": {
      "provenance": [],
      "authorship_tag": "ABX9TyM70kmIr86zOiBzd4TmXwSI",
      "include_colab_link": true
    },
    "kernelspec": {
      "name": "python3",
      "display_name": "Python 3"
    },
    "language_info": {
      "name": "python"
    }
  },
  "cells": [
    {
      "cell_type": "markdown",
      "metadata": {
        "id": "view-in-github",
        "colab_type": "text"
      },
      "source": [
        "<a href=\"https://colab.research.google.com/github/PrajwalSingh048/Python-dsa-practice/blob/Dsa2/Dsa2.ipynb\" target=\"_parent\"><img src=\"https://colab.research.google.com/assets/colab-badge.svg\" alt=\"Open In Colab\"/></a>"
      ]
    },
    {
      "cell_type": "markdown",
      "source": [
        "Spiral traversal on a Matrix\n"
      ],
      "metadata": {
        "id": "bcX7PiLm-IOI"
      }
    },
    {
      "cell_type": "code",
      "execution_count": null,
      "metadata": {
        "colab": {
          "base_uri": "https://localhost:8080/"
        },
        "id": "3Tykrt7z9_MN",
        "outputId": "f713b192-4755-4201-9997-eb017a1e1e87"
      },
      "outputs": [
        {
          "output_type": "stream",
          "name": "stdout",
          "text": [
            "1 2 3 4 8 12 16 15 14 13 9 5 6 7 11 10 \n"
          ]
        }
      ],
      "source": [
        "# python3 program for the above approach\n",
        "\n",
        "\n",
        "def spiralOrder(matrix):\n",
        "\tans = []\n",
        "\n",
        "\tif (len(matrix) == 0):\n",
        "\t\treturn ans\n",
        "\n",
        "\tm = len(matrix)\n",
        "\tn = len(matrix[0])\n",
        "\tseen = [[0 for i in range(n)] for j in range(m)]\n",
        "\tdr = [0, 1, 0, -1]\n",
        "\tdc = [1, 0, -1, 0]\n",
        "\tx = 0\n",
        "\ty = 0\n",
        "\tdi = 0\n",
        "\n",
        "\t# Iterate from 0 to R * C - 1\n",
        "\tfor i in range(m * n):\n",
        "\t\tans.append(matrix[x][y])\n",
        "\t\tseen[x][y] = True\n",
        "\t\tcr = x + dr[di]\n",
        "\t\tcc = y + dc[di]\n",
        "\n",
        "\t\tif (0 <= cr and cr < m and 0 <= cc and cc < n and not(seen[cr][cc])):\n",
        "\t\t\tx = cr\n",
        "\t\t\ty = cc\n",
        "\t\telse:\n",
        "\t\t\tdi = (di + 1) % 4\n",
        "\t\t\tx += dr[di]\n",
        "\t\t\ty += dc[di]\n",
        "\treturn ans\n",
        "\n",
        "\n",
        "# Driver code\n",
        "if __name__ == \"__main__\":\n",
        "\ta = [[1, 2, 3, 4],\n",
        "\t\t[5, 6, 7, 8],\n",
        "\t\t[9, 10, 11, 12],\n",
        "\t\t[13, 14, 15, 16]]\n",
        "\n",
        "\t# Function call\n",
        "\tfor x in spiralOrder(a):\n",
        "\t\tprint(x, end=\" \")\n",
        "\tprint()\n"
      ]
    },
    {
      "cell_type": "markdown",
      "source": [
        "Search an element in a matriix"
      ],
      "metadata": {
        "id": "Zyuh520BEmx4"
      }
    },
    {
      "cell_type": "code",
      "source": [
        "# Python program to search an element in row-wise\n",
        "# and column-wise sorted matrix\n",
        "\n",
        "# Searches the element x in mat[][]. If the\n",
        "# element is found, then prints its position\n",
        "# and returns true, otherwise prints \"not found\"\n",
        "# and returns false\n",
        "\n",
        "\n",
        "def search(mat, n, x):\n",
        "\tif(n == 0):\n",
        "\t\treturn -1\n",
        "\n",
        "\t# Traverse through the matrix\n",
        "\tfor i in range(n):\n",
        "\t\tfor j in range(n):\n",
        "\n",
        "\t\t\t# If the element is found\n",
        "\t\t\tif(mat[i][j] == x):\n",
        "\t\t\t\tprint(\"Element found at (\", i, \",\", j, \")\")\n",
        "\t\t\t\treturn 1\n",
        "\n",
        "\tprint(\" Element not found\")\n",
        "\treturn 0\n",
        "\n",
        "\n",
        "# Driver code\n",
        "if __name__ == \"__main__\":\n",
        "\tmat = [[10, 20, 30, 40], [15, 25, 35, 45],\n",
        "\t\t[27, 29, 37, 48], [32, 33, 39, 50]]\n",
        "\n",
        "\t# Function call\n",
        "\tsearch(mat, 4, 29)\n",
        "\n"
      ],
      "metadata": {
        "colab": {
          "base_uri": "https://localhost:8080/"
        },
        "id": "3tDbDNVxEnn-",
        "outputId": "c0a986ec-c946-4a8d-f494-03c684a7eaa7"
      },
      "execution_count": null,
      "outputs": [
        {
          "output_type": "stream",
          "name": "stdout",
          "text": [
            "Element found at ( 2 , 1 )\n"
          ]
        }
      ]
    },
    {
      "cell_type": "markdown",
      "source": [
        "Find median in a row wise sorted matrix"
      ],
      "metadata": {
        "id": "YvkN495Xm8Xn"
      }
    },
    {
      "cell_type": "code",
      "source": [
        "# Python program to find median of matrix\n",
        "# sorted row wise\n",
        "\n",
        "from bisect import bisect_right as upper_bound\n",
        "\n",
        "MAX = 100;\n",
        "\n",
        "# Function to find median in the matrix\n",
        "def binaryMedian(m, r, d):\n",
        "\tmi = m[0][0]\n",
        "\tmx = 0\n",
        "\tfor i in range(r):\n",
        "\t\tif m[i][0] < mi:\n",
        "\t\t\tmi = m[i][0]\n",
        "\t\tif m[i][d-1] > mx :\n",
        "\t\t\tmx = m[i][d-1]\n",
        "\t\n",
        "\tdesired = (r * d + 1) // 2\n",
        "\t\n",
        "\twhile (mi < mx):\n",
        "\t\tmid = mi + (mx - mi) // 2\n",
        "\t\tplace = [0];\n",
        "\t\t\n",
        "\t\t# Find count of elements smaller than or equal to mid\n",
        "\t\tfor i in range(r):\n",
        "\t\t\tj = upper_bound(m[i], mid)\n",
        "\t\t\tplace[0] = place[0] + j\n",
        "\t\tif place[0] < desired:\n",
        "\t\t\tmi = mid + 1\n",
        "\t\telse:\n",
        "\t\t\tmx = mid\n",
        "\tprint (\"Median is\", mi)\n",
        "\treturn\n",
        "\t\n",
        "# Driver code\n",
        "r, d = 3, 3\n",
        "\n",
        "m = [ [1, 3, 5], [2, 6, 9], [3, 6, 9]]\n",
        "binaryMedian(m, r, d)\n",
        "\n"
      ],
      "metadata": {
        "colab": {
          "base_uri": "https://localhost:8080/"
        },
        "id": "OiDSbnUrm87N",
        "outputId": "4c19e026-8f91-4aa0-f572-555d3c6391cd"
      },
      "execution_count": 1,
      "outputs": [
        {
          "output_type": "stream",
          "name": "stdout",
          "text": [
            "Median is 5\n"
          ]
        }
      ]
    },
    {
      "cell_type": "markdown",
      "source": [
        "Find row with maximum no. of 1's"
      ],
      "metadata": {
        "id": "BWFLD5CQnfaI"
      }
    },
    {
      "cell_type": "code",
      "source": [
        "# Python implementation of the approach\n",
        "R,C = 4,4\n",
        "\n",
        "# Function to find the index of first index\n",
        "# of 1 in a boolean array arr\n",
        "def first(arr , low , high):\n",
        "\n",
        "\tif(high >= low):\n",
        "\n",
        "\t\t# Get the middle index\n",
        "\t\tmid = low + (high - low)//2\n",
        "\t\n",
        "\t\t# Check if the element at middle index is first 1\n",
        "\t\tif ( ( mid == 0 or arr[mid-1] == 0) and arr[mid] == 1):\n",
        "\t\t\treturn mid\n",
        "\t\n",
        "\t\t# If the element is 0, recur for right side\n",
        "\t\telif (arr[mid] == 0):\n",
        "\t\t\treturn first(arr, (mid + 1), high);\n",
        "\t\t\n",
        "\t\t# If element is not first 1, recur for left side\n",
        "\t\telse:\n",
        "\t\t\treturn first(arr, low, (mid -1));\n",
        "\n",
        "\treturn -1\n",
        "\n",
        "# Function that returns index of row\n",
        "# with maximum number of 1s.\n",
        "def rowWithMax1s(mat):\n",
        "\n",
        "\t# Initialize max values\n",
        "\tmax_row_index,Max = 0,-1\n",
        "\n",
        "\t# Traverse for each row and count number of 1s\n",
        "\t# by finding the index of first 1\n",
        "\tfor i in range(R):\n",
        "\n",
        "\t\tindex = first (mat[i], 0, C-1)\n",
        "\t\tif (index != -1 and C-index > Max):\n",
        "\t\t\tMax = C - index;\n",
        "\t\t\tmax_row_index = i\n",
        "\n",
        "\treturn max_row_index\n",
        "\n",
        "# Driver Code\n",
        "mat = [[0, 0, 0, 1],\n",
        "\t[0, 1, 1, 1],\n",
        "\t[1, 1, 1, 1],\n",
        "\t[0, 0, 0, 0]]\n",
        "print(\"Index of row with maximum 1s is \" + str(rowWithMax1s(mat)))"
      ],
      "metadata": {
        "colab": {
          "base_uri": "https://localhost:8080/"
        },
        "id": "ksViLgL4ngqS",
        "outputId": "61e4dcfc-3a26-4fd1-9f40-54ec1351bc3a"
      },
      "execution_count": 2,
      "outputs": [
        {
          "output_type": "stream",
          "name": "stdout",
          "text": [
            "Index of row with maximum 1s is 2\n"
          ]
        }
      ]
    }
  ]
}