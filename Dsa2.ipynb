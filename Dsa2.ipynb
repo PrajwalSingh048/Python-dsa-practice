{
  "nbformat": 4,
  "nbformat_minor": 0,
  "metadata": {
    "colab": {
      "provenance": [],
      "authorship_tag": "ABX9TyND62SImDtfERI18So+9519",
      "include_colab_link": true
    },
    "kernelspec": {
      "name": "python3",
      "display_name": "Python 3"
    },
    "language_info": {
      "name": "python"
    }
  },
  "cells": [
    {
      "cell_type": "markdown",
      "metadata": {
        "id": "view-in-github",
        "colab_type": "text"
      },
      "source": [
        "<a href=\"https://colab.research.google.com/github/PrajwalSingh048/Python-dsa-practice/blob/Dsa2/Dsa2.ipynb\" target=\"_parent\"><img src=\"https://colab.research.google.com/assets/colab-badge.svg\" alt=\"Open In Colab\"/></a>"
      ]
    },
    {
      "cell_type": "markdown",
      "source": [
        "Spiral traversal on a Matrix\n"
      ],
      "metadata": {
        "id": "bcX7PiLm-IOI"
      }
    },
    {
      "cell_type": "code",
      "execution_count": 1,
      "metadata": {
        "colab": {
          "base_uri": "https://localhost:8080/"
        },
        "id": "3Tykrt7z9_MN",
        "outputId": "f713b192-4755-4201-9997-eb017a1e1e87"
      },
      "outputs": [
        {
          "output_type": "stream",
          "name": "stdout",
          "text": [
            "1 2 3 4 8 12 16 15 14 13 9 5 6 7 11 10 \n"
          ]
        }
      ],
      "source": [
        "# python3 program for the above approach\n",
        "\n",
        "\n",
        "def spiralOrder(matrix):\n",
        "\tans = []\n",
        "\n",
        "\tif (len(matrix) == 0):\n",
        "\t\treturn ans\n",
        "\n",
        "\tm = len(matrix)\n",
        "\tn = len(matrix[0])\n",
        "\tseen = [[0 for i in range(n)] for j in range(m)]\n",
        "\tdr = [0, 1, 0, -1]\n",
        "\tdc = [1, 0, -1, 0]\n",
        "\tx = 0\n",
        "\ty = 0\n",
        "\tdi = 0\n",
        "\n",
        "\t# Iterate from 0 to R * C - 1\n",
        "\tfor i in range(m * n):\n",
        "\t\tans.append(matrix[x][y])\n",
        "\t\tseen[x][y] = True\n",
        "\t\tcr = x + dr[di]\n",
        "\t\tcc = y + dc[di]\n",
        "\n",
        "\t\tif (0 <= cr and cr < m and 0 <= cc and cc < n and not(seen[cr][cc])):\n",
        "\t\t\tx = cr\n",
        "\t\t\ty = cc\n",
        "\t\telse:\n",
        "\t\t\tdi = (di + 1) % 4\n",
        "\t\t\tx += dr[di]\n",
        "\t\t\ty += dc[di]\n",
        "\treturn ans\n",
        "\n",
        "\n",
        "# Driver code\n",
        "if __name__ == \"__main__\":\n",
        "\ta = [[1, 2, 3, 4],\n",
        "\t\t[5, 6, 7, 8],\n",
        "\t\t[9, 10, 11, 12],\n",
        "\t\t[13, 14, 15, 16]]\n",
        "\n",
        "\t# Function call\n",
        "\tfor x in spiralOrder(a):\n",
        "\t\tprint(x, end=\" \")\n",
        "\tprint()\n"
      ]
    }
  ]
}